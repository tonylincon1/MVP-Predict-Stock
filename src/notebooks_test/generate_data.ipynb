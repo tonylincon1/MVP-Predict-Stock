{
 "cells": [
  {
   "cell_type": "markdown",
   "id": "8468b3ab-4d56-4108-bf25-7f8c28b534d6",
   "metadata": {
    "jp-MarkdownHeadingCollapsed": true,
    "tags": []
   },
   "source": [
    "# Importando Bibliotecas"
   ]
  },
  {
   "cell_type": "code",
   "execution_count": 35,
   "id": "8a4c41b8-7861-4ebf-9179-88c73159f131",
   "metadata": {},
   "outputs": [],
   "source": [
    "import pandas as pd\n",
    "import sys\n",
    "sys.path.insert(1, '../predict_stock_mvp/pre_train/')\n",
    "import load_data\n",
    "import datetime\n",
    "from datetime import date, timedelta\n",
    "import random\n",
    "from tqdm import tqdm"
   ]
  },
  {
   "cell_type": "markdown",
   "id": "6a52fd3d-c8f3-41bb-861d-f792d134cc9d",
   "metadata": {
    "jp-MarkdownHeadingCollapsed": true,
    "tags": []
   },
   "source": [
    "# Carregando tabelas"
   ]
  },
  {
   "cell_type": "code",
   "execution_count": 18,
   "id": "e939f0b4-5a3d-43cc-a336-90e1446a09c7",
   "metadata": {},
   "outputs": [],
   "source": [
    "describe_data = load_data.conect_data.load_table('../../data/data_ingestion/', 'ingestion.itens_describe', 'csv')"
   ]
  },
  {
   "cell_type": "code",
   "execution_count": 19,
   "id": "4527c896-7b69-43d1-843e-179ecd1748b2",
   "metadata": {},
   "outputs": [],
   "source": [
    "input_data = load_data.conect_data.load_table('../../data/data_ingestion/', 'ingestion.itens_input', 'csv')"
   ]
  },
  {
   "cell_type": "code",
   "execution_count": 20,
   "id": "7595d1d4-7285-495a-921c-1bc84295d99a",
   "metadata": {},
   "outputs": [],
   "source": [
    "output_data = load_data.conect_data.load_table('../../data/data_ingestion/', 'ingestion.itens_output', 'csv')"
   ]
  },
  {
   "cell_type": "markdown",
   "id": "a27374c6-def0-4e8e-b2c2-c6118e0b2a23",
   "metadata": {
    "jp-MarkdownHeadingCollapsed": true,
    "tags": []
   },
   "source": [
    "# Definindo e transformando dados do mvp"
   ]
  },
  {
   "cell_type": "markdown",
   "id": "99a4df86-5194-4267-a415-9ec3c6809cab",
   "metadata": {
    "jp-MarkdownHeadingCollapsed": true,
    "tags": []
   },
   "source": [
    "## ingestion.itens_describe_mvp"
   ]
  },
  {
   "cell_type": "code",
   "execution_count": 21,
   "id": "5a7463b6-36c8-4dec-9676-68b268a452ec",
   "metadata": {},
   "outputs": [
    {
     "data": {
      "text/plain": [
       "array([101830121, 177940011, 105830164, ..., 156510086, 135690020,\n",
       "       103870021], dtype=int64)"
      ]
     },
     "execution_count": 21,
     "metadata": {},
     "output_type": "execute_result"
    }
   ],
   "source": [
    "describe_data.NUMERO_REGISTRO_PRODUTO.sample(2000).unique()"
   ]
  },
  {
   "cell_type": "code",
   "execution_count": 22,
   "id": "7ac28135-410e-41b3-aab5-77a86f4f6ce4",
   "metadata": {},
   "outputs": [],
   "source": [
    "itens_mvp = describe_data.NUMERO_REGISTRO_PRODUTO.sample(2000).unique().tolist()"
   ]
  },
  {
   "cell_type": "code",
   "execution_count": 23,
   "id": "3950f862-0908-4bad-b544-5f97ca5eacf6",
   "metadata": {},
   "outputs": [],
   "source": [
    "describe_data_mvp = describe_data[describe_data.NUMERO_REGISTRO_PRODUTO.isin(itens_mvp)]"
   ]
  },
  {
   "cell_type": "code",
   "execution_count": 24,
   "id": "41a66dea-72ea-4979-8718-f32cd2df544a",
   "metadata": {},
   "outputs": [
    {
     "data": {
      "text/html": [
       "<div>\n",
       "<style scoped>\n",
       "    .dataframe tbody tr th:only-of-type {\n",
       "        vertical-align: middle;\n",
       "    }\n",
       "\n",
       "    .dataframe tbody tr th {\n",
       "        vertical-align: top;\n",
       "    }\n",
       "\n",
       "    .dataframe thead th {\n",
       "        text-align: right;\n",
       "    }\n",
       "</style>\n",
       "<table border=\"1\" class=\"dataframe\">\n",
       "  <thead>\n",
       "    <tr style=\"text-align: right;\">\n",
       "      <th></th>\n",
       "      <th>NUMERO_REGISTRO_PRODUTO</th>\n",
       "      <th>IDENTIFICADOR_DO_ITEM</th>\n",
       "      <th>NOME_PRODUTO</th>\n",
       "      <th>TIPO_PRODUTO</th>\n",
       "      <th>CATEGORIA_REGULATORIA</th>\n",
       "      <th>CLASSE_TERAPEUTICA</th>\n",
       "    </tr>\n",
       "  </thead>\n",
       "  <tbody>\n",
       "    <tr>\n",
       "      <th>3</th>\n",
       "      <td>104730021</td>\n",
       "      <td>25025007821</td>\n",
       "      <td>ARNICA MONTANA</td>\n",
       "      <td>MEDICAMENTO</td>\n",
       "      <td>FITOTERÁPICO</td>\n",
       "      <td>FITOTERAPICO SIMPLES</td>\n",
       "    </tr>\n",
       "    <tr>\n",
       "      <th>45</th>\n",
       "      <td>183260387</td>\n",
       "      <td>25351412012</td>\n",
       "      <td>AAS PROTECT</td>\n",
       "      <td>MEDICAMENTO</td>\n",
       "      <td>SIMILAR</td>\n",
       "      <td>ANTIAGREGANTE PLAQUETARIO</td>\n",
       "    </tr>\n",
       "    <tr>\n",
       "      <th>49</th>\n",
       "      <td>105530222</td>\n",
       "      <td>25000000473</td>\n",
       "      <td>ABBOTTRACURIUM</td>\n",
       "      <td>MEDICAMENTO</td>\n",
       "      <td>SIMILAR</td>\n",
       "      <td>ANESTESICOS GERAIS INJETAVEIS</td>\n",
       "    </tr>\n",
       "    <tr>\n",
       "      <th>55</th>\n",
       "      <td>144930012</td>\n",
       "      <td>25351000183</td>\n",
       "      <td>ABEDERIL</td>\n",
       "      <td>MEDICAMENTO</td>\n",
       "      <td>SIMILAR</td>\n",
       "      <td>ANTINFLAMATORIOS E ANTIREUMATIOS-ASSOCS  MEDIC...</td>\n",
       "    </tr>\n",
       "    <tr>\n",
       "      <th>61</th>\n",
       "      <td>144930010</td>\n",
       "      <td>25351029908</td>\n",
       "      <td>ABERALGINA</td>\n",
       "      <td>MEDICAMENTO</td>\n",
       "      <td>SIMILAR</td>\n",
       "      <td>ANALGESICOS NAO NARCOTICOS</td>\n",
       "    </tr>\n",
       "  </tbody>\n",
       "</table>\n",
       "</div>"
      ],
      "text/plain": [
       "    NUMERO_REGISTRO_PRODUTO  IDENTIFICADOR_DO_ITEM     NOME_PRODUTO  \\\n",
       "3                 104730021            25025007821   ARNICA MONTANA   \n",
       "45                183260387            25351412012      AAS PROTECT   \n",
       "49                105530222            25000000473   ABBOTTRACURIUM   \n",
       "55                144930012            25351000183         ABEDERIL   \n",
       "61                144930010            25351029908       ABERALGINA   \n",
       "\n",
       "   TIPO_PRODUTO CATEGORIA_REGULATORIA  \\\n",
       "3   MEDICAMENTO          FITOTERÁPICO   \n",
       "45  MEDICAMENTO               SIMILAR   \n",
       "49  MEDICAMENTO               SIMILAR   \n",
       "55  MEDICAMENTO               SIMILAR   \n",
       "61  MEDICAMENTO               SIMILAR   \n",
       "\n",
       "                                   CLASSE_TERAPEUTICA  \n",
       "3                                FITOTERAPICO SIMPLES  \n",
       "45                          ANTIAGREGANTE PLAQUETARIO  \n",
       "49                      ANESTESICOS GERAIS INJETAVEIS  \n",
       "55  ANTINFLAMATORIOS E ANTIREUMATIOS-ASSOCS  MEDIC...  \n",
       "61                         ANALGESICOS NAO NARCOTICOS  "
      ]
     },
     "execution_count": 24,
     "metadata": {},
     "output_type": "execute_result"
    }
   ],
   "source": [
    "describe_data_mvp.head()"
   ]
  },
  {
   "cell_type": "code",
   "execution_count": 25,
   "id": "a3f80c51-af34-4afc-b922-48ee19da0f48",
   "metadata": {},
   "outputs": [
    {
     "name": "stdout",
     "output_type": "stream",
     "text": [
      "<class 'pandas.core.frame.DataFrame'>\n",
      "Int64Index: 2000 entries, 3 to 29833\n",
      "Data columns (total 6 columns):\n",
      " #   Column                   Non-Null Count  Dtype \n",
      "---  ------                   --------------  ----- \n",
      " 0   NUMERO_REGISTRO_PRODUTO  2000 non-null   int64 \n",
      " 1   IDENTIFICADOR_DO_ITEM    2000 non-null   int64 \n",
      " 2   NOME_PRODUTO             2000 non-null   object\n",
      " 3   TIPO_PRODUTO             2000 non-null   object\n",
      " 4   CATEGORIA_REGULATORIA    1866 non-null   object\n",
      " 5   CLASSE_TERAPEUTICA       1997 non-null   object\n",
      "dtypes: int64(2), object(4)\n",
      "memory usage: 109.4+ KB\n"
     ]
    }
   ],
   "source": [
    "describe_data_mvp.info()"
   ]
  },
  {
   "cell_type": "code",
   "execution_count": 26,
   "id": "0292e2bf-8813-44ff-b283-b66ff1e918fd",
   "metadata": {},
   "outputs": [
    {
     "data": {
      "text/plain": [
       "'save_sucess'"
      ]
     },
     "execution_count": 26,
     "metadata": {},
     "output_type": "execute_result"
    }
   ],
   "source": [
    "load_data.conect_data.save_table(describe_data_mvp, '../../data/data_ingestion/', 'ingestion.itens_describe_mvp', 'csv')"
   ]
  },
  {
   "cell_type": "markdown",
   "id": "40538f4a-7b9e-4e99-87ae-fd672551d666",
   "metadata": {
    "jp-MarkdownHeadingCollapsed": true,
    "tags": []
   },
   "source": [
    "## ingestion.itens_input_mvp"
   ]
  },
  {
   "cell_type": "code",
   "execution_count": 27,
   "id": "e78e35de-b248-4425-ad18-4baafc964317",
   "metadata": {},
   "outputs": [],
   "source": [
    "input_data_mvp = input_data[input_data.NUMERO_REGISTRO_PRODUTO.isin(itens_mvp)]"
   ]
  },
  {
   "cell_type": "code",
   "execution_count": 28,
   "id": "8049a57b-59cf-4706-be6f-3b1ca8764c82",
   "metadata": {},
   "outputs": [
    {
     "name": "stdout",
     "output_type": "stream",
     "text": [
      "<class 'pandas.core.frame.DataFrame'>\n",
      "Int64Index: 2000 entries, 3 to 29833\n",
      "Data columns (total 8 columns):\n",
      " #   Column                    Non-Null Count  Dtype  \n",
      "---  ------                    --------------  -----  \n",
      " 0   NUMERO_REGISTRO_PRODUTO   2000 non-null   int64  \n",
      " 1   IDENTIFICADOR_DO_ITEM     2000 non-null   int64  \n",
      " 2   NOME_PRODUTO              2000 non-null   object \n",
      " 3   DATA_DE_PEDIDO_DO_ITEM    0 non-null      float64\n",
      " 4   DATA_DE_ENTRADA_DO_ITEM   1991 non-null   object \n",
      " 5   DATA_VENCIMENTO_REGISTRO  1989 non-null   object \n",
      " 6   QUANTIDADE                0 non-null      float64\n",
      " 7   CUSTO_DE_AQUISIÇÃO        0 non-null      float64\n",
      "dtypes: float64(3), int64(2), object(3)\n",
      "memory usage: 140.6+ KB\n"
     ]
    }
   ],
   "source": [
    "input_data_mvp.info()"
   ]
  },
  {
   "cell_type": "code",
   "execution_count": 29,
   "id": "e637ae0e-df0b-409f-98cd-545545ce4837",
   "metadata": {},
   "outputs": [],
   "source": [
    "dates = pd.date_range('1/1/2020', periods=24, freq='M').values"
   ]
  },
  {
   "cell_type": "code",
   "execution_count": 30,
   "id": "4f83025c-1bd3-47d8-9f5d-08343b69de29",
   "metadata": {},
   "outputs": [
    {
     "data": {
      "text/plain": [
       "array(['2020-01-31T00:00:00.000000000', '2020-02-29T00:00:00.000000000',\n",
       "       '2020-03-31T00:00:00.000000000', '2020-04-30T00:00:00.000000000',\n",
       "       '2020-05-31T00:00:00.000000000', '2020-06-30T00:00:00.000000000',\n",
       "       '2020-07-31T00:00:00.000000000', '2020-08-31T00:00:00.000000000',\n",
       "       '2020-09-30T00:00:00.000000000', '2020-10-31T00:00:00.000000000',\n",
       "       '2020-11-30T00:00:00.000000000', '2020-12-31T00:00:00.000000000',\n",
       "       '2021-01-31T00:00:00.000000000', '2021-02-28T00:00:00.000000000',\n",
       "       '2021-03-31T00:00:00.000000000', '2021-04-30T00:00:00.000000000',\n",
       "       '2021-05-31T00:00:00.000000000', '2021-06-30T00:00:00.000000000',\n",
       "       '2021-07-31T00:00:00.000000000', '2021-08-31T00:00:00.000000000',\n",
       "       '2021-09-30T00:00:00.000000000', '2021-10-31T00:00:00.000000000',\n",
       "       '2021-11-30T00:00:00.000000000', '2021-12-31T00:00:00.000000000'],\n",
       "      dtype='datetime64[ns]')"
      ]
     },
     "execution_count": 30,
     "metadata": {},
     "output_type": "execute_result"
    }
   ],
   "source": [
    "dates"
   ]
  },
  {
   "cell_type": "code",
   "execution_count": 31,
   "id": "58e2f78e-8ee2-4a4b-854c-b2d9074f9fbb",
   "metadata": {},
   "outputs": [
    {
     "data": {
      "text/html": [
       "<div>\n",
       "<style scoped>\n",
       "    .dataframe tbody tr th:only-of-type {\n",
       "        vertical-align: middle;\n",
       "    }\n",
       "\n",
       "    .dataframe tbody tr th {\n",
       "        vertical-align: top;\n",
       "    }\n",
       "\n",
       "    .dataframe thead th {\n",
       "        text-align: right;\n",
       "    }\n",
       "</style>\n",
       "<table border=\"1\" class=\"dataframe\">\n",
       "  <thead>\n",
       "    <tr style=\"text-align: right;\">\n",
       "      <th></th>\n",
       "      <th>NUMERO_REGISTRO_PRODUTO</th>\n",
       "      <th>IDENTIFICADOR_DO_ITEM</th>\n",
       "      <th>NOME_PRODUTO</th>\n",
       "      <th>DATA_DE_PEDIDO_DO_ITEM</th>\n",
       "      <th>DATA_DE_ENTRADA_DO_ITEM</th>\n",
       "      <th>DATA_VENCIMENTO_REGISTRO</th>\n",
       "      <th>QUANTIDADE</th>\n",
       "      <th>CUSTO_DE_AQUISIÇÃO</th>\n",
       "    </tr>\n",
       "  </thead>\n",
       "  <tbody>\n",
       "    <tr>\n",
       "      <th>3</th>\n",
       "      <td>104730021</td>\n",
       "      <td>25025007821</td>\n",
       "      <td>ARNICA MONTANA</td>\n",
       "      <td>NaN</td>\n",
       "      <td>19/03/2002</td>\n",
       "      <td>01/03/2007</td>\n",
       "      <td>NaN</td>\n",
       "      <td>NaN</td>\n",
       "    </tr>\n",
       "    <tr>\n",
       "      <th>45</th>\n",
       "      <td>183260387</td>\n",
       "      <td>25351412012</td>\n",
       "      <td>AAS PROTECT</td>\n",
       "      <td>NaN</td>\n",
       "      <td>09/09/2019</td>\n",
       "      <td>01/11/2026</td>\n",
       "      <td>NaN</td>\n",
       "      <td>NaN</td>\n",
       "    </tr>\n",
       "    <tr>\n",
       "      <th>49</th>\n",
       "      <td>105530222</td>\n",
       "      <td>25000000473</td>\n",
       "      <td>ABBOTTRACURIUM</td>\n",
       "      <td>NaN</td>\n",
       "      <td>29/04/1998</td>\n",
       "      <td>01/04/2008</td>\n",
       "      <td>NaN</td>\n",
       "      <td>NaN</td>\n",
       "    </tr>\n",
       "    <tr>\n",
       "      <th>55</th>\n",
       "      <td>144930012</td>\n",
       "      <td>25351000183</td>\n",
       "      <td>ABEDERIL</td>\n",
       "      <td>NaN</td>\n",
       "      <td>21/06/2001</td>\n",
       "      <td>01/06/2011</td>\n",
       "      <td>NaN</td>\n",
       "      <td>NaN</td>\n",
       "    </tr>\n",
       "    <tr>\n",
       "      <th>61</th>\n",
       "      <td>144930010</td>\n",
       "      <td>25351029908</td>\n",
       "      <td>ABERALGINA</td>\n",
       "      <td>NaN</td>\n",
       "      <td>04/06/2001</td>\n",
       "      <td>01/06/2026</td>\n",
       "      <td>NaN</td>\n",
       "      <td>NaN</td>\n",
       "    </tr>\n",
       "  </tbody>\n",
       "</table>\n",
       "</div>"
      ],
      "text/plain": [
       "    NUMERO_REGISTRO_PRODUTO  IDENTIFICADOR_DO_ITEM     NOME_PRODUTO  \\\n",
       "3                 104730021            25025007821   ARNICA MONTANA   \n",
       "45                183260387            25351412012      AAS PROTECT   \n",
       "49                105530222            25000000473   ABBOTTRACURIUM   \n",
       "55                144930012            25351000183         ABEDERIL   \n",
       "61                144930010            25351029908       ABERALGINA   \n",
       "\n",
       "    DATA_DE_PEDIDO_DO_ITEM DATA_DE_ENTRADA_DO_ITEM DATA_VENCIMENTO_REGISTRO  \\\n",
       "3                      NaN              19/03/2002               01/03/2007   \n",
       "45                     NaN              09/09/2019               01/11/2026   \n",
       "49                     NaN              29/04/1998               01/04/2008   \n",
       "55                     NaN              21/06/2001               01/06/2011   \n",
       "61                     NaN              04/06/2001               01/06/2026   \n",
       "\n",
       "    QUANTIDADE  CUSTO_DE_AQUISIÇÃO  \n",
       "3          NaN                 NaN  \n",
       "45         NaN                 NaN  \n",
       "49         NaN                 NaN  \n",
       "55         NaN                 NaN  \n",
       "61         NaN                 NaN  "
      ]
     },
     "execution_count": 31,
     "metadata": {},
     "output_type": "execute_result"
    }
   ],
   "source": [
    "input_data_mvp.head()"
   ]
  },
  {
   "cell_type": "code",
   "execution_count": 36,
   "id": "3547b652-466b-4245-8dd4-f6c91da37be5",
   "metadata": {
    "tags": []
   },
   "outputs": [
    {
     "name": "stderr",
     "output_type": "stream",
     "text": [
      "  0%|                                                                                         | 0/2000 [00:00<?, ?it/s]C:\\Users\\anton\\AppData\\Local\\Temp\\ipykernel_13968\\366977952.py:5: SettingWithCopyWarning: \n",
      "A value is trying to be set on a copy of a slice from a DataFrame.\n",
      "Try using .loc[row_indexer,col_indexer] = value instead\n",
      "\n",
      "See the caveats in the documentation: https://pandas.pydata.org/pandas-docs/stable/user_guide/indexing.html#returning-a-view-versus-a-copy\n",
      "  data[\"DATA_DE_ENTRADA_DO_ITEM\"] = date\n",
      "100%|██████████████████████████████████████████████████████████████████████████████| 2000/2000 [08:05<00:00,  4.12it/s]\n"
     ]
    }
   ],
   "source": [
    "data_frame = pd.DataFrame(None, columns=input_data_mvp.columns)\n",
    "for product in tqdm(input_data_mvp.NUMERO_REGISTRO_PRODUTO):\n",
    "    data = input_data_mvp.query(f\"NUMERO_REGISTRO_PRODUTO == '{product}'\")\n",
    "    for date in dates:\n",
    "        data[\"DATA_DE_ENTRADA_DO_ITEM\"] = date\n",
    "        data_frame = pd.concat([data,data_frame])"
   ]
  },
  {
   "cell_type": "code",
   "execution_count": 37,
   "id": "7eb20ea6-b8ad-4d37-91b4-2cbe6804f167",
   "metadata": {},
   "outputs": [
    {
     "name": "stdout",
     "output_type": "stream",
     "text": [
      "<class 'pandas.core.frame.DataFrame'>\n",
      "Int64Index: 48000 entries, 29833 to 3\n",
      "Data columns (total 8 columns):\n",
      " #   Column                    Non-Null Count  Dtype         \n",
      "---  ------                    --------------  -----         \n",
      " 0   NUMERO_REGISTRO_PRODUTO   48000 non-null  object        \n",
      " 1   IDENTIFICADOR_DO_ITEM     48000 non-null  object        \n",
      " 2   NOME_PRODUTO              48000 non-null  object        \n",
      " 3   DATA_DE_PEDIDO_DO_ITEM    0 non-null      object        \n",
      " 4   DATA_DE_ENTRADA_DO_ITEM   48000 non-null  datetime64[ns]\n",
      " 5   DATA_VENCIMENTO_REGISTRO  47736 non-null  object        \n",
      " 6   QUANTIDADE                0 non-null      object        \n",
      " 7   CUSTO_DE_AQUISIÇÃO        0 non-null      object        \n",
      "dtypes: datetime64[ns](1), object(7)\n",
      "memory usage: 3.3+ MB\n"
     ]
    }
   ],
   "source": [
    "data_frame.info()"
   ]
  },
  {
   "cell_type": "code",
   "execution_count": 40,
   "id": "7405ef37-64fe-4c60-bc4e-9d8bd7f940d6",
   "metadata": {
    "tags": []
   },
   "outputs": [
    {
     "name": "stderr",
     "output_type": "stream",
     "text": [
      "100%|██████████████████████████████████████████████████████████████████████████████| 2000/2000 [00:20<00:00, 97.59it/s]\n"
     ]
    }
   ],
   "source": [
    "lista = []\n",
    "for product in tqdm(data_frame.NUMERO_REGISTRO_PRODUTO.unique()):\n",
    "    data = data_frame.query(f\"NUMERO_REGISTRO_PRODUTO == {product}\")\n",
    "    for idx, linha in data.iterrows():\n",
    "        fator_random_ini = random.randrange(1,50)\n",
    "        fator_random_sum = random.randrange(1,60)\n",
    "        lista.append(random.randrange(fator_random_ini,fator_random_ini+fator_random_sum))"
   ]
  },
  {
   "cell_type": "code",
   "execution_count": 41,
   "id": "c3589350-8c99-4165-9420-f88166a739b8",
   "metadata": {},
   "outputs": [
    {
     "data": {
      "text/plain": [
       "[47, 42, 67, 36, 22]"
      ]
     },
     "execution_count": 41,
     "metadata": {},
     "output_type": "execute_result"
    }
   ],
   "source": [
    "lista[:5]"
   ]
  },
  {
   "cell_type": "code",
   "execution_count": 42,
   "id": "9a870ef3-5351-4610-b959-f420ba3cc329",
   "metadata": {},
   "outputs": [],
   "source": [
    "data_frame[\"QUANTIDADE_ENTRADA\"] = lista"
   ]
  },
  {
   "cell_type": "code",
   "execution_count": 43,
   "id": "6efca452-4283-4708-9075-25687830ab1b",
   "metadata": {},
   "outputs": [
    {
     "data": {
      "text/html": [
       "<div>\n",
       "<style scoped>\n",
       "    .dataframe tbody tr th:only-of-type {\n",
       "        vertical-align: middle;\n",
       "    }\n",
       "\n",
       "    .dataframe tbody tr th {\n",
       "        vertical-align: top;\n",
       "    }\n",
       "\n",
       "    .dataframe thead th {\n",
       "        text-align: right;\n",
       "    }\n",
       "</style>\n",
       "<table border=\"1\" class=\"dataframe\">\n",
       "  <thead>\n",
       "    <tr style=\"text-align: right;\">\n",
       "      <th></th>\n",
       "      <th>NUMERO_REGISTRO_PRODUTO</th>\n",
       "      <th>IDENTIFICADOR_DO_ITEM</th>\n",
       "      <th>NOME_PRODUTO</th>\n",
       "      <th>DATA_DE_PEDIDO_DO_ITEM</th>\n",
       "      <th>DATA_DE_ENTRADA_DO_ITEM</th>\n",
       "      <th>DATA_VENCIMENTO_REGISTRO</th>\n",
       "      <th>QUANTIDADE</th>\n",
       "      <th>CUSTO_DE_AQUISIÇÃO</th>\n",
       "      <th>QUANTIDADE_ENTRADA</th>\n",
       "    </tr>\n",
       "  </thead>\n",
       "  <tbody>\n",
       "    <tr>\n",
       "      <th>29833</th>\n",
       "      <td>100850243</td>\n",
       "      <td>25351062205</td>\n",
       "      <td>BDEXBRAUN</td>\n",
       "      <td>NaN</td>\n",
       "      <td>2021-12-31</td>\n",
       "      <td>NaN</td>\n",
       "      <td>NaN</td>\n",
       "      <td>NaN</td>\n",
       "      <td>47</td>\n",
       "    </tr>\n",
       "    <tr>\n",
       "      <th>29833</th>\n",
       "      <td>100850243</td>\n",
       "      <td>25351062205</td>\n",
       "      <td>BDEXBRAUN</td>\n",
       "      <td>NaN</td>\n",
       "      <td>2021-11-30</td>\n",
       "      <td>NaN</td>\n",
       "      <td>NaN</td>\n",
       "      <td>NaN</td>\n",
       "      <td>42</td>\n",
       "    </tr>\n",
       "    <tr>\n",
       "      <th>29833</th>\n",
       "      <td>100850243</td>\n",
       "      <td>25351062205</td>\n",
       "      <td>BDEXBRAUN</td>\n",
       "      <td>NaN</td>\n",
       "      <td>2021-10-31</td>\n",
       "      <td>NaN</td>\n",
       "      <td>NaN</td>\n",
       "      <td>NaN</td>\n",
       "      <td>67</td>\n",
       "    </tr>\n",
       "    <tr>\n",
       "      <th>29833</th>\n",
       "      <td>100850243</td>\n",
       "      <td>25351062205</td>\n",
       "      <td>BDEXBRAUN</td>\n",
       "      <td>NaN</td>\n",
       "      <td>2021-09-30</td>\n",
       "      <td>NaN</td>\n",
       "      <td>NaN</td>\n",
       "      <td>NaN</td>\n",
       "      <td>36</td>\n",
       "    </tr>\n",
       "    <tr>\n",
       "      <th>29833</th>\n",
       "      <td>100850243</td>\n",
       "      <td>25351062205</td>\n",
       "      <td>BDEXBRAUN</td>\n",
       "      <td>NaN</td>\n",
       "      <td>2021-08-31</td>\n",
       "      <td>NaN</td>\n",
       "      <td>NaN</td>\n",
       "      <td>NaN</td>\n",
       "      <td>22</td>\n",
       "    </tr>\n",
       "  </tbody>\n",
       "</table>\n",
       "</div>"
      ],
      "text/plain": [
       "      NUMERO_REGISTRO_PRODUTO IDENTIFICADOR_DO_ITEM NOME_PRODUTO  \\\n",
       "29833               100850243           25351062205    BDEXBRAUN   \n",
       "29833               100850243           25351062205    BDEXBRAUN   \n",
       "29833               100850243           25351062205    BDEXBRAUN   \n",
       "29833               100850243           25351062205    BDEXBRAUN   \n",
       "29833               100850243           25351062205    BDEXBRAUN   \n",
       "\n",
       "      DATA_DE_PEDIDO_DO_ITEM DATA_DE_ENTRADA_DO_ITEM DATA_VENCIMENTO_REGISTRO  \\\n",
       "29833                    NaN              2021-12-31                      NaN   \n",
       "29833                    NaN              2021-11-30                      NaN   \n",
       "29833                    NaN              2021-10-31                      NaN   \n",
       "29833                    NaN              2021-09-30                      NaN   \n",
       "29833                    NaN              2021-08-31                      NaN   \n",
       "\n",
       "      QUANTIDADE CUSTO_DE_AQUISIÇÃO  QUANTIDADE_ENTRADA  \n",
       "29833        NaN                NaN                  47  \n",
       "29833        NaN                NaN                  42  \n",
       "29833        NaN                NaN                  67  \n",
       "29833        NaN                NaN                  36  \n",
       "29833        NaN                NaN                  22  "
      ]
     },
     "execution_count": 43,
     "metadata": {},
     "output_type": "execute_result"
    }
   ],
   "source": [
    "data_frame.head()"
   ]
  },
  {
   "cell_type": "code",
   "execution_count": 44,
   "id": "320aed3c-c299-4a37-a7fe-f1c064fa8e5f",
   "metadata": {},
   "outputs": [
    {
     "name": "stderr",
     "output_type": "stream",
     "text": [
      "100%|█████████████████████████████████████████████████████████████████████████████| 2000/2000 [00:19<00:00, 102.69it/s]\n"
     ]
    }
   ],
   "source": [
    "lista = []\n",
    "for product in tqdm(data_frame.NUMERO_REGISTRO_PRODUTO.unique()):\n",
    "    data = data_frame.query(f\"NUMERO_REGISTRO_PRODUTO == {product}\")\n",
    "    fator_random_ini = random.randrange(200,5000)\n",
    "    for idx, linha in data.iterrows():\n",
    "        lista.append(fator_random_ini)\n",
    "        \n",
    "data_frame[\"CUSTO_DE_AQUISICAO\"] = lista"
   ]
  },
  {
   "cell_type": "code",
   "execution_count": 45,
   "id": "706f120a-c948-43db-a88a-acc741712878",
   "metadata": {},
   "outputs": [
    {
     "data": {
      "text/html": [
       "<div>\n",
       "<style scoped>\n",
       "    .dataframe tbody tr th:only-of-type {\n",
       "        vertical-align: middle;\n",
       "    }\n",
       "\n",
       "    .dataframe tbody tr th {\n",
       "        vertical-align: top;\n",
       "    }\n",
       "\n",
       "    .dataframe thead th {\n",
       "        text-align: right;\n",
       "    }\n",
       "</style>\n",
       "<table border=\"1\" class=\"dataframe\">\n",
       "  <thead>\n",
       "    <tr style=\"text-align: right;\">\n",
       "      <th></th>\n",
       "      <th>NUMERO_REGISTRO_PRODUTO</th>\n",
       "      <th>IDENTIFICADOR_DO_ITEM</th>\n",
       "      <th>NOME_PRODUTO</th>\n",
       "      <th>DATA_DE_PEDIDO_DO_ITEM</th>\n",
       "      <th>DATA_DE_ENTRADA_DO_ITEM</th>\n",
       "      <th>DATA_VENCIMENTO_REGISTRO</th>\n",
       "      <th>QUANTIDADE</th>\n",
       "      <th>CUSTO_DE_AQUISIÇÃO</th>\n",
       "      <th>QUANTIDADE_ENTRADA</th>\n",
       "      <th>CUSTO_DE_AQUISICAO</th>\n",
       "    </tr>\n",
       "  </thead>\n",
       "  <tbody>\n",
       "    <tr>\n",
       "      <th>29833</th>\n",
       "      <td>100850243</td>\n",
       "      <td>25351062205</td>\n",
       "      <td>BDEXBRAUN</td>\n",
       "      <td>NaN</td>\n",
       "      <td>2021-12-31</td>\n",
       "      <td>NaN</td>\n",
       "      <td>NaN</td>\n",
       "      <td>NaN</td>\n",
       "      <td>47</td>\n",
       "      <td>913</td>\n",
       "    </tr>\n",
       "    <tr>\n",
       "      <th>29833</th>\n",
       "      <td>100850243</td>\n",
       "      <td>25351062205</td>\n",
       "      <td>BDEXBRAUN</td>\n",
       "      <td>NaN</td>\n",
       "      <td>2021-11-30</td>\n",
       "      <td>NaN</td>\n",
       "      <td>NaN</td>\n",
       "      <td>NaN</td>\n",
       "      <td>42</td>\n",
       "      <td>913</td>\n",
       "    </tr>\n",
       "    <tr>\n",
       "      <th>29833</th>\n",
       "      <td>100850243</td>\n",
       "      <td>25351062205</td>\n",
       "      <td>BDEXBRAUN</td>\n",
       "      <td>NaN</td>\n",
       "      <td>2021-10-31</td>\n",
       "      <td>NaN</td>\n",
       "      <td>NaN</td>\n",
       "      <td>NaN</td>\n",
       "      <td>67</td>\n",
       "      <td>913</td>\n",
       "    </tr>\n",
       "    <tr>\n",
       "      <th>29833</th>\n",
       "      <td>100850243</td>\n",
       "      <td>25351062205</td>\n",
       "      <td>BDEXBRAUN</td>\n",
       "      <td>NaN</td>\n",
       "      <td>2021-09-30</td>\n",
       "      <td>NaN</td>\n",
       "      <td>NaN</td>\n",
       "      <td>NaN</td>\n",
       "      <td>36</td>\n",
       "      <td>913</td>\n",
       "    </tr>\n",
       "    <tr>\n",
       "      <th>29833</th>\n",
       "      <td>100850243</td>\n",
       "      <td>25351062205</td>\n",
       "      <td>BDEXBRAUN</td>\n",
       "      <td>NaN</td>\n",
       "      <td>2021-08-31</td>\n",
       "      <td>NaN</td>\n",
       "      <td>NaN</td>\n",
       "      <td>NaN</td>\n",
       "      <td>22</td>\n",
       "      <td>913</td>\n",
       "    </tr>\n",
       "  </tbody>\n",
       "</table>\n",
       "</div>"
      ],
      "text/plain": [
       "      NUMERO_REGISTRO_PRODUTO IDENTIFICADOR_DO_ITEM NOME_PRODUTO  \\\n",
       "29833               100850243           25351062205    BDEXBRAUN   \n",
       "29833               100850243           25351062205    BDEXBRAUN   \n",
       "29833               100850243           25351062205    BDEXBRAUN   \n",
       "29833               100850243           25351062205    BDEXBRAUN   \n",
       "29833               100850243           25351062205    BDEXBRAUN   \n",
       "\n",
       "      DATA_DE_PEDIDO_DO_ITEM DATA_DE_ENTRADA_DO_ITEM DATA_VENCIMENTO_REGISTRO  \\\n",
       "29833                    NaN              2021-12-31                      NaN   \n",
       "29833                    NaN              2021-11-30                      NaN   \n",
       "29833                    NaN              2021-10-31                      NaN   \n",
       "29833                    NaN              2021-09-30                      NaN   \n",
       "29833                    NaN              2021-08-31                      NaN   \n",
       "\n",
       "      QUANTIDADE CUSTO_DE_AQUISIÇÃO  QUANTIDADE_ENTRADA  CUSTO_DE_AQUISICAO  \n",
       "29833        NaN                NaN                  47                 913  \n",
       "29833        NaN                NaN                  42                 913  \n",
       "29833        NaN                NaN                  67                 913  \n",
       "29833        NaN                NaN                  36                 913  \n",
       "29833        NaN                NaN                  22                 913  "
      ]
     },
     "execution_count": 45,
     "metadata": {},
     "output_type": "execute_result"
    }
   ],
   "source": [
    "data_frame.head()"
   ]
  },
  {
   "cell_type": "code",
   "execution_count": 47,
   "id": "863e7375-6257-4092-9644-d8d39765e60a",
   "metadata": {},
   "outputs": [
    {
     "name": "stderr",
     "output_type": "stream",
     "text": [
      "100%|█████████████████████████████████████████████████████████████████████████████| 2000/2000 [00:14<00:00, 134.78it/s]\n"
     ]
    }
   ],
   "source": [
    "vencimento = []\n",
    "for product in tqdm(data_frame.NUMERO_REGISTRO_PRODUTO.unique()):\n",
    "    data = data_frame.query(f\"NUMERO_REGISTRO_PRODUTO == {product}\")\n",
    "    time_random = random.randrange(30,180)\n",
    "    for n in data.DATA_DE_ENTRADA_DO_ITEM:\n",
    "        vencimento.append(n + timedelta(time_random))\n",
    "\n",
    "data_frame[\"DATA_VENCIMENTO\"] = vencimento"
   ]
  },
  {
   "cell_type": "code",
   "execution_count": 48,
   "id": "08949aee-d086-416d-be1d-181b0b94c422",
   "metadata": {},
   "outputs": [
    {
     "data": {
      "text/html": [
       "<div>\n",
       "<style scoped>\n",
       "    .dataframe tbody tr th:only-of-type {\n",
       "        vertical-align: middle;\n",
       "    }\n",
       "\n",
       "    .dataframe tbody tr th {\n",
       "        vertical-align: top;\n",
       "    }\n",
       "\n",
       "    .dataframe thead th {\n",
       "        text-align: right;\n",
       "    }\n",
       "</style>\n",
       "<table border=\"1\" class=\"dataframe\">\n",
       "  <thead>\n",
       "    <tr style=\"text-align: right;\">\n",
       "      <th></th>\n",
       "      <th>NUMERO_REGISTRO_PRODUTO</th>\n",
       "      <th>IDENTIFICADOR_DO_ITEM</th>\n",
       "      <th>NOME_PRODUTO</th>\n",
       "      <th>DATA_DE_PEDIDO_DO_ITEM</th>\n",
       "      <th>DATA_DE_ENTRADA_DO_ITEM</th>\n",
       "      <th>DATA_VENCIMENTO_REGISTRO</th>\n",
       "      <th>QUANTIDADE</th>\n",
       "      <th>CUSTO_DE_AQUISIÇÃO</th>\n",
       "      <th>QUANTIDADE_ENTRADA</th>\n",
       "      <th>CUSTO_DE_AQUISICAO</th>\n",
       "      <th>DATA_VENCIMENTO</th>\n",
       "    </tr>\n",
       "  </thead>\n",
       "  <tbody>\n",
       "    <tr>\n",
       "      <th>29833</th>\n",
       "      <td>100850243</td>\n",
       "      <td>25351062205</td>\n",
       "      <td>BDEXBRAUN</td>\n",
       "      <td>NaN</td>\n",
       "      <td>2021-12-31</td>\n",
       "      <td>NaN</td>\n",
       "      <td>NaN</td>\n",
       "      <td>NaN</td>\n",
       "      <td>47</td>\n",
       "      <td>913</td>\n",
       "      <td>2022-03-10</td>\n",
       "    </tr>\n",
       "    <tr>\n",
       "      <th>29833</th>\n",
       "      <td>100850243</td>\n",
       "      <td>25351062205</td>\n",
       "      <td>BDEXBRAUN</td>\n",
       "      <td>NaN</td>\n",
       "      <td>2021-11-30</td>\n",
       "      <td>NaN</td>\n",
       "      <td>NaN</td>\n",
       "      <td>NaN</td>\n",
       "      <td>42</td>\n",
       "      <td>913</td>\n",
       "      <td>2022-02-07</td>\n",
       "    </tr>\n",
       "    <tr>\n",
       "      <th>29833</th>\n",
       "      <td>100850243</td>\n",
       "      <td>25351062205</td>\n",
       "      <td>BDEXBRAUN</td>\n",
       "      <td>NaN</td>\n",
       "      <td>2021-10-31</td>\n",
       "      <td>NaN</td>\n",
       "      <td>NaN</td>\n",
       "      <td>NaN</td>\n",
       "      <td>67</td>\n",
       "      <td>913</td>\n",
       "      <td>2022-01-08</td>\n",
       "    </tr>\n",
       "    <tr>\n",
       "      <th>29833</th>\n",
       "      <td>100850243</td>\n",
       "      <td>25351062205</td>\n",
       "      <td>BDEXBRAUN</td>\n",
       "      <td>NaN</td>\n",
       "      <td>2021-09-30</td>\n",
       "      <td>NaN</td>\n",
       "      <td>NaN</td>\n",
       "      <td>NaN</td>\n",
       "      <td>36</td>\n",
       "      <td>913</td>\n",
       "      <td>2021-12-08</td>\n",
       "    </tr>\n",
       "    <tr>\n",
       "      <th>29833</th>\n",
       "      <td>100850243</td>\n",
       "      <td>25351062205</td>\n",
       "      <td>BDEXBRAUN</td>\n",
       "      <td>NaN</td>\n",
       "      <td>2021-08-31</td>\n",
       "      <td>NaN</td>\n",
       "      <td>NaN</td>\n",
       "      <td>NaN</td>\n",
       "      <td>22</td>\n",
       "      <td>913</td>\n",
       "      <td>2021-11-08</td>\n",
       "    </tr>\n",
       "  </tbody>\n",
       "</table>\n",
       "</div>"
      ],
      "text/plain": [
       "      NUMERO_REGISTRO_PRODUTO IDENTIFICADOR_DO_ITEM NOME_PRODUTO  \\\n",
       "29833               100850243           25351062205    BDEXBRAUN   \n",
       "29833               100850243           25351062205    BDEXBRAUN   \n",
       "29833               100850243           25351062205    BDEXBRAUN   \n",
       "29833               100850243           25351062205    BDEXBRAUN   \n",
       "29833               100850243           25351062205    BDEXBRAUN   \n",
       "\n",
       "      DATA_DE_PEDIDO_DO_ITEM DATA_DE_ENTRADA_DO_ITEM DATA_VENCIMENTO_REGISTRO  \\\n",
       "29833                    NaN              2021-12-31                      NaN   \n",
       "29833                    NaN              2021-11-30                      NaN   \n",
       "29833                    NaN              2021-10-31                      NaN   \n",
       "29833                    NaN              2021-09-30                      NaN   \n",
       "29833                    NaN              2021-08-31                      NaN   \n",
       "\n",
       "      QUANTIDADE CUSTO_DE_AQUISIÇÃO  QUANTIDADE_ENTRADA  CUSTO_DE_AQUISICAO  \\\n",
       "29833        NaN                NaN                  47                 913   \n",
       "29833        NaN                NaN                  42                 913   \n",
       "29833        NaN                NaN                  67                 913   \n",
       "29833        NaN                NaN                  36                 913   \n",
       "29833        NaN                NaN                  22                 913   \n",
       "\n",
       "      DATA_VENCIMENTO  \n",
       "29833      2022-03-10  \n",
       "29833      2022-02-07  \n",
       "29833      2022-01-08  \n",
       "29833      2021-12-08  \n",
       "29833      2021-11-08  "
      ]
     },
     "execution_count": 48,
     "metadata": {},
     "output_type": "execute_result"
    }
   ],
   "source": [
    "data_frame.head()"
   ]
  },
  {
   "cell_type": "code",
   "execution_count": 49,
   "id": "7615e4c0-0cfb-4360-9e93-1b53b725f80b",
   "metadata": {},
   "outputs": [
    {
     "name": "stderr",
     "output_type": "stream",
     "text": [
      "100%|█████████████████████████████████████████████████████████████████████████████| 2000/2000 [00:15<00:00, 126.61it/s]\n"
     ]
    }
   ],
   "source": [
    "pedido = []\n",
    "for product in tqdm(data_frame.NUMERO_REGISTRO_PRODUTO.unique()):\n",
    "    data = data_frame.query(f\"NUMERO_REGISTRO_PRODUTO == {product}\")\n",
    "    time_random = random.randrange(30,180)\n",
    "    for n in data.DATA_DE_ENTRADA_DO_ITEM:\n",
    "        pedido.append(n - timedelta(time_random))\n",
    "\n",
    "data_frame[\"DATA_DE_PEDIDO_DO_ITEM\"] = pedido"
   ]
  },
  {
   "cell_type": "code",
   "execution_count": 50,
   "id": "2d5f1d90-876e-48fb-b950-6338c89036c9",
   "metadata": {},
   "outputs": [
    {
     "data": {
      "text/html": [
       "<div>\n",
       "<style scoped>\n",
       "    .dataframe tbody tr th:only-of-type {\n",
       "        vertical-align: middle;\n",
       "    }\n",
       "\n",
       "    .dataframe tbody tr th {\n",
       "        vertical-align: top;\n",
       "    }\n",
       "\n",
       "    .dataframe thead th {\n",
       "        text-align: right;\n",
       "    }\n",
       "</style>\n",
       "<table border=\"1\" class=\"dataframe\">\n",
       "  <thead>\n",
       "    <tr style=\"text-align: right;\">\n",
       "      <th></th>\n",
       "      <th>NUMERO_REGISTRO_PRODUTO</th>\n",
       "      <th>IDENTIFICADOR_DO_ITEM</th>\n",
       "      <th>NOME_PRODUTO</th>\n",
       "      <th>DATA_DE_PEDIDO_DO_ITEM</th>\n",
       "      <th>DATA_DE_ENTRADA_DO_ITEM</th>\n",
       "      <th>DATA_VENCIMENTO_REGISTRO</th>\n",
       "      <th>QUANTIDADE</th>\n",
       "      <th>CUSTO_DE_AQUISIÇÃO</th>\n",
       "      <th>QUANTIDADE_ENTRADA</th>\n",
       "      <th>CUSTO_DE_AQUISICAO</th>\n",
       "      <th>DATA_VENCIMENTO</th>\n",
       "    </tr>\n",
       "  </thead>\n",
       "  <tbody>\n",
       "    <tr>\n",
       "      <th>29833</th>\n",
       "      <td>100850243</td>\n",
       "      <td>25351062205</td>\n",
       "      <td>BDEXBRAUN</td>\n",
       "      <td>2021-07-07</td>\n",
       "      <td>2021-12-31</td>\n",
       "      <td>NaN</td>\n",
       "      <td>NaN</td>\n",
       "      <td>NaN</td>\n",
       "      <td>47</td>\n",
       "      <td>913</td>\n",
       "      <td>2022-03-10</td>\n",
       "    </tr>\n",
       "    <tr>\n",
       "      <th>29833</th>\n",
       "      <td>100850243</td>\n",
       "      <td>25351062205</td>\n",
       "      <td>BDEXBRAUN</td>\n",
       "      <td>2021-06-06</td>\n",
       "      <td>2021-11-30</td>\n",
       "      <td>NaN</td>\n",
       "      <td>NaN</td>\n",
       "      <td>NaN</td>\n",
       "      <td>42</td>\n",
       "      <td>913</td>\n",
       "      <td>2022-02-07</td>\n",
       "    </tr>\n",
       "    <tr>\n",
       "      <th>29833</th>\n",
       "      <td>100850243</td>\n",
       "      <td>25351062205</td>\n",
       "      <td>BDEXBRAUN</td>\n",
       "      <td>2021-05-07</td>\n",
       "      <td>2021-10-31</td>\n",
       "      <td>NaN</td>\n",
       "      <td>NaN</td>\n",
       "      <td>NaN</td>\n",
       "      <td>67</td>\n",
       "      <td>913</td>\n",
       "      <td>2022-01-08</td>\n",
       "    </tr>\n",
       "    <tr>\n",
       "      <th>29833</th>\n",
       "      <td>100850243</td>\n",
       "      <td>25351062205</td>\n",
       "      <td>BDEXBRAUN</td>\n",
       "      <td>2021-04-06</td>\n",
       "      <td>2021-09-30</td>\n",
       "      <td>NaN</td>\n",
       "      <td>NaN</td>\n",
       "      <td>NaN</td>\n",
       "      <td>36</td>\n",
       "      <td>913</td>\n",
       "      <td>2021-12-08</td>\n",
       "    </tr>\n",
       "    <tr>\n",
       "      <th>29833</th>\n",
       "      <td>100850243</td>\n",
       "      <td>25351062205</td>\n",
       "      <td>BDEXBRAUN</td>\n",
       "      <td>2021-03-07</td>\n",
       "      <td>2021-08-31</td>\n",
       "      <td>NaN</td>\n",
       "      <td>NaN</td>\n",
       "      <td>NaN</td>\n",
       "      <td>22</td>\n",
       "      <td>913</td>\n",
       "      <td>2021-11-08</td>\n",
       "    </tr>\n",
       "  </tbody>\n",
       "</table>\n",
       "</div>"
      ],
      "text/plain": [
       "      NUMERO_REGISTRO_PRODUTO IDENTIFICADOR_DO_ITEM NOME_PRODUTO  \\\n",
       "29833               100850243           25351062205    BDEXBRAUN   \n",
       "29833               100850243           25351062205    BDEXBRAUN   \n",
       "29833               100850243           25351062205    BDEXBRAUN   \n",
       "29833               100850243           25351062205    BDEXBRAUN   \n",
       "29833               100850243           25351062205    BDEXBRAUN   \n",
       "\n",
       "      DATA_DE_PEDIDO_DO_ITEM DATA_DE_ENTRADA_DO_ITEM DATA_VENCIMENTO_REGISTRO  \\\n",
       "29833             2021-07-07              2021-12-31                      NaN   \n",
       "29833             2021-06-06              2021-11-30                      NaN   \n",
       "29833             2021-05-07              2021-10-31                      NaN   \n",
       "29833             2021-04-06              2021-09-30                      NaN   \n",
       "29833             2021-03-07              2021-08-31                      NaN   \n",
       "\n",
       "      QUANTIDADE CUSTO_DE_AQUISIÇÃO  QUANTIDADE_ENTRADA  CUSTO_DE_AQUISICAO  \\\n",
       "29833        NaN                NaN                  47                 913   \n",
       "29833        NaN                NaN                  42                 913   \n",
       "29833        NaN                NaN                  67                 913   \n",
       "29833        NaN                NaN                  36                 913   \n",
       "29833        NaN                NaN                  22                 913   \n",
       "\n",
       "      DATA_VENCIMENTO  \n",
       "29833      2022-03-10  \n",
       "29833      2022-02-07  \n",
       "29833      2022-01-08  \n",
       "29833      2021-12-08  \n",
       "29833      2021-11-08  "
      ]
     },
     "execution_count": 50,
     "metadata": {},
     "output_type": "execute_result"
    }
   ],
   "source": [
    "data_frame.head()"
   ]
  },
  {
   "cell_type": "code",
   "execution_count": 55,
   "id": "a3be2e53-bb92-4d1d-b355-4924cce4b14e",
   "metadata": {},
   "outputs": [
    {
     "name": "stdout",
     "output_type": "stream",
     "text": [
      "<class 'pandas.core.frame.DataFrame'>\n",
      "Int64Index: 48000 entries, 29833 to 3\n",
      "Data columns (total 9 columns):\n",
      " #   Column                    Non-Null Count  Dtype         \n",
      "---  ------                    --------------  -----         \n",
      " 0   NUMERO_REGISTRO_PRODUTO   48000 non-null  object        \n",
      " 1   IDENTIFICADOR_DO_ITEM     48000 non-null  object        \n",
      " 2   NOME_PRODUTO              48000 non-null  object        \n",
      " 3   DATA_DE_PEDIDO_DO_ITEM    48000 non-null  datetime64[ns]\n",
      " 4   DATA_DE_ENTRADA_DO_ITEM   48000 non-null  datetime64[ns]\n",
      " 5   DATA_VENCIMENTO_REGISTRO  47736 non-null  object        \n",
      " 6   QUANTIDADE_ENTRADA        48000 non-null  int64         \n",
      " 7   CUSTO_DE_AQUISICAO        48000 non-null  int64         \n",
      " 8   DATA_VENCIMENTO           48000 non-null  datetime64[ns]\n",
      "dtypes: datetime64[ns](3), int64(2), object(4)\n",
      "memory usage: 3.7+ MB\n"
     ]
    }
   ],
   "source": [
    "data_frame.info()"
   ]
  },
  {
   "cell_type": "code",
   "execution_count": 56,
   "id": "9c640e07-245f-4423-a975-30f1a6be90bb",
   "metadata": {},
   "outputs": [],
   "source": [
    "itens_input_mvp = data_frame\n",
    "itens_input_mvp = itens_input_mvp.sort_values(by=[\"NUMERO_REGISTRO_PRODUTO\",\"DATA_DE_ENTRADA_DO_ITEM\"])"
   ]
  },
  {
   "cell_type": "code",
   "execution_count": 57,
   "id": "731fc0e4-b01f-419c-bf13-02312547390a",
   "metadata": {},
   "outputs": [
    {
     "data": {
      "text/plain": [
       "'save_sucess'"
      ]
     },
     "execution_count": 57,
     "metadata": {},
     "output_type": "execute_result"
    }
   ],
   "source": [
    "load_data.conect_data.save_table(itens_input_mvp, '../../data/data_ingestion/', 'ingestion.itens_input_mvp', 'csv')"
   ]
  },
  {
   "cell_type": "markdown",
   "id": "b4cd36ee-98dd-4ce4-9d77-d3e9ef96d2f4",
   "metadata": {
    "jp-MarkdownHeadingCollapsed": true,
    "tags": []
   },
   "source": [
    "## ingestion.itens_output_mvp"
   ]
  },
  {
   "cell_type": "code",
   "execution_count": 58,
   "id": "5cf7b5a1-d28e-456d-8894-011741a1f378",
   "metadata": {},
   "outputs": [],
   "source": [
    "output_data_mvp = output_data[output_data.NUMERO_REGISTRO_PRODUTO.isin(itens_mvp)]"
   ]
  },
  {
   "cell_type": "code",
   "execution_count": 59,
   "id": "17d79e41-7cec-433b-ad54-be72d541b3c8",
   "metadata": {},
   "outputs": [
    {
     "data": {
      "text/html": [
       "<div>\n",
       "<style scoped>\n",
       "    .dataframe tbody tr th:only-of-type {\n",
       "        vertical-align: middle;\n",
       "    }\n",
       "\n",
       "    .dataframe tbody tr th {\n",
       "        vertical-align: top;\n",
       "    }\n",
       "\n",
       "    .dataframe thead th {\n",
       "        text-align: right;\n",
       "    }\n",
       "</style>\n",
       "<table border=\"1\" class=\"dataframe\">\n",
       "  <thead>\n",
       "    <tr style=\"text-align: right;\">\n",
       "      <th></th>\n",
       "      <th>NUMERO_REGISTRO_PRODUTO</th>\n",
       "      <th>IDENTIFICADOR_DO_ITEM</th>\n",
       "      <th>NOME_PRODUTO</th>\n",
       "      <th>DATA_DE_CONSUMO</th>\n",
       "      <th>QUANTIDADE</th>\n",
       "    </tr>\n",
       "  </thead>\n",
       "  <tbody>\n",
       "    <tr>\n",
       "      <th>3</th>\n",
       "      <td>104730021</td>\n",
       "      <td>25025007821</td>\n",
       "      <td>ARNICA MONTANA</td>\n",
       "      <td>NaN</td>\n",
       "      <td>NaN</td>\n",
       "    </tr>\n",
       "    <tr>\n",
       "      <th>45</th>\n",
       "      <td>183260387</td>\n",
       "      <td>25351412012</td>\n",
       "      <td>AAS PROTECT</td>\n",
       "      <td>NaN</td>\n",
       "      <td>NaN</td>\n",
       "    </tr>\n",
       "    <tr>\n",
       "      <th>49</th>\n",
       "      <td>105530222</td>\n",
       "      <td>25000000473</td>\n",
       "      <td>ABBOTTRACURIUM</td>\n",
       "      <td>NaN</td>\n",
       "      <td>NaN</td>\n",
       "    </tr>\n",
       "    <tr>\n",
       "      <th>55</th>\n",
       "      <td>144930012</td>\n",
       "      <td>25351000183</td>\n",
       "      <td>ABEDERIL</td>\n",
       "      <td>NaN</td>\n",
       "      <td>NaN</td>\n",
       "    </tr>\n",
       "    <tr>\n",
       "      <th>61</th>\n",
       "      <td>144930010</td>\n",
       "      <td>25351029908</td>\n",
       "      <td>ABERALGINA</td>\n",
       "      <td>NaN</td>\n",
       "      <td>NaN</td>\n",
       "    </tr>\n",
       "  </tbody>\n",
       "</table>\n",
       "</div>"
      ],
      "text/plain": [
       "    NUMERO_REGISTRO_PRODUTO  IDENTIFICADOR_DO_ITEM     NOME_PRODUTO  \\\n",
       "3                 104730021            25025007821   ARNICA MONTANA   \n",
       "45                183260387            25351412012      AAS PROTECT   \n",
       "49                105530222            25000000473   ABBOTTRACURIUM   \n",
       "55                144930012            25351000183         ABEDERIL   \n",
       "61                144930010            25351029908       ABERALGINA   \n",
       "\n",
       "    DATA_DE_CONSUMO  QUANTIDADE  \n",
       "3               NaN         NaN  \n",
       "45              NaN         NaN  \n",
       "49              NaN         NaN  \n",
       "55              NaN         NaN  \n",
       "61              NaN         NaN  "
      ]
     },
     "execution_count": 59,
     "metadata": {},
     "output_type": "execute_result"
    }
   ],
   "source": [
    "output_data_mvp.head()"
   ]
  },
  {
   "cell_type": "code",
   "execution_count": 60,
   "id": "d0af2831-0240-4175-8548-235df55f5a5c",
   "metadata": {},
   "outputs": [],
   "source": [
    "dates = pd.date_range('2/1/2020', periods=24, freq='M').values"
   ]
  },
  {
   "cell_type": "code",
   "execution_count": 61,
   "id": "682fa11d-f067-499d-abd1-14e10c37a5ac",
   "metadata": {
    "tags": []
   },
   "outputs": [
    {
     "name": "stderr",
     "output_type": "stream",
     "text": [
      "  0%|                                                                                         | 0/2000 [00:00<?, ?it/s]C:\\Users\\anton\\AppData\\Local\\Temp\\ipykernel_13968\\2228827052.py:5: SettingWithCopyWarning: \n",
      "A value is trying to be set on a copy of a slice from a DataFrame.\n",
      "Try using .loc[row_indexer,col_indexer] = value instead\n",
      "\n",
      "See the caveats in the documentation: https://pandas.pydata.org/pandas-docs/stable/user_guide/indexing.html#returning-a-view-versus-a-copy\n",
      "  data[\"DATA_DE_CONSUMO\"] = date\n",
      "100%|██████████████████████████████████████████████████████████████████████████████| 2000/2000 [04:30<00:00,  7.41it/s]\n"
     ]
    }
   ],
   "source": [
    "data_frame = pd.DataFrame(None, columns=output_data_mvp.columns)\n",
    "for product in tqdm(output_data_mvp.NUMERO_REGISTRO_PRODUTO):\n",
    "    data = output_data_mvp.query(f\"NUMERO_REGISTRO_PRODUTO == '{product}'\")\n",
    "    for date in dates:\n",
    "        data[\"DATA_DE_CONSUMO\"] = date\n",
    "        data_frame = pd.concat([data,data_frame])"
   ]
  },
  {
   "cell_type": "code",
   "execution_count": 62,
   "id": "bc9c71e3-09ee-4270-abde-b513cf0f1a55",
   "metadata": {},
   "outputs": [
    {
     "data": {
      "text/html": [
       "<div>\n",
       "<style scoped>\n",
       "    .dataframe tbody tr th:only-of-type {\n",
       "        vertical-align: middle;\n",
       "    }\n",
       "\n",
       "    .dataframe tbody tr th {\n",
       "        vertical-align: top;\n",
       "    }\n",
       "\n",
       "    .dataframe thead th {\n",
       "        text-align: right;\n",
       "    }\n",
       "</style>\n",
       "<table border=\"1\" class=\"dataframe\">\n",
       "  <thead>\n",
       "    <tr style=\"text-align: right;\">\n",
       "      <th></th>\n",
       "      <th>NUMERO_REGISTRO_PRODUTO</th>\n",
       "      <th>IDENTIFICADOR_DO_ITEM</th>\n",
       "      <th>NOME_PRODUTO</th>\n",
       "      <th>DATA_DE_CONSUMO</th>\n",
       "      <th>QUANTIDADE</th>\n",
       "    </tr>\n",
       "  </thead>\n",
       "  <tbody>\n",
       "    <tr>\n",
       "      <th>29833</th>\n",
       "      <td>100850243</td>\n",
       "      <td>25351062205</td>\n",
       "      <td>BDEXBRAUN</td>\n",
       "      <td>2022-01-31</td>\n",
       "      <td>NaN</td>\n",
       "    </tr>\n",
       "    <tr>\n",
       "      <th>29833</th>\n",
       "      <td>100850243</td>\n",
       "      <td>25351062205</td>\n",
       "      <td>BDEXBRAUN</td>\n",
       "      <td>2021-12-31</td>\n",
       "      <td>NaN</td>\n",
       "    </tr>\n",
       "    <tr>\n",
       "      <th>29833</th>\n",
       "      <td>100850243</td>\n",
       "      <td>25351062205</td>\n",
       "      <td>BDEXBRAUN</td>\n",
       "      <td>2021-11-30</td>\n",
       "      <td>NaN</td>\n",
       "    </tr>\n",
       "    <tr>\n",
       "      <th>29833</th>\n",
       "      <td>100850243</td>\n",
       "      <td>25351062205</td>\n",
       "      <td>BDEXBRAUN</td>\n",
       "      <td>2021-10-31</td>\n",
       "      <td>NaN</td>\n",
       "    </tr>\n",
       "    <tr>\n",
       "      <th>29833</th>\n",
       "      <td>100850243</td>\n",
       "      <td>25351062205</td>\n",
       "      <td>BDEXBRAUN</td>\n",
       "      <td>2021-09-30</td>\n",
       "      <td>NaN</td>\n",
       "    </tr>\n",
       "  </tbody>\n",
       "</table>\n",
       "</div>"
      ],
      "text/plain": [
       "      NUMERO_REGISTRO_PRODUTO IDENTIFICADOR_DO_ITEM NOME_PRODUTO  \\\n",
       "29833               100850243           25351062205    BDEXBRAUN   \n",
       "29833               100850243           25351062205    BDEXBRAUN   \n",
       "29833               100850243           25351062205    BDEXBRAUN   \n",
       "29833               100850243           25351062205    BDEXBRAUN   \n",
       "29833               100850243           25351062205    BDEXBRAUN   \n",
       "\n",
       "      DATA_DE_CONSUMO QUANTIDADE  \n",
       "29833      2022-01-31        NaN  \n",
       "29833      2021-12-31        NaN  \n",
       "29833      2021-11-30        NaN  \n",
       "29833      2021-10-31        NaN  \n",
       "29833      2021-09-30        NaN  "
      ]
     },
     "execution_count": 62,
     "metadata": {},
     "output_type": "execute_result"
    }
   ],
   "source": [
    "data_frame.head()"
   ]
  },
  {
   "cell_type": "code",
   "execution_count": 63,
   "id": "eb26c3e5-4334-4242-b6d7-0e149dd7bfa1",
   "metadata": {},
   "outputs": [],
   "source": [
    "data_frame = data_frame.sort_values(by=[\"NUMERO_REGISTRO_PRODUTO\",\"DATA_DE_CONSUMO\"])"
   ]
  },
  {
   "cell_type": "code",
   "execution_count": 64,
   "id": "f40e60e9-c436-40c2-a62e-54d5c3a383ec",
   "metadata": {},
   "outputs": [
    {
     "data": {
      "text/html": [
       "<div>\n",
       "<style scoped>\n",
       "    .dataframe tbody tr th:only-of-type {\n",
       "        vertical-align: middle;\n",
       "    }\n",
       "\n",
       "    .dataframe tbody tr th {\n",
       "        vertical-align: top;\n",
       "    }\n",
       "\n",
       "    .dataframe thead th {\n",
       "        text-align: right;\n",
       "    }\n",
       "</style>\n",
       "<table border=\"1\" class=\"dataframe\">\n",
       "  <thead>\n",
       "    <tr style=\"text-align: right;\">\n",
       "      <th></th>\n",
       "      <th>NUMERO_REGISTRO_PRODUTO</th>\n",
       "      <th>IDENTIFICADOR_DO_ITEM</th>\n",
       "      <th>NOME_PRODUTO</th>\n",
       "      <th>DATA_DE_CONSUMO</th>\n",
       "      <th>QUANTIDADE</th>\n",
       "    </tr>\n",
       "  </thead>\n",
       "  <tbody>\n",
       "    <tr>\n",
       "      <th>3088</th>\n",
       "      <td>10277002</td>\n",
       "      <td>25991014035</td>\n",
       "      <td>BILAGOGO</td>\n",
       "      <td>2020-02-29</td>\n",
       "      <td>NaN</td>\n",
       "    </tr>\n",
       "    <tr>\n",
       "      <th>3088</th>\n",
       "      <td>10277002</td>\n",
       "      <td>25991014035</td>\n",
       "      <td>BILAGOGO</td>\n",
       "      <td>2020-03-31</td>\n",
       "      <td>NaN</td>\n",
       "    </tr>\n",
       "    <tr>\n",
       "      <th>3088</th>\n",
       "      <td>10277002</td>\n",
       "      <td>25991014035</td>\n",
       "      <td>BILAGOGO</td>\n",
       "      <td>2020-04-30</td>\n",
       "      <td>NaN</td>\n",
       "    </tr>\n",
       "    <tr>\n",
       "      <th>3088</th>\n",
       "      <td>10277002</td>\n",
       "      <td>25991014035</td>\n",
       "      <td>BILAGOGO</td>\n",
       "      <td>2020-05-31</td>\n",
       "      <td>NaN</td>\n",
       "    </tr>\n",
       "    <tr>\n",
       "      <th>3088</th>\n",
       "      <td>10277002</td>\n",
       "      <td>25991014035</td>\n",
       "      <td>BILAGOGO</td>\n",
       "      <td>2020-06-30</td>\n",
       "      <td>NaN</td>\n",
       "    </tr>\n",
       "  </tbody>\n",
       "</table>\n",
       "</div>"
      ],
      "text/plain": [
       "     NUMERO_REGISTRO_PRODUTO IDENTIFICADOR_DO_ITEM NOME_PRODUTO  \\\n",
       "3088                10277002           25991014035     BILAGOGO   \n",
       "3088                10277002           25991014035     BILAGOGO   \n",
       "3088                10277002           25991014035     BILAGOGO   \n",
       "3088                10277002           25991014035     BILAGOGO   \n",
       "3088                10277002           25991014035     BILAGOGO   \n",
       "\n",
       "     DATA_DE_CONSUMO QUANTIDADE  \n",
       "3088      2020-02-29        NaN  \n",
       "3088      2020-03-31        NaN  \n",
       "3088      2020-04-30        NaN  \n",
       "3088      2020-05-31        NaN  \n",
       "3088      2020-06-30        NaN  "
      ]
     },
     "execution_count": 64,
     "metadata": {},
     "output_type": "execute_result"
    }
   ],
   "source": [
    "data_frame.head()"
   ]
  },
  {
   "cell_type": "code",
   "execution_count": 65,
   "id": "df104034-1cb2-4d30-a1e2-e5153080f545",
   "metadata": {},
   "outputs": [
    {
     "data": {
      "text/html": [
       "<div>\n",
       "<style scoped>\n",
       "    .dataframe tbody tr th:only-of-type {\n",
       "        vertical-align: middle;\n",
       "    }\n",
       "\n",
       "    .dataframe tbody tr th {\n",
       "        vertical-align: top;\n",
       "    }\n",
       "\n",
       "    .dataframe thead th {\n",
       "        text-align: right;\n",
       "    }\n",
       "</style>\n",
       "<table border=\"1\" class=\"dataframe\">\n",
       "  <thead>\n",
       "    <tr style=\"text-align: right;\">\n",
       "      <th></th>\n",
       "      <th>NUMERO_REGISTRO_PRODUTO</th>\n",
       "      <th>IDENTIFICADOR_DO_ITEM</th>\n",
       "      <th>NOME_PRODUTO</th>\n",
       "      <th>DATA_DE_PEDIDO_DO_ITEM</th>\n",
       "      <th>DATA_DE_ENTRADA_DO_ITEM</th>\n",
       "      <th>DATA_VENCIMENTO_REGISTRO</th>\n",
       "      <th>QUANTIDADE_ENTRADA</th>\n",
       "      <th>CUSTO_DE_AQUISICAO</th>\n",
       "      <th>DATA_VENCIMENTO</th>\n",
       "    </tr>\n",
       "  </thead>\n",
       "  <tbody>\n",
       "    <tr>\n",
       "      <th>3088</th>\n",
       "      <td>10277002</td>\n",
       "      <td>25991014035</td>\n",
       "      <td>BILAGOGO</td>\n",
       "      <td>2019-09-24</td>\n",
       "      <td>2020-01-31</td>\n",
       "      <td>01/01/2005</td>\n",
       "      <td>49</td>\n",
       "      <td>3611</td>\n",
       "      <td>2020-05-22</td>\n",
       "    </tr>\n",
       "    <tr>\n",
       "      <th>3088</th>\n",
       "      <td>10277002</td>\n",
       "      <td>25991014035</td>\n",
       "      <td>BILAGOGO</td>\n",
       "      <td>2019-10-23</td>\n",
       "      <td>2020-02-29</td>\n",
       "      <td>01/01/2005</td>\n",
       "      <td>75</td>\n",
       "      <td>3611</td>\n",
       "      <td>2020-06-20</td>\n",
       "    </tr>\n",
       "    <tr>\n",
       "      <th>3088</th>\n",
       "      <td>10277002</td>\n",
       "      <td>25991014035</td>\n",
       "      <td>BILAGOGO</td>\n",
       "      <td>2019-11-23</td>\n",
       "      <td>2020-03-31</td>\n",
       "      <td>01/01/2005</td>\n",
       "      <td>72</td>\n",
       "      <td>3611</td>\n",
       "      <td>2020-07-21</td>\n",
       "    </tr>\n",
       "    <tr>\n",
       "      <th>3088</th>\n",
       "      <td>10277002</td>\n",
       "      <td>25991014035</td>\n",
       "      <td>BILAGOGO</td>\n",
       "      <td>2019-12-23</td>\n",
       "      <td>2020-04-30</td>\n",
       "      <td>01/01/2005</td>\n",
       "      <td>5</td>\n",
       "      <td>3611</td>\n",
       "      <td>2020-08-20</td>\n",
       "    </tr>\n",
       "    <tr>\n",
       "      <th>3088</th>\n",
       "      <td>10277002</td>\n",
       "      <td>25991014035</td>\n",
       "      <td>BILAGOGO</td>\n",
       "      <td>2020-01-23</td>\n",
       "      <td>2020-05-31</td>\n",
       "      <td>01/01/2005</td>\n",
       "      <td>34</td>\n",
       "      <td>3611</td>\n",
       "      <td>2020-09-20</td>\n",
       "    </tr>\n",
       "  </tbody>\n",
       "</table>\n",
       "</div>"
      ],
      "text/plain": [
       "     NUMERO_REGISTRO_PRODUTO IDENTIFICADOR_DO_ITEM NOME_PRODUTO  \\\n",
       "3088                10277002           25991014035     BILAGOGO   \n",
       "3088                10277002           25991014035     BILAGOGO   \n",
       "3088                10277002           25991014035     BILAGOGO   \n",
       "3088                10277002           25991014035     BILAGOGO   \n",
       "3088                10277002           25991014035     BILAGOGO   \n",
       "\n",
       "     DATA_DE_PEDIDO_DO_ITEM DATA_DE_ENTRADA_DO_ITEM DATA_VENCIMENTO_REGISTRO  \\\n",
       "3088             2019-09-24              2020-01-31               01/01/2005   \n",
       "3088             2019-10-23              2020-02-29               01/01/2005   \n",
       "3088             2019-11-23              2020-03-31               01/01/2005   \n",
       "3088             2019-12-23              2020-04-30               01/01/2005   \n",
       "3088             2020-01-23              2020-05-31               01/01/2005   \n",
       "\n",
       "      QUANTIDADE_ENTRADA  CUSTO_DE_AQUISICAO DATA_VENCIMENTO  \n",
       "3088                  49                3611      2020-05-22  \n",
       "3088                  75                3611      2020-06-20  \n",
       "3088                  72                3611      2020-07-21  \n",
       "3088                   5                3611      2020-08-20  \n",
       "3088                  34                3611      2020-09-20  "
      ]
     },
     "execution_count": 65,
     "metadata": {},
     "output_type": "execute_result"
    }
   ],
   "source": [
    "itens_input_mvp.head()"
   ]
  },
  {
   "cell_type": "code",
   "execution_count": 68,
   "id": "aa8c341c-ae1b-47ec-9077-1310c1f6f3df",
   "metadata": {
    "tags": []
   },
   "outputs": [
    {
     "name": "stderr",
     "output_type": "stream",
     "text": [
      "48000it [00:03, 14701.13it/s]\n"
     ]
    }
   ],
   "source": [
    "quantidade_saida = []\n",
    "for idx, product in tqdm(itens_input_mvp.iterrows()):\n",
    "    quantidade_saida.append(int(product.QUANTIDADE_ENTRADA * random.random()))\n",
    "    \n",
    "data_frame[\"QUANTIDADE_SAIDA\"] = quantidade_saida"
   ]
  },
  {
   "cell_type": "code",
   "execution_count": 69,
   "id": "78e40c3f-c358-43ae-9947-cc5c5ad11dd7",
   "metadata": {},
   "outputs": [
    {
     "data": {
      "text/html": [
       "<div>\n",
       "<style scoped>\n",
       "    .dataframe tbody tr th:only-of-type {\n",
       "        vertical-align: middle;\n",
       "    }\n",
       "\n",
       "    .dataframe tbody tr th {\n",
       "        vertical-align: top;\n",
       "    }\n",
       "\n",
       "    .dataframe thead th {\n",
       "        text-align: right;\n",
       "    }\n",
       "</style>\n",
       "<table border=\"1\" class=\"dataframe\">\n",
       "  <thead>\n",
       "    <tr style=\"text-align: right;\">\n",
       "      <th></th>\n",
       "      <th>NUMERO_REGISTRO_PRODUTO</th>\n",
       "      <th>IDENTIFICADOR_DO_ITEM</th>\n",
       "      <th>NOME_PRODUTO</th>\n",
       "      <th>DATA_DE_CONSUMO</th>\n",
       "      <th>QUANTIDADE</th>\n",
       "      <th>QUANTIDADE_SAIDA</th>\n",
       "    </tr>\n",
       "  </thead>\n",
       "  <tbody>\n",
       "    <tr>\n",
       "      <th>3088</th>\n",
       "      <td>10277002</td>\n",
       "      <td>25991014035</td>\n",
       "      <td>BILAGOGO</td>\n",
       "      <td>2020-02-29</td>\n",
       "      <td>43</td>\n",
       "      <td>21</td>\n",
       "    </tr>\n",
       "    <tr>\n",
       "      <th>3088</th>\n",
       "      <td>10277002</td>\n",
       "      <td>25991014035</td>\n",
       "      <td>BILAGOGO</td>\n",
       "      <td>2020-03-31</td>\n",
       "      <td>4</td>\n",
       "      <td>18</td>\n",
       "    </tr>\n",
       "    <tr>\n",
       "      <th>3088</th>\n",
       "      <td>10277002</td>\n",
       "      <td>25991014035</td>\n",
       "      <td>BILAGOGO</td>\n",
       "      <td>2020-04-30</td>\n",
       "      <td>69</td>\n",
       "      <td>56</td>\n",
       "    </tr>\n",
       "    <tr>\n",
       "      <th>3088</th>\n",
       "      <td>10277002</td>\n",
       "      <td>25991014035</td>\n",
       "      <td>BILAGOGO</td>\n",
       "      <td>2020-05-31</td>\n",
       "      <td>0</td>\n",
       "      <td>0</td>\n",
       "    </tr>\n",
       "    <tr>\n",
       "      <th>3088</th>\n",
       "      <td>10277002</td>\n",
       "      <td>25991014035</td>\n",
       "      <td>BILAGOGO</td>\n",
       "      <td>2020-06-30</td>\n",
       "      <td>0</td>\n",
       "      <td>21</td>\n",
       "    </tr>\n",
       "  </tbody>\n",
       "</table>\n",
       "</div>"
      ],
      "text/plain": [
       "     NUMERO_REGISTRO_PRODUTO IDENTIFICADOR_DO_ITEM NOME_PRODUTO  \\\n",
       "3088                10277002           25991014035     BILAGOGO   \n",
       "3088                10277002           25991014035     BILAGOGO   \n",
       "3088                10277002           25991014035     BILAGOGO   \n",
       "3088                10277002           25991014035     BILAGOGO   \n",
       "3088                10277002           25991014035     BILAGOGO   \n",
       "\n",
       "     DATA_DE_CONSUMO  QUANTIDADE  QUANTIDADE_SAIDA  \n",
       "3088      2020-02-29          43                21  \n",
       "3088      2020-03-31           4                18  \n",
       "3088      2020-04-30          69                56  \n",
       "3088      2020-05-31           0                 0  \n",
       "3088      2020-06-30           0                21  "
      ]
     },
     "execution_count": 69,
     "metadata": {},
     "output_type": "execute_result"
    }
   ],
   "source": [
    "data_frame.head()"
   ]
  },
  {
   "cell_type": "code",
   "execution_count": 70,
   "id": "f9ab2cb1-a305-47df-8f7a-37adb5b5c7a7",
   "metadata": {},
   "outputs": [
    {
     "data": {
      "text/html": [
       "<div>\n",
       "<style scoped>\n",
       "    .dataframe tbody tr th:only-of-type {\n",
       "        vertical-align: middle;\n",
       "    }\n",
       "\n",
       "    .dataframe tbody tr th {\n",
       "        vertical-align: top;\n",
       "    }\n",
       "\n",
       "    .dataframe thead th {\n",
       "        text-align: right;\n",
       "    }\n",
       "</style>\n",
       "<table border=\"1\" class=\"dataframe\">\n",
       "  <thead>\n",
       "    <tr style=\"text-align: right;\">\n",
       "      <th></th>\n",
       "      <th>NUMERO_REGISTRO_PRODUTO</th>\n",
       "      <th>IDENTIFICADOR_DO_ITEM</th>\n",
       "      <th>NOME_PRODUTO</th>\n",
       "      <th>DATA_DE_PEDIDO_DO_ITEM</th>\n",
       "      <th>DATA_DE_ENTRADA_DO_ITEM</th>\n",
       "      <th>DATA_VENCIMENTO_REGISTRO</th>\n",
       "      <th>QUANTIDADE_ENTRADA</th>\n",
       "      <th>CUSTO_DE_AQUISICAO</th>\n",
       "      <th>DATA_VENCIMENTO</th>\n",
       "    </tr>\n",
       "  </thead>\n",
       "  <tbody>\n",
       "    <tr>\n",
       "      <th>3088</th>\n",
       "      <td>10277002</td>\n",
       "      <td>25991014035</td>\n",
       "      <td>BILAGOGO</td>\n",
       "      <td>2019-09-24</td>\n",
       "      <td>2020-01-31</td>\n",
       "      <td>01/01/2005</td>\n",
       "      <td>49</td>\n",
       "      <td>3611</td>\n",
       "      <td>2020-05-22</td>\n",
       "    </tr>\n",
       "    <tr>\n",
       "      <th>3088</th>\n",
       "      <td>10277002</td>\n",
       "      <td>25991014035</td>\n",
       "      <td>BILAGOGO</td>\n",
       "      <td>2019-10-23</td>\n",
       "      <td>2020-02-29</td>\n",
       "      <td>01/01/2005</td>\n",
       "      <td>75</td>\n",
       "      <td>3611</td>\n",
       "      <td>2020-06-20</td>\n",
       "    </tr>\n",
       "    <tr>\n",
       "      <th>3088</th>\n",
       "      <td>10277002</td>\n",
       "      <td>25991014035</td>\n",
       "      <td>BILAGOGO</td>\n",
       "      <td>2019-11-23</td>\n",
       "      <td>2020-03-31</td>\n",
       "      <td>01/01/2005</td>\n",
       "      <td>72</td>\n",
       "      <td>3611</td>\n",
       "      <td>2020-07-21</td>\n",
       "    </tr>\n",
       "    <tr>\n",
       "      <th>3088</th>\n",
       "      <td>10277002</td>\n",
       "      <td>25991014035</td>\n",
       "      <td>BILAGOGO</td>\n",
       "      <td>2019-12-23</td>\n",
       "      <td>2020-04-30</td>\n",
       "      <td>01/01/2005</td>\n",
       "      <td>5</td>\n",
       "      <td>3611</td>\n",
       "      <td>2020-08-20</td>\n",
       "    </tr>\n",
       "    <tr>\n",
       "      <th>3088</th>\n",
       "      <td>10277002</td>\n",
       "      <td>25991014035</td>\n",
       "      <td>BILAGOGO</td>\n",
       "      <td>2020-01-23</td>\n",
       "      <td>2020-05-31</td>\n",
       "      <td>01/01/2005</td>\n",
       "      <td>34</td>\n",
       "      <td>3611</td>\n",
       "      <td>2020-09-20</td>\n",
       "    </tr>\n",
       "  </tbody>\n",
       "</table>\n",
       "</div>"
      ],
      "text/plain": [
       "     NUMERO_REGISTRO_PRODUTO IDENTIFICADOR_DO_ITEM NOME_PRODUTO  \\\n",
       "3088                10277002           25991014035     BILAGOGO   \n",
       "3088                10277002           25991014035     BILAGOGO   \n",
       "3088                10277002           25991014035     BILAGOGO   \n",
       "3088                10277002           25991014035     BILAGOGO   \n",
       "3088                10277002           25991014035     BILAGOGO   \n",
       "\n",
       "     DATA_DE_PEDIDO_DO_ITEM DATA_DE_ENTRADA_DO_ITEM DATA_VENCIMENTO_REGISTRO  \\\n",
       "3088             2019-09-24              2020-01-31               01/01/2005   \n",
       "3088             2019-10-23              2020-02-29               01/01/2005   \n",
       "3088             2019-11-23              2020-03-31               01/01/2005   \n",
       "3088             2019-12-23              2020-04-30               01/01/2005   \n",
       "3088             2020-01-23              2020-05-31               01/01/2005   \n",
       "\n",
       "      QUANTIDADE_ENTRADA  CUSTO_DE_AQUISICAO DATA_VENCIMENTO  \n",
       "3088                  49                3611      2020-05-22  \n",
       "3088                  75                3611      2020-06-20  \n",
       "3088                  72                3611      2020-07-21  \n",
       "3088                   5                3611      2020-08-20  \n",
       "3088                  34                3611      2020-09-20  "
      ]
     },
     "execution_count": 70,
     "metadata": {},
     "output_type": "execute_result"
    }
   ],
   "source": [
    "itens_input_mvp.head()"
   ]
  },
  {
   "cell_type": "code",
   "execution_count": 74,
   "id": "38fa462b-6ae5-424f-958a-3ca2e2c520b3",
   "metadata": {},
   "outputs": [],
   "source": [
    "itens_output_mvp = data_frame"
   ]
  },
  {
   "cell_type": "code",
   "execution_count": 75,
   "id": "6066a373-fc42-4eb3-88bb-14e3c7f95844",
   "metadata": {},
   "outputs": [
    {
     "data": {
      "text/plain": [
       "'save_sucess'"
      ]
     },
     "execution_count": 75,
     "metadata": {},
     "output_type": "execute_result"
    }
   ],
   "source": [
    "load_data.conect_data.save_table(itens_output_mvp, '../../data/data_ingestion/', 'ingestion.itens_output_mvp', 'csv')"
   ]
  },
  {
   "cell_type": "code",
   "execution_count": null,
   "id": "6d0cd1da-72f0-4b8a-b75a-cdce453e3818",
   "metadata": {},
   "outputs": [],
   "source": []
  }
 ],
 "metadata": {
  "kernelspec": {
   "display_name": "Python 3 (ipykernel)",
   "language": "python",
   "name": "python3"
  },
  "language_info": {
   "codemirror_mode": {
    "name": "ipython",
    "version": 3
   },
   "file_extension": ".py",
   "mimetype": "text/x-python",
   "name": "python",
   "nbconvert_exporter": "python",
   "pygments_lexer": "ipython3",
   "version": "3.9.0"
  },
  "toc-autonumbering": true
 },
 "nbformat": 4,
 "nbformat_minor": 5
}
