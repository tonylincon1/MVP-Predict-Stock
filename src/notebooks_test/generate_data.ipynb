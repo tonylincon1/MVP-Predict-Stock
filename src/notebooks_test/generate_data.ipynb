{
 "cells": [
  {
   "cell_type": "markdown",
   "id": "8468b3ab-4d56-4108-bf25-7f8c28b534d6",
   "metadata": {
    "tags": []
   },
   "source": [
    "# Importando Bibliotecas"
   ]
  },
  {
   "cell_type": "code",
   "execution_count": 1,
   "id": "8a4c41b8-7861-4ebf-9179-88c73159f131",
   "metadata": {},
   "outputs": [],
   "source": [
    "import pandas as pd\n",
    "import sys\n",
    "sys.path.insert(1, '../predict_stock_mvp/pre_train/')\n",
    "import load_data\n",
    "import datetime\n",
    "from datetime import date, timedelta\n",
    "import random\n",
    "from tqdm import tqdm"
   ]
  },
  {
   "cell_type": "markdown",
   "id": "6a52fd3d-c8f3-41bb-861d-f792d134cc9d",
   "metadata": {
    "tags": []
   },
   "source": [
    "# Carregando tabelas"
   ]
  },
  {
   "cell_type": "code",
   "execution_count": 2,
   "id": "e939f0b4-5a3d-43cc-a336-90e1446a09c7",
   "metadata": {},
   "outputs": [],
   "source": [
    "describe_data = load_data.conect_data.load_table('../../data/data_ingestion/', 'ingestion.itens_describe', 'csv')"
   ]
  },
  {
   "cell_type": "code",
   "execution_count": 3,
   "id": "4527c896-7b69-43d1-843e-179ecd1748b2",
   "metadata": {},
   "outputs": [],
   "source": [
    "input_data = load_data.conect_data.load_table('../../data/data_ingestion/', 'ingestion.itens_input', 'csv')"
   ]
  },
  {
   "cell_type": "code",
   "execution_count": 4,
   "id": "7595d1d4-7285-495a-921c-1bc84295d99a",
   "metadata": {},
   "outputs": [],
   "source": [
    "output_data = load_data.conect_data.load_table('../../data/data_ingestion/', 'ingestion.itens_output', 'csv')"
   ]
  },
  {
   "cell_type": "markdown",
   "id": "a27374c6-def0-4e8e-b2c2-c6118e0b2a23",
   "metadata": {
    "tags": []
   },
   "source": [
    "# Definindo e transformando dados do mvp"
   ]
  },
  {
   "cell_type": "markdown",
   "id": "99a4df86-5194-4267-a415-9ec3c6809cab",
   "metadata": {
    "tags": []
   },
   "source": [
    "## ingestion.itens_describe_mvp"
   ]
  },
  {
   "cell_type": "code",
   "execution_count": 5,
   "id": "5a7463b6-36c8-4dec-9676-68b268a452ec",
   "metadata": {},
   "outputs": [
    {
     "data": {
      "text/plain": [
       "array([104910012, 116180273, 113000296, ..., 107150155, 142770037,\n",
       "       172870025], dtype=int64)"
      ]
     },
     "execution_count": 5,
     "metadata": {},
     "output_type": "execute_result"
    }
   ],
   "source": [
    "describe_data.NUMERO_REGISTRO_PRODUTO.sample(3000).unique()"
   ]
  },
  {
   "cell_type": "code",
   "execution_count": 6,
   "id": "7ac28135-410e-41b3-aab5-77a86f4f6ce4",
   "metadata": {},
   "outputs": [],
   "source": [
    "itens_mvp = describe_data.NUMERO_REGISTRO_PRODUTO.sample(3000).unique().tolist()"
   ]
  },
  {
   "cell_type": "code",
   "execution_count": 7,
   "id": "3950f862-0908-4bad-b544-5f97ca5eacf6",
   "metadata": {},
   "outputs": [],
   "source": [
    "describe_data_mvp = describe_data[describe_data.NUMERO_REGISTRO_PRODUTO.isin(itens_mvp)]"
   ]
  },
  {
   "cell_type": "code",
   "execution_count": 8,
   "id": "41a66dea-72ea-4979-8718-f32cd2df544a",
   "metadata": {},
   "outputs": [
    {
     "data": {
      "text/html": [
       "<div>\n",
       "<style scoped>\n",
       "    .dataframe tbody tr th:only-of-type {\n",
       "        vertical-align: middle;\n",
       "    }\n",
       "\n",
       "    .dataframe tbody tr th {\n",
       "        vertical-align: top;\n",
       "    }\n",
       "\n",
       "    .dataframe thead th {\n",
       "        text-align: right;\n",
       "    }\n",
       "</style>\n",
       "<table border=\"1\" class=\"dataframe\">\n",
       "  <thead>\n",
       "    <tr style=\"text-align: right;\">\n",
       "      <th></th>\n",
       "      <th>NUMERO_REGISTRO_PRODUTO</th>\n",
       "      <th>IDENTIFICADOR_DO_ITEM</th>\n",
       "      <th>NOME_PRODUTO</th>\n",
       "      <th>TIPO_PRODUTO</th>\n",
       "      <th>CATEGORIA_REGULATORIA</th>\n",
       "      <th>CLASSE_TERAPEUTICA</th>\n",
       "    </tr>\n",
       "  </thead>\n",
       "  <tbody>\n",
       "    <tr>\n",
       "      <th>2</th>\n",
       "      <td>100470305</td>\n",
       "      <td>25351022805</td>\n",
       "      <td>ALENDRONATO SODICO</td>\n",
       "      <td>MEDICAMENTO</td>\n",
       "      <td>SIMILAR</td>\n",
       "      <td>SUPRESSORES DA REABSORCAO OSSEA</td>\n",
       "    </tr>\n",
       "    <tr>\n",
       "      <th>22</th>\n",
       "      <td>105500142</td>\n",
       "      <td>25351019591</td>\n",
       "      <td>RABEPRAZOL SODICO</td>\n",
       "      <td>MEDICAMENTO</td>\n",
       "      <td>SIMILAR</td>\n",
       "      <td>ANTIULCEROSOS</td>\n",
       "    </tr>\n",
       "    <tr>\n",
       "      <th>37</th>\n",
       "      <td>105830361</td>\n",
       "      <td>25351213644</td>\n",
       "      <td>A SAÚDE DA MULHER</td>\n",
       "      <td>MEDICAMENTO</td>\n",
       "      <td>SIMILAR</td>\n",
       "      <td>ANTIESPASMODICOS E ANTICOLINERGICOS-ASSOC  MED...</td>\n",
       "    </tr>\n",
       "    <tr>\n",
       "      <th>43</th>\n",
       "      <td>120330280</td>\n",
       "      <td>25351353153</td>\n",
       "      <td>AAS PROTECT</td>\n",
       "      <td>MEDICAMENTO</td>\n",
       "      <td>SIMILAR</td>\n",
       "      <td>ANTIAGREGANTE PLAQUETARIO</td>\n",
       "    </tr>\n",
       "    <tr>\n",
       "      <th>55</th>\n",
       "      <td>144930012</td>\n",
       "      <td>25351000183</td>\n",
       "      <td>ABEDERIL</td>\n",
       "      <td>MEDICAMENTO</td>\n",
       "      <td>SIMILAR</td>\n",
       "      <td>ANTINFLAMATORIOS E ANTIREUMATIOS-ASSOCS  MEDIC...</td>\n",
       "    </tr>\n",
       "  </tbody>\n",
       "</table>\n",
       "</div>"
      ],
      "text/plain": [
       "    NUMERO_REGISTRO_PRODUTO  IDENTIFICADOR_DO_ITEM         NOME_PRODUTO  \\\n",
       "2                 100470305            25351022805   ALENDRONATO SODICO   \n",
       "22                105500142            25351019591    RABEPRAZOL SODICO   \n",
       "37                105830361            25351213644    A SAÚDE DA MULHER   \n",
       "43                120330280            25351353153          AAS PROTECT   \n",
       "55                144930012            25351000183             ABEDERIL   \n",
       "\n",
       "   TIPO_PRODUTO CATEGORIA_REGULATORIA  \\\n",
       "2   MEDICAMENTO               SIMILAR   \n",
       "22  MEDICAMENTO               SIMILAR   \n",
       "37  MEDICAMENTO               SIMILAR   \n",
       "43  MEDICAMENTO               SIMILAR   \n",
       "55  MEDICAMENTO               SIMILAR   \n",
       "\n",
       "                                   CLASSE_TERAPEUTICA  \n",
       "2                     SUPRESSORES DA REABSORCAO OSSEA  \n",
       "22                                      ANTIULCEROSOS  \n",
       "37  ANTIESPASMODICOS E ANTICOLINERGICOS-ASSOC  MED...  \n",
       "43                          ANTIAGREGANTE PLAQUETARIO  \n",
       "55  ANTINFLAMATORIOS E ANTIREUMATIOS-ASSOCS  MEDIC...  "
      ]
     },
     "execution_count": 8,
     "metadata": {},
     "output_type": "execute_result"
    }
   ],
   "source": [
    "describe_data_mvp.head()"
   ]
  },
  {
   "cell_type": "code",
   "execution_count": 9,
   "id": "a3f80c51-af34-4afc-b922-48ee19da0f48",
   "metadata": {},
   "outputs": [
    {
     "name": "stdout",
     "output_type": "stream",
     "text": [
      "<class 'pandas.core.frame.DataFrame'>\n",
      "Int64Index: 3000 entries, 2 to 29795\n",
      "Data columns (total 6 columns):\n",
      " #   Column                   Non-Null Count  Dtype \n",
      "---  ------                   --------------  ----- \n",
      " 0   NUMERO_REGISTRO_PRODUTO  3000 non-null   int64 \n",
      " 1   IDENTIFICADOR_DO_ITEM    3000 non-null   int64 \n",
      " 2   NOME_PRODUTO             3000 non-null   object\n",
      " 3   TIPO_PRODUTO             3000 non-null   object\n",
      " 4   CATEGORIA_REGULATORIA    2832 non-null   object\n",
      " 5   CLASSE_TERAPEUTICA       2992 non-null   object\n",
      "dtypes: int64(2), object(4)\n",
      "memory usage: 164.1+ KB\n"
     ]
    }
   ],
   "source": [
    "describe_data_mvp.info()"
   ]
  },
  {
   "cell_type": "code",
   "execution_count": 10,
   "id": "0292e2bf-8813-44ff-b283-b66ff1e918fd",
   "metadata": {},
   "outputs": [
    {
     "data": {
      "text/plain": [
       "'save_sucess'"
      ]
     },
     "execution_count": 10,
     "metadata": {},
     "output_type": "execute_result"
    }
   ],
   "source": [
    "load_data.conect_data.save_table(describe_data_mvp, '../../data/data_ingestion/', 'ingestion.itens_describe_mvp', 'csv')"
   ]
  },
  {
   "cell_type": "markdown",
   "id": "40538f4a-7b9e-4e99-87ae-fd672551d666",
   "metadata": {
    "tags": []
   },
   "source": [
    "## ingestion.itens_input_mvp"
   ]
  },
  {
   "cell_type": "code",
   "execution_count": 11,
   "id": "e78e35de-b248-4425-ad18-4baafc964317",
   "metadata": {},
   "outputs": [],
   "source": [
    "input_data_mvp = input_data[input_data.NUMERO_REGISTRO_PRODUTO.isin(itens_mvp)]"
   ]
  },
  {
   "cell_type": "code",
   "execution_count": 12,
   "id": "8049a57b-59cf-4706-be6f-3b1ca8764c82",
   "metadata": {},
   "outputs": [
    {
     "name": "stdout",
     "output_type": "stream",
     "text": [
      "<class 'pandas.core.frame.DataFrame'>\n",
      "Int64Index: 3000 entries, 2 to 29795\n",
      "Data columns (total 8 columns):\n",
      " #   Column                    Non-Null Count  Dtype  \n",
      "---  ------                    --------------  -----  \n",
      " 0   NUMERO_REGISTRO_PRODUTO   3000 non-null   int64  \n",
      " 1   IDENTIFICADOR_DO_ITEM     3000 non-null   int64  \n",
      " 2   NOME_PRODUTO              3000 non-null   object \n",
      " 3   DATA_DE_PEDIDO_DO_ITEM    0 non-null      float64\n",
      " 4   DATA_DE_ENTRADA_DO_ITEM   2983 non-null   object \n",
      " 5   DATA_VENCIMENTO_REGISTRO  2973 non-null   object \n",
      " 6   QUANTIDADE                0 non-null      float64\n",
      " 7   CUSTO_DE_AQUISIÇÃO        0 non-null      float64\n",
      "dtypes: float64(3), int64(2), object(3)\n",
      "memory usage: 210.9+ KB\n"
     ]
    }
   ],
   "source": [
    "input_data_mvp.info()"
   ]
  },
  {
   "cell_type": "code",
   "execution_count": 13,
   "id": "e637ae0e-df0b-409f-98cd-545545ce4837",
   "metadata": {},
   "outputs": [],
   "source": [
    "dates = pd.date_range('1/1/2020', periods=24, freq='M').values"
   ]
  },
  {
   "cell_type": "code",
   "execution_count": 14,
   "id": "4f83025c-1bd3-47d8-9f5d-08343b69de29",
   "metadata": {},
   "outputs": [
    {
     "data": {
      "text/plain": [
       "array(['2020-01-31T00:00:00.000000000', '2020-02-29T00:00:00.000000000',\n",
       "       '2020-03-31T00:00:00.000000000', '2020-04-30T00:00:00.000000000',\n",
       "       '2020-05-31T00:00:00.000000000', '2020-06-30T00:00:00.000000000',\n",
       "       '2020-07-31T00:00:00.000000000', '2020-08-31T00:00:00.000000000',\n",
       "       '2020-09-30T00:00:00.000000000', '2020-10-31T00:00:00.000000000',\n",
       "       '2020-11-30T00:00:00.000000000', '2020-12-31T00:00:00.000000000',\n",
       "       '2021-01-31T00:00:00.000000000', '2021-02-28T00:00:00.000000000',\n",
       "       '2021-03-31T00:00:00.000000000', '2021-04-30T00:00:00.000000000',\n",
       "       '2021-05-31T00:00:00.000000000', '2021-06-30T00:00:00.000000000',\n",
       "       '2021-07-31T00:00:00.000000000', '2021-08-31T00:00:00.000000000',\n",
       "       '2021-09-30T00:00:00.000000000', '2021-10-31T00:00:00.000000000',\n",
       "       '2021-11-30T00:00:00.000000000', '2021-12-31T00:00:00.000000000'],\n",
       "      dtype='datetime64[ns]')"
      ]
     },
     "execution_count": 14,
     "metadata": {},
     "output_type": "execute_result"
    }
   ],
   "source": [
    "dates"
   ]
  },
  {
   "cell_type": "code",
   "execution_count": 15,
   "id": "58e2f78e-8ee2-4a4b-854c-b2d9074f9fbb",
   "metadata": {},
   "outputs": [
    {
     "data": {
      "text/html": [
       "<div>\n",
       "<style scoped>\n",
       "    .dataframe tbody tr th:only-of-type {\n",
       "        vertical-align: middle;\n",
       "    }\n",
       "\n",
       "    .dataframe tbody tr th {\n",
       "        vertical-align: top;\n",
       "    }\n",
       "\n",
       "    .dataframe thead th {\n",
       "        text-align: right;\n",
       "    }\n",
       "</style>\n",
       "<table border=\"1\" class=\"dataframe\">\n",
       "  <thead>\n",
       "    <tr style=\"text-align: right;\">\n",
       "      <th></th>\n",
       "      <th>NUMERO_REGISTRO_PRODUTO</th>\n",
       "      <th>IDENTIFICADOR_DO_ITEM</th>\n",
       "      <th>NOME_PRODUTO</th>\n",
       "      <th>DATA_DE_PEDIDO_DO_ITEM</th>\n",
       "      <th>DATA_DE_ENTRADA_DO_ITEM</th>\n",
       "      <th>DATA_VENCIMENTO_REGISTRO</th>\n",
       "      <th>QUANTIDADE</th>\n",
       "      <th>CUSTO_DE_AQUISIÇÃO</th>\n",
       "    </tr>\n",
       "  </thead>\n",
       "  <tbody>\n",
       "    <tr>\n",
       "      <th>2</th>\n",
       "      <td>100470305</td>\n",
       "      <td>25351022805</td>\n",
       "      <td>ALENDRONATO SODICO</td>\n",
       "      <td>NaN</td>\n",
       "      <td>04/06/2001</td>\n",
       "      <td>01/05/2006</td>\n",
       "      <td>NaN</td>\n",
       "      <td>NaN</td>\n",
       "    </tr>\n",
       "    <tr>\n",
       "      <th>22</th>\n",
       "      <td>105500142</td>\n",
       "      <td>25351019591</td>\n",
       "      <td>RABEPRAZOL SODICO</td>\n",
       "      <td>NaN</td>\n",
       "      <td>18/02/2002</td>\n",
       "      <td>01/02/2007</td>\n",
       "      <td>NaN</td>\n",
       "      <td>NaN</td>\n",
       "    </tr>\n",
       "    <tr>\n",
       "      <th>37</th>\n",
       "      <td>105830361</td>\n",
       "      <td>25351213644</td>\n",
       "      <td>A SAÚDE DA MULHER</td>\n",
       "      <td>NaN</td>\n",
       "      <td>14/07/2004</td>\n",
       "      <td>01/07/2014</td>\n",
       "      <td>NaN</td>\n",
       "      <td>NaN</td>\n",
       "    </tr>\n",
       "    <tr>\n",
       "      <th>43</th>\n",
       "      <td>120330280</td>\n",
       "      <td>25351353153</td>\n",
       "      <td>AAS PROTECT</td>\n",
       "      <td>NaN</td>\n",
       "      <td>20/11/2006</td>\n",
       "      <td>01/09/2012</td>\n",
       "      <td>NaN</td>\n",
       "      <td>NaN</td>\n",
       "    </tr>\n",
       "    <tr>\n",
       "      <th>55</th>\n",
       "      <td>144930012</td>\n",
       "      <td>25351000183</td>\n",
       "      <td>ABEDERIL</td>\n",
       "      <td>NaN</td>\n",
       "      <td>21/06/2001</td>\n",
       "      <td>01/06/2011</td>\n",
       "      <td>NaN</td>\n",
       "      <td>NaN</td>\n",
       "    </tr>\n",
       "  </tbody>\n",
       "</table>\n",
       "</div>"
      ],
      "text/plain": [
       "    NUMERO_REGISTRO_PRODUTO  IDENTIFICADOR_DO_ITEM         NOME_PRODUTO  \\\n",
       "2                 100470305            25351022805   ALENDRONATO SODICO   \n",
       "22                105500142            25351019591    RABEPRAZOL SODICO   \n",
       "37                105830361            25351213644    A SAÚDE DA MULHER   \n",
       "43                120330280            25351353153          AAS PROTECT   \n",
       "55                144930012            25351000183             ABEDERIL   \n",
       "\n",
       "    DATA_DE_PEDIDO_DO_ITEM DATA_DE_ENTRADA_DO_ITEM DATA_VENCIMENTO_REGISTRO  \\\n",
       "2                      NaN              04/06/2001               01/05/2006   \n",
       "22                     NaN              18/02/2002               01/02/2007   \n",
       "37                     NaN              14/07/2004               01/07/2014   \n",
       "43                     NaN              20/11/2006               01/09/2012   \n",
       "55                     NaN              21/06/2001               01/06/2011   \n",
       "\n",
       "    QUANTIDADE  CUSTO_DE_AQUISIÇÃO  \n",
       "2          NaN                 NaN  \n",
       "22         NaN                 NaN  \n",
       "37         NaN                 NaN  \n",
       "43         NaN                 NaN  \n",
       "55         NaN                 NaN  "
      ]
     },
     "execution_count": 15,
     "metadata": {},
     "output_type": "execute_result"
    }
   ],
   "source": [
    "input_data_mvp.head()"
   ]
  },
  {
   "cell_type": "code",
   "execution_count": 16,
   "id": "3547b652-466b-4245-8dd4-f6c91da37be5",
   "metadata": {
    "tags": []
   },
   "outputs": [
    {
     "name": "stderr",
     "output_type": "stream",
     "text": [
      "  0%|                                                                                         | 0/3000 [00:00<?, ?it/s]C:\\Users\\anton\\AppData\\Local\\Temp\\ipykernel_1612\\366977952.py:5: SettingWithCopyWarning: \n",
      "A value is trying to be set on a copy of a slice from a DataFrame.\n",
      "Try using .loc[row_indexer,col_indexer] = value instead\n",
      "\n",
      "See the caveats in the documentation: https://pandas.pydata.org/pandas-docs/stable/user_guide/indexing.html#returning-a-view-versus-a-copy\n",
      "  data[\"DATA_DE_ENTRADA_DO_ITEM\"] = date\n",
      "100%|██████████████████████████████████████████████████████████████████████████████| 3000/3000 [30:37<00:00,  1.63it/s]\n"
     ]
    }
   ],
   "source": [
    "data_frame = pd.DataFrame(None, columns=input_data_mvp.columns)\n",
    "for product in tqdm(input_data_mvp.NUMERO_REGISTRO_PRODUTO):\n",
    "    data = input_data_mvp.query(f\"NUMERO_REGISTRO_PRODUTO == '{product}'\")\n",
    "    for date in dates:\n",
    "        data[\"DATA_DE_ENTRADA_DO_ITEM\"] = date\n",
    "        data_frame = pd.concat([data,data_frame])"
   ]
  },
  {
   "cell_type": "code",
   "execution_count": 17,
   "id": "7eb20ea6-b8ad-4d37-91b4-2cbe6804f167",
   "metadata": {},
   "outputs": [
    {
     "name": "stdout",
     "output_type": "stream",
     "text": [
      "<class 'pandas.core.frame.DataFrame'>\n",
      "Int64Index: 72000 entries, 29795 to 2\n",
      "Data columns (total 8 columns):\n",
      " #   Column                    Non-Null Count  Dtype         \n",
      "---  ------                    --------------  -----         \n",
      " 0   NUMERO_REGISTRO_PRODUTO   72000 non-null  object        \n",
      " 1   IDENTIFICADOR_DO_ITEM     72000 non-null  object        \n",
      " 2   NOME_PRODUTO              72000 non-null  object        \n",
      " 3   DATA_DE_PEDIDO_DO_ITEM    0 non-null      object        \n",
      " 4   DATA_DE_ENTRADA_DO_ITEM   72000 non-null  datetime64[ns]\n",
      " 5   DATA_VENCIMENTO_REGISTRO  71352 non-null  object        \n",
      " 6   QUANTIDADE                0 non-null      object        \n",
      " 7   CUSTO_DE_AQUISIÇÃO        0 non-null      object        \n",
      "dtypes: datetime64[ns](1), object(7)\n",
      "memory usage: 4.9+ MB\n"
     ]
    }
   ],
   "source": [
    "data_frame.info()"
   ]
  },
  {
   "cell_type": "code",
   "execution_count": 18,
   "id": "7405ef37-64fe-4c60-bc4e-9d8bd7f940d6",
   "metadata": {
    "tags": []
   },
   "outputs": [
    {
     "name": "stderr",
     "output_type": "stream",
     "text": [
      "100%|█████████████████████████████████████████████████████████████████████████████| 3000/3000 [00:18<00:00, 160.82it/s]\n"
     ]
    }
   ],
   "source": [
    "lista = []\n",
    "for product in tqdm(data_frame.NUMERO_REGISTRO_PRODUTO.unique()):\n",
    "    data = data_frame.query(f\"NUMERO_REGISTRO_PRODUTO == {product}\")\n",
    "    for idx, linha in data.iterrows():\n",
    "        fator_random_ini = random.randrange(1,50)\n",
    "        fator_random_sum = random.randrange(1,60)\n",
    "        lista.append(random.randrange(fator_random_ini,fator_random_ini+fator_random_sum))"
   ]
  },
  {
   "cell_type": "code",
   "execution_count": 19,
   "id": "c3589350-8c99-4165-9420-f88166a739b8",
   "metadata": {},
   "outputs": [
    {
     "data": {
      "text/plain": [
       "[66, 31, 51, 45, 41]"
      ]
     },
     "execution_count": 19,
     "metadata": {},
     "output_type": "execute_result"
    }
   ],
   "source": [
    "lista[:5]"
   ]
  },
  {
   "cell_type": "code",
   "execution_count": 20,
   "id": "9a870ef3-5351-4610-b959-f420ba3cc329",
   "metadata": {},
   "outputs": [],
   "source": [
    "data_frame[\"QUANTIDADE_ENTRADA\"] = lista"
   ]
  },
  {
   "cell_type": "code",
   "execution_count": 21,
   "id": "6efca452-4283-4708-9075-25687830ab1b",
   "metadata": {},
   "outputs": [
    {
     "data": {
      "text/html": [
       "<div>\n",
       "<style scoped>\n",
       "    .dataframe tbody tr th:only-of-type {\n",
       "        vertical-align: middle;\n",
       "    }\n",
       "\n",
       "    .dataframe tbody tr th {\n",
       "        vertical-align: top;\n",
       "    }\n",
       "\n",
       "    .dataframe thead th {\n",
       "        text-align: right;\n",
       "    }\n",
       "</style>\n",
       "<table border=\"1\" class=\"dataframe\">\n",
       "  <thead>\n",
       "    <tr style=\"text-align: right;\">\n",
       "      <th></th>\n",
       "      <th>NUMERO_REGISTRO_PRODUTO</th>\n",
       "      <th>IDENTIFICADOR_DO_ITEM</th>\n",
       "      <th>NOME_PRODUTO</th>\n",
       "      <th>DATA_DE_PEDIDO_DO_ITEM</th>\n",
       "      <th>DATA_DE_ENTRADA_DO_ITEM</th>\n",
       "      <th>DATA_VENCIMENTO_REGISTRO</th>\n",
       "      <th>QUANTIDADE</th>\n",
       "      <th>CUSTO_DE_AQUISIÇÃO</th>\n",
       "      <th>QUANTIDADE_ENTRADA</th>\n",
       "    </tr>\n",
       "  </thead>\n",
       "  <tbody>\n",
       "    <tr>\n",
       "      <th>29795</th>\n",
       "      <td>105250103</td>\n",
       "      <td>25351212751</td>\n",
       "      <td>OLMECOR TRIPLO</td>\n",
       "      <td>NaN</td>\n",
       "      <td>2021-12-31</td>\n",
       "      <td>01/07/2032</td>\n",
       "      <td>NaN</td>\n",
       "      <td>NaN</td>\n",
       "      <td>66</td>\n",
       "    </tr>\n",
       "    <tr>\n",
       "      <th>29795</th>\n",
       "      <td>105250103</td>\n",
       "      <td>25351212751</td>\n",
       "      <td>OLMECOR TRIPLO</td>\n",
       "      <td>NaN</td>\n",
       "      <td>2021-11-30</td>\n",
       "      <td>01/07/2032</td>\n",
       "      <td>NaN</td>\n",
       "      <td>NaN</td>\n",
       "      <td>31</td>\n",
       "    </tr>\n",
       "    <tr>\n",
       "      <th>29795</th>\n",
       "      <td>105250103</td>\n",
       "      <td>25351212751</td>\n",
       "      <td>OLMECOR TRIPLO</td>\n",
       "      <td>NaN</td>\n",
       "      <td>2021-10-31</td>\n",
       "      <td>01/07/2032</td>\n",
       "      <td>NaN</td>\n",
       "      <td>NaN</td>\n",
       "      <td>51</td>\n",
       "    </tr>\n",
       "    <tr>\n",
       "      <th>29795</th>\n",
       "      <td>105250103</td>\n",
       "      <td>25351212751</td>\n",
       "      <td>OLMECOR TRIPLO</td>\n",
       "      <td>NaN</td>\n",
       "      <td>2021-09-30</td>\n",
       "      <td>01/07/2032</td>\n",
       "      <td>NaN</td>\n",
       "      <td>NaN</td>\n",
       "      <td>45</td>\n",
       "    </tr>\n",
       "    <tr>\n",
       "      <th>29795</th>\n",
       "      <td>105250103</td>\n",
       "      <td>25351212751</td>\n",
       "      <td>OLMECOR TRIPLO</td>\n",
       "      <td>NaN</td>\n",
       "      <td>2021-08-31</td>\n",
       "      <td>01/07/2032</td>\n",
       "      <td>NaN</td>\n",
       "      <td>NaN</td>\n",
       "      <td>41</td>\n",
       "    </tr>\n",
       "  </tbody>\n",
       "</table>\n",
       "</div>"
      ],
      "text/plain": [
       "      NUMERO_REGISTRO_PRODUTO IDENTIFICADOR_DO_ITEM    NOME_PRODUTO  \\\n",
       "29795               105250103           25351212751  OLMECOR TRIPLO   \n",
       "29795               105250103           25351212751  OLMECOR TRIPLO   \n",
       "29795               105250103           25351212751  OLMECOR TRIPLO   \n",
       "29795               105250103           25351212751  OLMECOR TRIPLO   \n",
       "29795               105250103           25351212751  OLMECOR TRIPLO   \n",
       "\n",
       "      DATA_DE_PEDIDO_DO_ITEM DATA_DE_ENTRADA_DO_ITEM DATA_VENCIMENTO_REGISTRO  \\\n",
       "29795                    NaN              2021-12-31               01/07/2032   \n",
       "29795                    NaN              2021-11-30               01/07/2032   \n",
       "29795                    NaN              2021-10-31               01/07/2032   \n",
       "29795                    NaN              2021-09-30               01/07/2032   \n",
       "29795                    NaN              2021-08-31               01/07/2032   \n",
       "\n",
       "      QUANTIDADE CUSTO_DE_AQUISIÇÃO  QUANTIDADE_ENTRADA  \n",
       "29795        NaN                NaN                  66  \n",
       "29795        NaN                NaN                  31  \n",
       "29795        NaN                NaN                  51  \n",
       "29795        NaN                NaN                  45  \n",
       "29795        NaN                NaN                  41  "
      ]
     },
     "execution_count": 21,
     "metadata": {},
     "output_type": "execute_result"
    }
   ],
   "source": [
    "data_frame.head()"
   ]
  },
  {
   "cell_type": "code",
   "execution_count": 22,
   "id": "320aed3c-c299-4a37-a7fe-f1c064fa8e5f",
   "metadata": {},
   "outputs": [
    {
     "name": "stderr",
     "output_type": "stream",
     "text": [
      "100%|█████████████████████████████████████████████████████████████████████████████| 3000/3000 [00:23<00:00, 127.78it/s]\n"
     ]
    }
   ],
   "source": [
    "lista = []\n",
    "for product in tqdm(data_frame.NUMERO_REGISTRO_PRODUTO.unique()):\n",
    "    data = data_frame.query(f\"NUMERO_REGISTRO_PRODUTO == {product}\")\n",
    "    fator_random_ini = random.randrange(15,300)\n",
    "    for idx, linha in data.iterrows():\n",
    "        lista.append(fator_random_ini)\n",
    "        \n",
    "data_frame[\"CUSTO_DE_AQUISICAO\"] = lista"
   ]
  },
  {
   "cell_type": "code",
   "execution_count": 23,
   "id": "706f120a-c948-43db-a88a-acc741712878",
   "metadata": {},
   "outputs": [
    {
     "data": {
      "text/html": [
       "<div>\n",
       "<style scoped>\n",
       "    .dataframe tbody tr th:only-of-type {\n",
       "        vertical-align: middle;\n",
       "    }\n",
       "\n",
       "    .dataframe tbody tr th {\n",
       "        vertical-align: top;\n",
       "    }\n",
       "\n",
       "    .dataframe thead th {\n",
       "        text-align: right;\n",
       "    }\n",
       "</style>\n",
       "<table border=\"1\" class=\"dataframe\">\n",
       "  <thead>\n",
       "    <tr style=\"text-align: right;\">\n",
       "      <th></th>\n",
       "      <th>NUMERO_REGISTRO_PRODUTO</th>\n",
       "      <th>IDENTIFICADOR_DO_ITEM</th>\n",
       "      <th>NOME_PRODUTO</th>\n",
       "      <th>DATA_DE_PEDIDO_DO_ITEM</th>\n",
       "      <th>DATA_DE_ENTRADA_DO_ITEM</th>\n",
       "      <th>DATA_VENCIMENTO_REGISTRO</th>\n",
       "      <th>QUANTIDADE</th>\n",
       "      <th>CUSTO_DE_AQUISIÇÃO</th>\n",
       "      <th>QUANTIDADE_ENTRADA</th>\n",
       "      <th>CUSTO_DE_AQUISICAO</th>\n",
       "    </tr>\n",
       "  </thead>\n",
       "  <tbody>\n",
       "    <tr>\n",
       "      <th>29795</th>\n",
       "      <td>105250103</td>\n",
       "      <td>25351212751</td>\n",
       "      <td>OLMECOR TRIPLO</td>\n",
       "      <td>NaN</td>\n",
       "      <td>2021-12-31</td>\n",
       "      <td>01/07/2032</td>\n",
       "      <td>NaN</td>\n",
       "      <td>NaN</td>\n",
       "      <td>66</td>\n",
       "      <td>86</td>\n",
       "    </tr>\n",
       "    <tr>\n",
       "      <th>29795</th>\n",
       "      <td>105250103</td>\n",
       "      <td>25351212751</td>\n",
       "      <td>OLMECOR TRIPLO</td>\n",
       "      <td>NaN</td>\n",
       "      <td>2021-11-30</td>\n",
       "      <td>01/07/2032</td>\n",
       "      <td>NaN</td>\n",
       "      <td>NaN</td>\n",
       "      <td>31</td>\n",
       "      <td>86</td>\n",
       "    </tr>\n",
       "    <tr>\n",
       "      <th>29795</th>\n",
       "      <td>105250103</td>\n",
       "      <td>25351212751</td>\n",
       "      <td>OLMECOR TRIPLO</td>\n",
       "      <td>NaN</td>\n",
       "      <td>2021-10-31</td>\n",
       "      <td>01/07/2032</td>\n",
       "      <td>NaN</td>\n",
       "      <td>NaN</td>\n",
       "      <td>51</td>\n",
       "      <td>86</td>\n",
       "    </tr>\n",
       "    <tr>\n",
       "      <th>29795</th>\n",
       "      <td>105250103</td>\n",
       "      <td>25351212751</td>\n",
       "      <td>OLMECOR TRIPLO</td>\n",
       "      <td>NaN</td>\n",
       "      <td>2021-09-30</td>\n",
       "      <td>01/07/2032</td>\n",
       "      <td>NaN</td>\n",
       "      <td>NaN</td>\n",
       "      <td>45</td>\n",
       "      <td>86</td>\n",
       "    </tr>\n",
       "    <tr>\n",
       "      <th>29795</th>\n",
       "      <td>105250103</td>\n",
       "      <td>25351212751</td>\n",
       "      <td>OLMECOR TRIPLO</td>\n",
       "      <td>NaN</td>\n",
       "      <td>2021-08-31</td>\n",
       "      <td>01/07/2032</td>\n",
       "      <td>NaN</td>\n",
       "      <td>NaN</td>\n",
       "      <td>41</td>\n",
       "      <td>86</td>\n",
       "    </tr>\n",
       "  </tbody>\n",
       "</table>\n",
       "</div>"
      ],
      "text/plain": [
       "      NUMERO_REGISTRO_PRODUTO IDENTIFICADOR_DO_ITEM    NOME_PRODUTO  \\\n",
       "29795               105250103           25351212751  OLMECOR TRIPLO   \n",
       "29795               105250103           25351212751  OLMECOR TRIPLO   \n",
       "29795               105250103           25351212751  OLMECOR TRIPLO   \n",
       "29795               105250103           25351212751  OLMECOR TRIPLO   \n",
       "29795               105250103           25351212751  OLMECOR TRIPLO   \n",
       "\n",
       "      DATA_DE_PEDIDO_DO_ITEM DATA_DE_ENTRADA_DO_ITEM DATA_VENCIMENTO_REGISTRO  \\\n",
       "29795                    NaN              2021-12-31               01/07/2032   \n",
       "29795                    NaN              2021-11-30               01/07/2032   \n",
       "29795                    NaN              2021-10-31               01/07/2032   \n",
       "29795                    NaN              2021-09-30               01/07/2032   \n",
       "29795                    NaN              2021-08-31               01/07/2032   \n",
       "\n",
       "      QUANTIDADE CUSTO_DE_AQUISIÇÃO  QUANTIDADE_ENTRADA  CUSTO_DE_AQUISICAO  \n",
       "29795        NaN                NaN                  66                  86  \n",
       "29795        NaN                NaN                  31                  86  \n",
       "29795        NaN                NaN                  51                  86  \n",
       "29795        NaN                NaN                  45                  86  \n",
       "29795        NaN                NaN                  41                  86  "
      ]
     },
     "execution_count": 23,
     "metadata": {},
     "output_type": "execute_result"
    }
   ],
   "source": [
    "data_frame.head()"
   ]
  },
  {
   "cell_type": "code",
   "execution_count": 24,
   "id": "863e7375-6257-4092-9644-d8d39765e60a",
   "metadata": {},
   "outputs": [
    {
     "name": "stderr",
     "output_type": "stream",
     "text": [
      "100%|█████████████████████████████████████████████████████████████████████████████| 3000/3000 [00:15<00:00, 192.94it/s]\n"
     ]
    }
   ],
   "source": [
    "vencimento = []\n",
    "for product in tqdm(data_frame.NUMERO_REGISTRO_PRODUTO.unique()):\n",
    "    data = data_frame.query(f\"NUMERO_REGISTRO_PRODUTO == {product}\")\n",
    "    time_random = random.randrange(30,180)\n",
    "    for n in data.DATA_DE_ENTRADA_DO_ITEM:\n",
    "        vencimento.append(n + timedelta(time_random))\n",
    "\n",
    "data_frame[\"DATA_VENCIMENTO\"] = vencimento"
   ]
  },
  {
   "cell_type": "code",
   "execution_count": 25,
   "id": "08949aee-d086-416d-be1d-181b0b94c422",
   "metadata": {},
   "outputs": [
    {
     "data": {
      "text/html": [
       "<div>\n",
       "<style scoped>\n",
       "    .dataframe tbody tr th:only-of-type {\n",
       "        vertical-align: middle;\n",
       "    }\n",
       "\n",
       "    .dataframe tbody tr th {\n",
       "        vertical-align: top;\n",
       "    }\n",
       "\n",
       "    .dataframe thead th {\n",
       "        text-align: right;\n",
       "    }\n",
       "</style>\n",
       "<table border=\"1\" class=\"dataframe\">\n",
       "  <thead>\n",
       "    <tr style=\"text-align: right;\">\n",
       "      <th></th>\n",
       "      <th>NUMERO_REGISTRO_PRODUTO</th>\n",
       "      <th>IDENTIFICADOR_DO_ITEM</th>\n",
       "      <th>NOME_PRODUTO</th>\n",
       "      <th>DATA_DE_PEDIDO_DO_ITEM</th>\n",
       "      <th>DATA_DE_ENTRADA_DO_ITEM</th>\n",
       "      <th>DATA_VENCIMENTO_REGISTRO</th>\n",
       "      <th>QUANTIDADE</th>\n",
       "      <th>CUSTO_DE_AQUISIÇÃO</th>\n",
       "      <th>QUANTIDADE_ENTRADA</th>\n",
       "      <th>CUSTO_DE_AQUISICAO</th>\n",
       "      <th>DATA_VENCIMENTO</th>\n",
       "    </tr>\n",
       "  </thead>\n",
       "  <tbody>\n",
       "    <tr>\n",
       "      <th>29795</th>\n",
       "      <td>105250103</td>\n",
       "      <td>25351212751</td>\n",
       "      <td>OLMECOR TRIPLO</td>\n",
       "      <td>NaN</td>\n",
       "      <td>2021-12-31</td>\n",
       "      <td>01/07/2032</td>\n",
       "      <td>NaN</td>\n",
       "      <td>NaN</td>\n",
       "      <td>66</td>\n",
       "      <td>86</td>\n",
       "      <td>2022-03-21</td>\n",
       "    </tr>\n",
       "    <tr>\n",
       "      <th>29795</th>\n",
       "      <td>105250103</td>\n",
       "      <td>25351212751</td>\n",
       "      <td>OLMECOR TRIPLO</td>\n",
       "      <td>NaN</td>\n",
       "      <td>2021-11-30</td>\n",
       "      <td>01/07/2032</td>\n",
       "      <td>NaN</td>\n",
       "      <td>NaN</td>\n",
       "      <td>31</td>\n",
       "      <td>86</td>\n",
       "      <td>2022-02-18</td>\n",
       "    </tr>\n",
       "    <tr>\n",
       "      <th>29795</th>\n",
       "      <td>105250103</td>\n",
       "      <td>25351212751</td>\n",
       "      <td>OLMECOR TRIPLO</td>\n",
       "      <td>NaN</td>\n",
       "      <td>2021-10-31</td>\n",
       "      <td>01/07/2032</td>\n",
       "      <td>NaN</td>\n",
       "      <td>NaN</td>\n",
       "      <td>51</td>\n",
       "      <td>86</td>\n",
       "      <td>2022-01-19</td>\n",
       "    </tr>\n",
       "    <tr>\n",
       "      <th>29795</th>\n",
       "      <td>105250103</td>\n",
       "      <td>25351212751</td>\n",
       "      <td>OLMECOR TRIPLO</td>\n",
       "      <td>NaN</td>\n",
       "      <td>2021-09-30</td>\n",
       "      <td>01/07/2032</td>\n",
       "      <td>NaN</td>\n",
       "      <td>NaN</td>\n",
       "      <td>45</td>\n",
       "      <td>86</td>\n",
       "      <td>2021-12-19</td>\n",
       "    </tr>\n",
       "    <tr>\n",
       "      <th>29795</th>\n",
       "      <td>105250103</td>\n",
       "      <td>25351212751</td>\n",
       "      <td>OLMECOR TRIPLO</td>\n",
       "      <td>NaN</td>\n",
       "      <td>2021-08-31</td>\n",
       "      <td>01/07/2032</td>\n",
       "      <td>NaN</td>\n",
       "      <td>NaN</td>\n",
       "      <td>41</td>\n",
       "      <td>86</td>\n",
       "      <td>2021-11-19</td>\n",
       "    </tr>\n",
       "  </tbody>\n",
       "</table>\n",
       "</div>"
      ],
      "text/plain": [
       "      NUMERO_REGISTRO_PRODUTO IDENTIFICADOR_DO_ITEM    NOME_PRODUTO  \\\n",
       "29795               105250103           25351212751  OLMECOR TRIPLO   \n",
       "29795               105250103           25351212751  OLMECOR TRIPLO   \n",
       "29795               105250103           25351212751  OLMECOR TRIPLO   \n",
       "29795               105250103           25351212751  OLMECOR TRIPLO   \n",
       "29795               105250103           25351212751  OLMECOR TRIPLO   \n",
       "\n",
       "      DATA_DE_PEDIDO_DO_ITEM DATA_DE_ENTRADA_DO_ITEM DATA_VENCIMENTO_REGISTRO  \\\n",
       "29795                    NaN              2021-12-31               01/07/2032   \n",
       "29795                    NaN              2021-11-30               01/07/2032   \n",
       "29795                    NaN              2021-10-31               01/07/2032   \n",
       "29795                    NaN              2021-09-30               01/07/2032   \n",
       "29795                    NaN              2021-08-31               01/07/2032   \n",
       "\n",
       "      QUANTIDADE CUSTO_DE_AQUISIÇÃO  QUANTIDADE_ENTRADA  CUSTO_DE_AQUISICAO  \\\n",
       "29795        NaN                NaN                  66                  86   \n",
       "29795        NaN                NaN                  31                  86   \n",
       "29795        NaN                NaN                  51                  86   \n",
       "29795        NaN                NaN                  45                  86   \n",
       "29795        NaN                NaN                  41                  86   \n",
       "\n",
       "      DATA_VENCIMENTO  \n",
       "29795      2022-03-21  \n",
       "29795      2022-02-18  \n",
       "29795      2022-01-19  \n",
       "29795      2021-12-19  \n",
       "29795      2021-11-19  "
      ]
     },
     "execution_count": 25,
     "metadata": {},
     "output_type": "execute_result"
    }
   ],
   "source": [
    "data_frame.head()"
   ]
  },
  {
   "cell_type": "code",
   "execution_count": 26,
   "id": "7615e4c0-0cfb-4360-9e93-1b53b725f80b",
   "metadata": {},
   "outputs": [
    {
     "name": "stderr",
     "output_type": "stream",
     "text": [
      "100%|█████████████████████████████████████████████████████████████████████████████| 3000/3000 [00:15<00:00, 199.47it/s]\n"
     ]
    }
   ],
   "source": [
    "pedido = []\n",
    "for product in tqdm(data_frame.NUMERO_REGISTRO_PRODUTO.unique()):\n",
    "    data = data_frame.query(f\"NUMERO_REGISTRO_PRODUTO == {product}\")\n",
    "    time_random = random.randrange(30,180)\n",
    "    for n in data.DATA_DE_ENTRADA_DO_ITEM:\n",
    "        pedido.append(n - timedelta(time_random))\n",
    "\n",
    "data_frame[\"DATA_DE_PEDIDO_DO_ITEM\"] = pedido"
   ]
  },
  {
   "cell_type": "code",
   "execution_count": 27,
   "id": "2d5f1d90-876e-48fb-b950-6338c89036c9",
   "metadata": {},
   "outputs": [
    {
     "data": {
      "text/html": [
       "<div>\n",
       "<style scoped>\n",
       "    .dataframe tbody tr th:only-of-type {\n",
       "        vertical-align: middle;\n",
       "    }\n",
       "\n",
       "    .dataframe tbody tr th {\n",
       "        vertical-align: top;\n",
       "    }\n",
       "\n",
       "    .dataframe thead th {\n",
       "        text-align: right;\n",
       "    }\n",
       "</style>\n",
       "<table border=\"1\" class=\"dataframe\">\n",
       "  <thead>\n",
       "    <tr style=\"text-align: right;\">\n",
       "      <th></th>\n",
       "      <th>NUMERO_REGISTRO_PRODUTO</th>\n",
       "      <th>IDENTIFICADOR_DO_ITEM</th>\n",
       "      <th>NOME_PRODUTO</th>\n",
       "      <th>DATA_DE_PEDIDO_DO_ITEM</th>\n",
       "      <th>DATA_DE_ENTRADA_DO_ITEM</th>\n",
       "      <th>DATA_VENCIMENTO_REGISTRO</th>\n",
       "      <th>QUANTIDADE</th>\n",
       "      <th>CUSTO_DE_AQUISIÇÃO</th>\n",
       "      <th>QUANTIDADE_ENTRADA</th>\n",
       "      <th>CUSTO_DE_AQUISICAO</th>\n",
       "      <th>DATA_VENCIMENTO</th>\n",
       "    </tr>\n",
       "  </thead>\n",
       "  <tbody>\n",
       "    <tr>\n",
       "      <th>29795</th>\n",
       "      <td>105250103</td>\n",
       "      <td>25351212751</td>\n",
       "      <td>OLMECOR TRIPLO</td>\n",
       "      <td>2021-07-19</td>\n",
       "      <td>2021-12-31</td>\n",
       "      <td>01/07/2032</td>\n",
       "      <td>NaN</td>\n",
       "      <td>NaN</td>\n",
       "      <td>66</td>\n",
       "      <td>86</td>\n",
       "      <td>2022-03-21</td>\n",
       "    </tr>\n",
       "    <tr>\n",
       "      <th>29795</th>\n",
       "      <td>105250103</td>\n",
       "      <td>25351212751</td>\n",
       "      <td>OLMECOR TRIPLO</td>\n",
       "      <td>2021-06-18</td>\n",
       "      <td>2021-11-30</td>\n",
       "      <td>01/07/2032</td>\n",
       "      <td>NaN</td>\n",
       "      <td>NaN</td>\n",
       "      <td>31</td>\n",
       "      <td>86</td>\n",
       "      <td>2022-02-18</td>\n",
       "    </tr>\n",
       "    <tr>\n",
       "      <th>29795</th>\n",
       "      <td>105250103</td>\n",
       "      <td>25351212751</td>\n",
       "      <td>OLMECOR TRIPLO</td>\n",
       "      <td>2021-05-19</td>\n",
       "      <td>2021-10-31</td>\n",
       "      <td>01/07/2032</td>\n",
       "      <td>NaN</td>\n",
       "      <td>NaN</td>\n",
       "      <td>51</td>\n",
       "      <td>86</td>\n",
       "      <td>2022-01-19</td>\n",
       "    </tr>\n",
       "    <tr>\n",
       "      <th>29795</th>\n",
       "      <td>105250103</td>\n",
       "      <td>25351212751</td>\n",
       "      <td>OLMECOR TRIPLO</td>\n",
       "      <td>2021-04-18</td>\n",
       "      <td>2021-09-30</td>\n",
       "      <td>01/07/2032</td>\n",
       "      <td>NaN</td>\n",
       "      <td>NaN</td>\n",
       "      <td>45</td>\n",
       "      <td>86</td>\n",
       "      <td>2021-12-19</td>\n",
       "    </tr>\n",
       "    <tr>\n",
       "      <th>29795</th>\n",
       "      <td>105250103</td>\n",
       "      <td>25351212751</td>\n",
       "      <td>OLMECOR TRIPLO</td>\n",
       "      <td>2021-03-19</td>\n",
       "      <td>2021-08-31</td>\n",
       "      <td>01/07/2032</td>\n",
       "      <td>NaN</td>\n",
       "      <td>NaN</td>\n",
       "      <td>41</td>\n",
       "      <td>86</td>\n",
       "      <td>2021-11-19</td>\n",
       "    </tr>\n",
       "  </tbody>\n",
       "</table>\n",
       "</div>"
      ],
      "text/plain": [
       "      NUMERO_REGISTRO_PRODUTO IDENTIFICADOR_DO_ITEM    NOME_PRODUTO  \\\n",
       "29795               105250103           25351212751  OLMECOR TRIPLO   \n",
       "29795               105250103           25351212751  OLMECOR TRIPLO   \n",
       "29795               105250103           25351212751  OLMECOR TRIPLO   \n",
       "29795               105250103           25351212751  OLMECOR TRIPLO   \n",
       "29795               105250103           25351212751  OLMECOR TRIPLO   \n",
       "\n",
       "      DATA_DE_PEDIDO_DO_ITEM DATA_DE_ENTRADA_DO_ITEM DATA_VENCIMENTO_REGISTRO  \\\n",
       "29795             2021-07-19              2021-12-31               01/07/2032   \n",
       "29795             2021-06-18              2021-11-30               01/07/2032   \n",
       "29795             2021-05-19              2021-10-31               01/07/2032   \n",
       "29795             2021-04-18              2021-09-30               01/07/2032   \n",
       "29795             2021-03-19              2021-08-31               01/07/2032   \n",
       "\n",
       "      QUANTIDADE CUSTO_DE_AQUISIÇÃO  QUANTIDADE_ENTRADA  CUSTO_DE_AQUISICAO  \\\n",
       "29795        NaN                NaN                  66                  86   \n",
       "29795        NaN                NaN                  31                  86   \n",
       "29795        NaN                NaN                  51                  86   \n",
       "29795        NaN                NaN                  45                  86   \n",
       "29795        NaN                NaN                  41                  86   \n",
       "\n",
       "      DATA_VENCIMENTO  \n",
       "29795      2022-03-21  \n",
       "29795      2022-02-18  \n",
       "29795      2022-01-19  \n",
       "29795      2021-12-19  \n",
       "29795      2021-11-19  "
      ]
     },
     "execution_count": 27,
     "metadata": {},
     "output_type": "execute_result"
    }
   ],
   "source": [
    "data_frame.head()"
   ]
  },
  {
   "cell_type": "code",
   "execution_count": 28,
   "id": "a3be2e53-bb92-4d1d-b355-4924cce4b14e",
   "metadata": {},
   "outputs": [
    {
     "name": "stdout",
     "output_type": "stream",
     "text": [
      "<class 'pandas.core.frame.DataFrame'>\n",
      "Int64Index: 72000 entries, 29795 to 2\n",
      "Data columns (total 11 columns):\n",
      " #   Column                    Non-Null Count  Dtype         \n",
      "---  ------                    --------------  -----         \n",
      " 0   NUMERO_REGISTRO_PRODUTO   72000 non-null  object        \n",
      " 1   IDENTIFICADOR_DO_ITEM     72000 non-null  object        \n",
      " 2   NOME_PRODUTO              72000 non-null  object        \n",
      " 3   DATA_DE_PEDIDO_DO_ITEM    72000 non-null  datetime64[ns]\n",
      " 4   DATA_DE_ENTRADA_DO_ITEM   72000 non-null  datetime64[ns]\n",
      " 5   DATA_VENCIMENTO_REGISTRO  71352 non-null  object        \n",
      " 6   QUANTIDADE                0 non-null      object        \n",
      " 7   CUSTO_DE_AQUISIÇÃO        0 non-null      object        \n",
      " 8   QUANTIDADE_ENTRADA        72000 non-null  int64         \n",
      " 9   CUSTO_DE_AQUISICAO        72000 non-null  int64         \n",
      " 10  DATA_VENCIMENTO           72000 non-null  datetime64[ns]\n",
      "dtypes: datetime64[ns](3), int64(2), object(6)\n",
      "memory usage: 6.6+ MB\n"
     ]
    }
   ],
   "source": [
    "data_frame.info()"
   ]
  },
  {
   "cell_type": "code",
   "execution_count": 29,
   "id": "9c640e07-245f-4423-a975-30f1a6be90bb",
   "metadata": {},
   "outputs": [],
   "source": [
    "itens_input_mvp = data_frame\n",
    "itens_input_mvp = itens_input_mvp.sort_values(by=[\"NUMERO_REGISTRO_PRODUTO\",\"DATA_DE_ENTRADA_DO_ITEM\"])"
   ]
  },
  {
   "cell_type": "code",
   "execution_count": 30,
   "id": "731fc0e4-b01f-419c-bf13-02312547390a",
   "metadata": {},
   "outputs": [
    {
     "data": {
      "text/plain": [
       "'save_sucess'"
      ]
     },
     "execution_count": 30,
     "metadata": {},
     "output_type": "execute_result"
    }
   ],
   "source": [
    "load_data.conect_data.save_table(itens_input_mvp, '../../data/data_ingestion/', 'ingestion.itens_input_mvp', 'csv')"
   ]
  },
  {
   "cell_type": "markdown",
   "id": "b4cd36ee-98dd-4ce4-9d77-d3e9ef96d2f4",
   "metadata": {
    "tags": []
   },
   "source": [
    "## ingestion.itens_output_mvp"
   ]
  },
  {
   "cell_type": "code",
   "execution_count": 31,
   "id": "5cf7b5a1-d28e-456d-8894-011741a1f378",
   "metadata": {},
   "outputs": [],
   "source": [
    "output_data_mvp = output_data[output_data.NUMERO_REGISTRO_PRODUTO.isin(itens_mvp)]"
   ]
  },
  {
   "cell_type": "code",
   "execution_count": 32,
   "id": "17d79e41-7cec-433b-ad54-be72d541b3c8",
   "metadata": {},
   "outputs": [
    {
     "data": {
      "text/html": [
       "<div>\n",
       "<style scoped>\n",
       "    .dataframe tbody tr th:only-of-type {\n",
       "        vertical-align: middle;\n",
       "    }\n",
       "\n",
       "    .dataframe tbody tr th {\n",
       "        vertical-align: top;\n",
       "    }\n",
       "\n",
       "    .dataframe thead th {\n",
       "        text-align: right;\n",
       "    }\n",
       "</style>\n",
       "<table border=\"1\" class=\"dataframe\">\n",
       "  <thead>\n",
       "    <tr style=\"text-align: right;\">\n",
       "      <th></th>\n",
       "      <th>NUMERO_REGISTRO_PRODUTO</th>\n",
       "      <th>IDENTIFICADOR_DO_ITEM</th>\n",
       "      <th>NOME_PRODUTO</th>\n",
       "      <th>DATA_DE_CONSUMO</th>\n",
       "      <th>QUANTIDADE</th>\n",
       "    </tr>\n",
       "  </thead>\n",
       "  <tbody>\n",
       "    <tr>\n",
       "      <th>2</th>\n",
       "      <td>100470305</td>\n",
       "      <td>25351022805</td>\n",
       "      <td>ALENDRONATO SODICO</td>\n",
       "      <td>NaN</td>\n",
       "      <td>NaN</td>\n",
       "    </tr>\n",
       "    <tr>\n",
       "      <th>22</th>\n",
       "      <td>105500142</td>\n",
       "      <td>25351019591</td>\n",
       "      <td>RABEPRAZOL SODICO</td>\n",
       "      <td>NaN</td>\n",
       "      <td>NaN</td>\n",
       "    </tr>\n",
       "    <tr>\n",
       "      <th>37</th>\n",
       "      <td>105830361</td>\n",
       "      <td>25351213644</td>\n",
       "      <td>A SAÚDE DA MULHER</td>\n",
       "      <td>NaN</td>\n",
       "      <td>NaN</td>\n",
       "    </tr>\n",
       "    <tr>\n",
       "      <th>43</th>\n",
       "      <td>120330280</td>\n",
       "      <td>25351353153</td>\n",
       "      <td>AAS PROTECT</td>\n",
       "      <td>NaN</td>\n",
       "      <td>NaN</td>\n",
       "    </tr>\n",
       "    <tr>\n",
       "      <th>55</th>\n",
       "      <td>144930012</td>\n",
       "      <td>25351000183</td>\n",
       "      <td>ABEDERIL</td>\n",
       "      <td>NaN</td>\n",
       "      <td>NaN</td>\n",
       "    </tr>\n",
       "  </tbody>\n",
       "</table>\n",
       "</div>"
      ],
      "text/plain": [
       "    NUMERO_REGISTRO_PRODUTO  IDENTIFICADOR_DO_ITEM         NOME_PRODUTO  \\\n",
       "2                 100470305            25351022805   ALENDRONATO SODICO   \n",
       "22                105500142            25351019591    RABEPRAZOL SODICO   \n",
       "37                105830361            25351213644    A SAÚDE DA MULHER   \n",
       "43                120330280            25351353153          AAS PROTECT   \n",
       "55                144930012            25351000183             ABEDERIL   \n",
       "\n",
       "    DATA_DE_CONSUMO  QUANTIDADE  \n",
       "2               NaN         NaN  \n",
       "22              NaN         NaN  \n",
       "37              NaN         NaN  \n",
       "43              NaN         NaN  \n",
       "55              NaN         NaN  "
      ]
     },
     "execution_count": 32,
     "metadata": {},
     "output_type": "execute_result"
    }
   ],
   "source": [
    "output_data_mvp.head()"
   ]
  },
  {
   "cell_type": "code",
   "execution_count": 33,
   "id": "d0af2831-0240-4175-8548-235df55f5a5c",
   "metadata": {},
   "outputs": [],
   "source": [
    "dates = pd.date_range('2/1/2020', periods=24, freq='M').values"
   ]
  },
  {
   "cell_type": "code",
   "execution_count": 34,
   "id": "682fa11d-f067-499d-abd1-14e10c37a5ac",
   "metadata": {
    "tags": []
   },
   "outputs": [
    {
     "name": "stderr",
     "output_type": "stream",
     "text": [
      "  0%|                                                                                         | 0/3000 [00:00<?, ?it/s]C:\\Users\\anton\\AppData\\Local\\Temp\\ipykernel_1612\\2228827052.py:5: SettingWithCopyWarning: \n",
      "A value is trying to be set on a copy of a slice from a DataFrame.\n",
      "Try using .loc[row_indexer,col_indexer] = value instead\n",
      "\n",
      "See the caveats in the documentation: https://pandas.pydata.org/pandas-docs/stable/user_guide/indexing.html#returning-a-view-versus-a-copy\n",
      "  data[\"DATA_DE_CONSUMO\"] = date\n",
      "100%|██████████████████████████████████████████████████████████████████████████████| 3000/3000 [09:12<00:00,  5.43it/s]\n"
     ]
    }
   ],
   "source": [
    "data_frame = pd.DataFrame(None, columns=output_data_mvp.columns)\n",
    "for product in tqdm(output_data_mvp.NUMERO_REGISTRO_PRODUTO):\n",
    "    data = output_data_mvp.query(f\"NUMERO_REGISTRO_PRODUTO == '{product}'\")\n",
    "    for date in dates:\n",
    "        data[\"DATA_DE_CONSUMO\"] = date\n",
    "        data_frame = pd.concat([data,data_frame])"
   ]
  },
  {
   "cell_type": "code",
   "execution_count": 35,
   "id": "bc9c71e3-09ee-4270-abde-b513cf0f1a55",
   "metadata": {},
   "outputs": [
    {
     "data": {
      "text/html": [
       "<div>\n",
       "<style scoped>\n",
       "    .dataframe tbody tr th:only-of-type {\n",
       "        vertical-align: middle;\n",
       "    }\n",
       "\n",
       "    .dataframe tbody tr th {\n",
       "        vertical-align: top;\n",
       "    }\n",
       "\n",
       "    .dataframe thead th {\n",
       "        text-align: right;\n",
       "    }\n",
       "</style>\n",
       "<table border=\"1\" class=\"dataframe\">\n",
       "  <thead>\n",
       "    <tr style=\"text-align: right;\">\n",
       "      <th></th>\n",
       "      <th>NUMERO_REGISTRO_PRODUTO</th>\n",
       "      <th>IDENTIFICADOR_DO_ITEM</th>\n",
       "      <th>NOME_PRODUTO</th>\n",
       "      <th>DATA_DE_CONSUMO</th>\n",
       "      <th>QUANTIDADE</th>\n",
       "    </tr>\n",
       "  </thead>\n",
       "  <tbody>\n",
       "    <tr>\n",
       "      <th>29795</th>\n",
       "      <td>105250103</td>\n",
       "      <td>25351212751</td>\n",
       "      <td>OLMECOR TRIPLO</td>\n",
       "      <td>2022-01-31</td>\n",
       "      <td>NaN</td>\n",
       "    </tr>\n",
       "    <tr>\n",
       "      <th>29795</th>\n",
       "      <td>105250103</td>\n",
       "      <td>25351212751</td>\n",
       "      <td>OLMECOR TRIPLO</td>\n",
       "      <td>2021-12-31</td>\n",
       "      <td>NaN</td>\n",
       "    </tr>\n",
       "    <tr>\n",
       "      <th>29795</th>\n",
       "      <td>105250103</td>\n",
       "      <td>25351212751</td>\n",
       "      <td>OLMECOR TRIPLO</td>\n",
       "      <td>2021-11-30</td>\n",
       "      <td>NaN</td>\n",
       "    </tr>\n",
       "    <tr>\n",
       "      <th>29795</th>\n",
       "      <td>105250103</td>\n",
       "      <td>25351212751</td>\n",
       "      <td>OLMECOR TRIPLO</td>\n",
       "      <td>2021-10-31</td>\n",
       "      <td>NaN</td>\n",
       "    </tr>\n",
       "    <tr>\n",
       "      <th>29795</th>\n",
       "      <td>105250103</td>\n",
       "      <td>25351212751</td>\n",
       "      <td>OLMECOR TRIPLO</td>\n",
       "      <td>2021-09-30</td>\n",
       "      <td>NaN</td>\n",
       "    </tr>\n",
       "  </tbody>\n",
       "</table>\n",
       "</div>"
      ],
      "text/plain": [
       "      NUMERO_REGISTRO_PRODUTO IDENTIFICADOR_DO_ITEM    NOME_PRODUTO  \\\n",
       "29795               105250103           25351212751  OLMECOR TRIPLO   \n",
       "29795               105250103           25351212751  OLMECOR TRIPLO   \n",
       "29795               105250103           25351212751  OLMECOR TRIPLO   \n",
       "29795               105250103           25351212751  OLMECOR TRIPLO   \n",
       "29795               105250103           25351212751  OLMECOR TRIPLO   \n",
       "\n",
       "      DATA_DE_CONSUMO QUANTIDADE  \n",
       "29795      2022-01-31        NaN  \n",
       "29795      2021-12-31        NaN  \n",
       "29795      2021-11-30        NaN  \n",
       "29795      2021-10-31        NaN  \n",
       "29795      2021-09-30        NaN  "
      ]
     },
     "execution_count": 35,
     "metadata": {},
     "output_type": "execute_result"
    }
   ],
   "source": [
    "data_frame.head()"
   ]
  },
  {
   "cell_type": "code",
   "execution_count": 36,
   "id": "eb26c3e5-4334-4242-b6d7-0e149dd7bfa1",
   "metadata": {},
   "outputs": [],
   "source": [
    "data_frame = data_frame.sort_values(by=[\"NUMERO_REGISTRO_PRODUTO\",\"DATA_DE_CONSUMO\"])"
   ]
  },
  {
   "cell_type": "code",
   "execution_count": 37,
   "id": "f40e60e9-c436-40c2-a62e-54d5c3a383ec",
   "metadata": {},
   "outputs": [
    {
     "data": {
      "text/html": [
       "<div>\n",
       "<style scoped>\n",
       "    .dataframe tbody tr th:only-of-type {\n",
       "        vertical-align: middle;\n",
       "    }\n",
       "\n",
       "    .dataframe tbody tr th {\n",
       "        vertical-align: top;\n",
       "    }\n",
       "\n",
       "    .dataframe thead th {\n",
       "        text-align: right;\n",
       "    }\n",
       "</style>\n",
       "<table border=\"1\" class=\"dataframe\">\n",
       "  <thead>\n",
       "    <tr style=\"text-align: right;\">\n",
       "      <th></th>\n",
       "      <th>NUMERO_REGISTRO_PRODUTO</th>\n",
       "      <th>IDENTIFICADOR_DO_ITEM</th>\n",
       "      <th>NOME_PRODUTO</th>\n",
       "      <th>DATA_DE_CONSUMO</th>\n",
       "      <th>QUANTIDADE</th>\n",
       "    </tr>\n",
       "  </thead>\n",
       "  <tbody>\n",
       "    <tr>\n",
       "      <th>18827</th>\n",
       "      <td>5</td>\n",
       "      <td>25000003601</td>\n",
       "      <td>OBESINAS DR. ALBERTO SEABRA 44</td>\n",
       "      <td>2020-02-29</td>\n",
       "      <td>NaN</td>\n",
       "    </tr>\n",
       "    <tr>\n",
       "      <th>18827</th>\n",
       "      <td>5</td>\n",
       "      <td>25000003601</td>\n",
       "      <td>OBESINAS DR. ALBERTO SEABRA 44</td>\n",
       "      <td>2020-03-31</td>\n",
       "      <td>NaN</td>\n",
       "    </tr>\n",
       "    <tr>\n",
       "      <th>18827</th>\n",
       "      <td>5</td>\n",
       "      <td>25000003601</td>\n",
       "      <td>OBESINAS DR. ALBERTO SEABRA 44</td>\n",
       "      <td>2020-04-30</td>\n",
       "      <td>NaN</td>\n",
       "    </tr>\n",
       "    <tr>\n",
       "      <th>18827</th>\n",
       "      <td>5</td>\n",
       "      <td>25000003601</td>\n",
       "      <td>OBESINAS DR. ALBERTO SEABRA 44</td>\n",
       "      <td>2020-05-31</td>\n",
       "      <td>NaN</td>\n",
       "    </tr>\n",
       "    <tr>\n",
       "      <th>18827</th>\n",
       "      <td>5</td>\n",
       "      <td>25000003601</td>\n",
       "      <td>OBESINAS DR. ALBERTO SEABRA 44</td>\n",
       "      <td>2020-06-30</td>\n",
       "      <td>NaN</td>\n",
       "    </tr>\n",
       "  </tbody>\n",
       "</table>\n",
       "</div>"
      ],
      "text/plain": [
       "      NUMERO_REGISTRO_PRODUTO IDENTIFICADOR_DO_ITEM  \\\n",
       "18827                       5           25000003601   \n",
       "18827                       5           25000003601   \n",
       "18827                       5           25000003601   \n",
       "18827                       5           25000003601   \n",
       "18827                       5           25000003601   \n",
       "\n",
       "                         NOME_PRODUTO DATA_DE_CONSUMO QUANTIDADE  \n",
       "18827  OBESINAS DR. ALBERTO SEABRA 44      2020-02-29        NaN  \n",
       "18827  OBESINAS DR. ALBERTO SEABRA 44      2020-03-31        NaN  \n",
       "18827  OBESINAS DR. ALBERTO SEABRA 44      2020-04-30        NaN  \n",
       "18827  OBESINAS DR. ALBERTO SEABRA 44      2020-05-31        NaN  \n",
       "18827  OBESINAS DR. ALBERTO SEABRA 44      2020-06-30        NaN  "
      ]
     },
     "execution_count": 37,
     "metadata": {},
     "output_type": "execute_result"
    }
   ],
   "source": [
    "data_frame.head()"
   ]
  },
  {
   "cell_type": "code",
   "execution_count": 38,
   "id": "df104034-1cb2-4d30-a1e2-e5153080f545",
   "metadata": {},
   "outputs": [
    {
     "data": {
      "text/html": [
       "<div>\n",
       "<style scoped>\n",
       "    .dataframe tbody tr th:only-of-type {\n",
       "        vertical-align: middle;\n",
       "    }\n",
       "\n",
       "    .dataframe tbody tr th {\n",
       "        vertical-align: top;\n",
       "    }\n",
       "\n",
       "    .dataframe thead th {\n",
       "        text-align: right;\n",
       "    }\n",
       "</style>\n",
       "<table border=\"1\" class=\"dataframe\">\n",
       "  <thead>\n",
       "    <tr style=\"text-align: right;\">\n",
       "      <th></th>\n",
       "      <th>NUMERO_REGISTRO_PRODUTO</th>\n",
       "      <th>IDENTIFICADOR_DO_ITEM</th>\n",
       "      <th>NOME_PRODUTO</th>\n",
       "      <th>DATA_DE_PEDIDO_DO_ITEM</th>\n",
       "      <th>DATA_DE_ENTRADA_DO_ITEM</th>\n",
       "      <th>DATA_VENCIMENTO_REGISTRO</th>\n",
       "      <th>QUANTIDADE</th>\n",
       "      <th>CUSTO_DE_AQUISIÇÃO</th>\n",
       "      <th>QUANTIDADE_ENTRADA</th>\n",
       "      <th>CUSTO_DE_AQUISICAO</th>\n",
       "      <th>DATA_VENCIMENTO</th>\n",
       "    </tr>\n",
       "  </thead>\n",
       "  <tbody>\n",
       "    <tr>\n",
       "      <th>18827</th>\n",
       "      <td>5</td>\n",
       "      <td>25000003601</td>\n",
       "      <td>OBESINAS DR. ALBERTO SEABRA 44</td>\n",
       "      <td>2019-11-04</td>\n",
       "      <td>2020-01-31</td>\n",
       "      <td>01/03/2005</td>\n",
       "      <td>NaN</td>\n",
       "      <td>NaN</td>\n",
       "      <td>29</td>\n",
       "      <td>215</td>\n",
       "      <td>2020-06-10</td>\n",
       "    </tr>\n",
       "    <tr>\n",
       "      <th>18827</th>\n",
       "      <td>5</td>\n",
       "      <td>25000003601</td>\n",
       "      <td>OBESINAS DR. ALBERTO SEABRA 44</td>\n",
       "      <td>2019-12-03</td>\n",
       "      <td>2020-02-29</td>\n",
       "      <td>01/03/2005</td>\n",
       "      <td>NaN</td>\n",
       "      <td>NaN</td>\n",
       "      <td>59</td>\n",
       "      <td>215</td>\n",
       "      <td>2020-07-09</td>\n",
       "    </tr>\n",
       "    <tr>\n",
       "      <th>18827</th>\n",
       "      <td>5</td>\n",
       "      <td>25000003601</td>\n",
       "      <td>OBESINAS DR. ALBERTO SEABRA 44</td>\n",
       "      <td>2020-01-03</td>\n",
       "      <td>2020-03-31</td>\n",
       "      <td>01/03/2005</td>\n",
       "      <td>NaN</td>\n",
       "      <td>NaN</td>\n",
       "      <td>18</td>\n",
       "      <td>215</td>\n",
       "      <td>2020-08-09</td>\n",
       "    </tr>\n",
       "    <tr>\n",
       "      <th>18827</th>\n",
       "      <td>5</td>\n",
       "      <td>25000003601</td>\n",
       "      <td>OBESINAS DR. ALBERTO SEABRA 44</td>\n",
       "      <td>2020-02-02</td>\n",
       "      <td>2020-04-30</td>\n",
       "      <td>01/03/2005</td>\n",
       "      <td>NaN</td>\n",
       "      <td>NaN</td>\n",
       "      <td>33</td>\n",
       "      <td>215</td>\n",
       "      <td>2020-09-08</td>\n",
       "    </tr>\n",
       "    <tr>\n",
       "      <th>18827</th>\n",
       "      <td>5</td>\n",
       "      <td>25000003601</td>\n",
       "      <td>OBESINAS DR. ALBERTO SEABRA 44</td>\n",
       "      <td>2020-03-04</td>\n",
       "      <td>2020-05-31</td>\n",
       "      <td>01/03/2005</td>\n",
       "      <td>NaN</td>\n",
       "      <td>NaN</td>\n",
       "      <td>14</td>\n",
       "      <td>215</td>\n",
       "      <td>2020-10-09</td>\n",
       "    </tr>\n",
       "  </tbody>\n",
       "</table>\n",
       "</div>"
      ],
      "text/plain": [
       "      NUMERO_REGISTRO_PRODUTO IDENTIFICADOR_DO_ITEM  \\\n",
       "18827                       5           25000003601   \n",
       "18827                       5           25000003601   \n",
       "18827                       5           25000003601   \n",
       "18827                       5           25000003601   \n",
       "18827                       5           25000003601   \n",
       "\n",
       "                         NOME_PRODUTO DATA_DE_PEDIDO_DO_ITEM  \\\n",
       "18827  OBESINAS DR. ALBERTO SEABRA 44             2019-11-04   \n",
       "18827  OBESINAS DR. ALBERTO SEABRA 44             2019-12-03   \n",
       "18827  OBESINAS DR. ALBERTO SEABRA 44             2020-01-03   \n",
       "18827  OBESINAS DR. ALBERTO SEABRA 44             2020-02-02   \n",
       "18827  OBESINAS DR. ALBERTO SEABRA 44             2020-03-04   \n",
       "\n",
       "      DATA_DE_ENTRADA_DO_ITEM DATA_VENCIMENTO_REGISTRO QUANTIDADE  \\\n",
       "18827              2020-01-31               01/03/2005        NaN   \n",
       "18827              2020-02-29               01/03/2005        NaN   \n",
       "18827              2020-03-31               01/03/2005        NaN   \n",
       "18827              2020-04-30               01/03/2005        NaN   \n",
       "18827              2020-05-31               01/03/2005        NaN   \n",
       "\n",
       "      CUSTO_DE_AQUISIÇÃO  QUANTIDADE_ENTRADA  CUSTO_DE_AQUISICAO  \\\n",
       "18827                NaN                  29                 215   \n",
       "18827                NaN                  59                 215   \n",
       "18827                NaN                  18                 215   \n",
       "18827                NaN                  33                 215   \n",
       "18827                NaN                  14                 215   \n",
       "\n",
       "      DATA_VENCIMENTO  \n",
       "18827      2020-06-10  \n",
       "18827      2020-07-09  \n",
       "18827      2020-08-09  \n",
       "18827      2020-09-08  \n",
       "18827      2020-10-09  "
      ]
     },
     "execution_count": 38,
     "metadata": {},
     "output_type": "execute_result"
    }
   ],
   "source": [
    "itens_input_mvp.head()"
   ]
  },
  {
   "cell_type": "code",
   "execution_count": 39,
   "id": "aa8c341c-ae1b-47ec-9077-1310c1f6f3df",
   "metadata": {
    "tags": []
   },
   "outputs": [
    {
     "name": "stderr",
     "output_type": "stream",
     "text": [
      "72000it [00:04, 15494.83it/s]\n"
     ]
    }
   ],
   "source": [
    "quantidade_saida = []\n",
    "for idx, product in tqdm(itens_input_mvp.iterrows()):\n",
    "    quantidade_saida.append(int(product.QUANTIDADE_ENTRADA * random.random()))\n",
    "    \n",
    "data_frame[\"QUANTIDADE_SAIDA\"] = quantidade_saida"
   ]
  },
  {
   "cell_type": "code",
   "execution_count": 40,
   "id": "78e40c3f-c358-43ae-9947-cc5c5ad11dd7",
   "metadata": {},
   "outputs": [
    {
     "data": {
      "text/html": [
       "<div>\n",
       "<style scoped>\n",
       "    .dataframe tbody tr th:only-of-type {\n",
       "        vertical-align: middle;\n",
       "    }\n",
       "\n",
       "    .dataframe tbody tr th {\n",
       "        vertical-align: top;\n",
       "    }\n",
       "\n",
       "    .dataframe thead th {\n",
       "        text-align: right;\n",
       "    }\n",
       "</style>\n",
       "<table border=\"1\" class=\"dataframe\">\n",
       "  <thead>\n",
       "    <tr style=\"text-align: right;\">\n",
       "      <th></th>\n",
       "      <th>NUMERO_REGISTRO_PRODUTO</th>\n",
       "      <th>IDENTIFICADOR_DO_ITEM</th>\n",
       "      <th>NOME_PRODUTO</th>\n",
       "      <th>DATA_DE_CONSUMO</th>\n",
       "      <th>QUANTIDADE</th>\n",
       "      <th>QUANTIDADE_SAIDA</th>\n",
       "    </tr>\n",
       "  </thead>\n",
       "  <tbody>\n",
       "    <tr>\n",
       "      <th>18827</th>\n",
       "      <td>5</td>\n",
       "      <td>25000003601</td>\n",
       "      <td>OBESINAS DR. ALBERTO SEABRA 44</td>\n",
       "      <td>2020-02-29</td>\n",
       "      <td>NaN</td>\n",
       "      <td>16</td>\n",
       "    </tr>\n",
       "    <tr>\n",
       "      <th>18827</th>\n",
       "      <td>5</td>\n",
       "      <td>25000003601</td>\n",
       "      <td>OBESINAS DR. ALBERTO SEABRA 44</td>\n",
       "      <td>2020-03-31</td>\n",
       "      <td>NaN</td>\n",
       "      <td>50</td>\n",
       "    </tr>\n",
       "    <tr>\n",
       "      <th>18827</th>\n",
       "      <td>5</td>\n",
       "      <td>25000003601</td>\n",
       "      <td>OBESINAS DR. ALBERTO SEABRA 44</td>\n",
       "      <td>2020-04-30</td>\n",
       "      <td>NaN</td>\n",
       "      <td>4</td>\n",
       "    </tr>\n",
       "    <tr>\n",
       "      <th>18827</th>\n",
       "      <td>5</td>\n",
       "      <td>25000003601</td>\n",
       "      <td>OBESINAS DR. ALBERTO SEABRA 44</td>\n",
       "      <td>2020-05-31</td>\n",
       "      <td>NaN</td>\n",
       "      <td>17</td>\n",
       "    </tr>\n",
       "    <tr>\n",
       "      <th>18827</th>\n",
       "      <td>5</td>\n",
       "      <td>25000003601</td>\n",
       "      <td>OBESINAS DR. ALBERTO SEABRA 44</td>\n",
       "      <td>2020-06-30</td>\n",
       "      <td>NaN</td>\n",
       "      <td>6</td>\n",
       "    </tr>\n",
       "  </tbody>\n",
       "</table>\n",
       "</div>"
      ],
      "text/plain": [
       "      NUMERO_REGISTRO_PRODUTO IDENTIFICADOR_DO_ITEM  \\\n",
       "18827                       5           25000003601   \n",
       "18827                       5           25000003601   \n",
       "18827                       5           25000003601   \n",
       "18827                       5           25000003601   \n",
       "18827                       5           25000003601   \n",
       "\n",
       "                         NOME_PRODUTO DATA_DE_CONSUMO QUANTIDADE  \\\n",
       "18827  OBESINAS DR. ALBERTO SEABRA 44      2020-02-29        NaN   \n",
       "18827  OBESINAS DR. ALBERTO SEABRA 44      2020-03-31        NaN   \n",
       "18827  OBESINAS DR. ALBERTO SEABRA 44      2020-04-30        NaN   \n",
       "18827  OBESINAS DR. ALBERTO SEABRA 44      2020-05-31        NaN   \n",
       "18827  OBESINAS DR. ALBERTO SEABRA 44      2020-06-30        NaN   \n",
       "\n",
       "       QUANTIDADE_SAIDA  \n",
       "18827                16  \n",
       "18827                50  \n",
       "18827                 4  \n",
       "18827                17  \n",
       "18827                 6  "
      ]
     },
     "execution_count": 40,
     "metadata": {},
     "output_type": "execute_result"
    }
   ],
   "source": [
    "data_frame.head()"
   ]
  },
  {
   "cell_type": "code",
   "execution_count": 41,
   "id": "f9ab2cb1-a305-47df-8f7a-37adb5b5c7a7",
   "metadata": {},
   "outputs": [
    {
     "data": {
      "text/html": [
       "<div>\n",
       "<style scoped>\n",
       "    .dataframe tbody tr th:only-of-type {\n",
       "        vertical-align: middle;\n",
       "    }\n",
       "\n",
       "    .dataframe tbody tr th {\n",
       "        vertical-align: top;\n",
       "    }\n",
       "\n",
       "    .dataframe thead th {\n",
       "        text-align: right;\n",
       "    }\n",
       "</style>\n",
       "<table border=\"1\" class=\"dataframe\">\n",
       "  <thead>\n",
       "    <tr style=\"text-align: right;\">\n",
       "      <th></th>\n",
       "      <th>NUMERO_REGISTRO_PRODUTO</th>\n",
       "      <th>IDENTIFICADOR_DO_ITEM</th>\n",
       "      <th>NOME_PRODUTO</th>\n",
       "      <th>DATA_DE_PEDIDO_DO_ITEM</th>\n",
       "      <th>DATA_DE_ENTRADA_DO_ITEM</th>\n",
       "      <th>DATA_VENCIMENTO_REGISTRO</th>\n",
       "      <th>QUANTIDADE</th>\n",
       "      <th>CUSTO_DE_AQUISIÇÃO</th>\n",
       "      <th>QUANTIDADE_ENTRADA</th>\n",
       "      <th>CUSTO_DE_AQUISICAO</th>\n",
       "      <th>DATA_VENCIMENTO</th>\n",
       "    </tr>\n",
       "  </thead>\n",
       "  <tbody>\n",
       "    <tr>\n",
       "      <th>18827</th>\n",
       "      <td>5</td>\n",
       "      <td>25000003601</td>\n",
       "      <td>OBESINAS DR. ALBERTO SEABRA 44</td>\n",
       "      <td>2019-11-04</td>\n",
       "      <td>2020-01-31</td>\n",
       "      <td>01/03/2005</td>\n",
       "      <td>NaN</td>\n",
       "      <td>NaN</td>\n",
       "      <td>29</td>\n",
       "      <td>215</td>\n",
       "      <td>2020-06-10</td>\n",
       "    </tr>\n",
       "    <tr>\n",
       "      <th>18827</th>\n",
       "      <td>5</td>\n",
       "      <td>25000003601</td>\n",
       "      <td>OBESINAS DR. ALBERTO SEABRA 44</td>\n",
       "      <td>2019-12-03</td>\n",
       "      <td>2020-02-29</td>\n",
       "      <td>01/03/2005</td>\n",
       "      <td>NaN</td>\n",
       "      <td>NaN</td>\n",
       "      <td>59</td>\n",
       "      <td>215</td>\n",
       "      <td>2020-07-09</td>\n",
       "    </tr>\n",
       "    <tr>\n",
       "      <th>18827</th>\n",
       "      <td>5</td>\n",
       "      <td>25000003601</td>\n",
       "      <td>OBESINAS DR. ALBERTO SEABRA 44</td>\n",
       "      <td>2020-01-03</td>\n",
       "      <td>2020-03-31</td>\n",
       "      <td>01/03/2005</td>\n",
       "      <td>NaN</td>\n",
       "      <td>NaN</td>\n",
       "      <td>18</td>\n",
       "      <td>215</td>\n",
       "      <td>2020-08-09</td>\n",
       "    </tr>\n",
       "    <tr>\n",
       "      <th>18827</th>\n",
       "      <td>5</td>\n",
       "      <td>25000003601</td>\n",
       "      <td>OBESINAS DR. ALBERTO SEABRA 44</td>\n",
       "      <td>2020-02-02</td>\n",
       "      <td>2020-04-30</td>\n",
       "      <td>01/03/2005</td>\n",
       "      <td>NaN</td>\n",
       "      <td>NaN</td>\n",
       "      <td>33</td>\n",
       "      <td>215</td>\n",
       "      <td>2020-09-08</td>\n",
       "    </tr>\n",
       "    <tr>\n",
       "      <th>18827</th>\n",
       "      <td>5</td>\n",
       "      <td>25000003601</td>\n",
       "      <td>OBESINAS DR. ALBERTO SEABRA 44</td>\n",
       "      <td>2020-03-04</td>\n",
       "      <td>2020-05-31</td>\n",
       "      <td>01/03/2005</td>\n",
       "      <td>NaN</td>\n",
       "      <td>NaN</td>\n",
       "      <td>14</td>\n",
       "      <td>215</td>\n",
       "      <td>2020-10-09</td>\n",
       "    </tr>\n",
       "  </tbody>\n",
       "</table>\n",
       "</div>"
      ],
      "text/plain": [
       "      NUMERO_REGISTRO_PRODUTO IDENTIFICADOR_DO_ITEM  \\\n",
       "18827                       5           25000003601   \n",
       "18827                       5           25000003601   \n",
       "18827                       5           25000003601   \n",
       "18827                       5           25000003601   \n",
       "18827                       5           25000003601   \n",
       "\n",
       "                         NOME_PRODUTO DATA_DE_PEDIDO_DO_ITEM  \\\n",
       "18827  OBESINAS DR. ALBERTO SEABRA 44             2019-11-04   \n",
       "18827  OBESINAS DR. ALBERTO SEABRA 44             2019-12-03   \n",
       "18827  OBESINAS DR. ALBERTO SEABRA 44             2020-01-03   \n",
       "18827  OBESINAS DR. ALBERTO SEABRA 44             2020-02-02   \n",
       "18827  OBESINAS DR. ALBERTO SEABRA 44             2020-03-04   \n",
       "\n",
       "      DATA_DE_ENTRADA_DO_ITEM DATA_VENCIMENTO_REGISTRO QUANTIDADE  \\\n",
       "18827              2020-01-31               01/03/2005        NaN   \n",
       "18827              2020-02-29               01/03/2005        NaN   \n",
       "18827              2020-03-31               01/03/2005        NaN   \n",
       "18827              2020-04-30               01/03/2005        NaN   \n",
       "18827              2020-05-31               01/03/2005        NaN   \n",
       "\n",
       "      CUSTO_DE_AQUISIÇÃO  QUANTIDADE_ENTRADA  CUSTO_DE_AQUISICAO  \\\n",
       "18827                NaN                  29                 215   \n",
       "18827                NaN                  59                 215   \n",
       "18827                NaN                  18                 215   \n",
       "18827                NaN                  33                 215   \n",
       "18827                NaN                  14                 215   \n",
       "\n",
       "      DATA_VENCIMENTO  \n",
       "18827      2020-06-10  \n",
       "18827      2020-07-09  \n",
       "18827      2020-08-09  \n",
       "18827      2020-09-08  \n",
       "18827      2020-10-09  "
      ]
     },
     "execution_count": 41,
     "metadata": {},
     "output_type": "execute_result"
    }
   ],
   "source": [
    "itens_input_mvp.head()"
   ]
  },
  {
   "cell_type": "code",
   "execution_count": 42,
   "id": "38fa462b-6ae5-424f-958a-3ca2e2c520b3",
   "metadata": {},
   "outputs": [],
   "source": [
    "itens_output_mvp = data_frame"
   ]
  },
  {
   "cell_type": "code",
   "execution_count": 43,
   "id": "6066a373-fc42-4eb3-88bb-14e3c7f95844",
   "metadata": {},
   "outputs": [
    {
     "data": {
      "text/plain": [
       "'save_sucess'"
      ]
     },
     "execution_count": 43,
     "metadata": {},
     "output_type": "execute_result"
    }
   ],
   "source": [
    "load_data.conect_data.save_table(itens_output_mvp, '../../data/data_ingestion/', 'ingestion.itens_output_mvp', 'csv')"
   ]
  },
  {
   "cell_type": "code",
   "execution_count": null,
   "id": "6d0cd1da-72f0-4b8a-b75a-cdce453e3818",
   "metadata": {},
   "outputs": [],
   "source": []
  }
 ],
 "metadata": {
  "kernelspec": {
   "display_name": "Python 3 (ipykernel)",
   "language": "python",
   "name": "python3"
  },
  "language_info": {
   "codemirror_mode": {
    "name": "ipython",
    "version": 3
   },
   "file_extension": ".py",
   "mimetype": "text/x-python",
   "name": "python",
   "nbconvert_exporter": "python",
   "pygments_lexer": "ipython3",
   "version": "3.9.0"
  },
  "toc-autonumbering": true
 },
 "nbformat": 4,
 "nbformat_minor": 5
}
