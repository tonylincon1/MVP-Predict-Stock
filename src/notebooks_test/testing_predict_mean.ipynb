{
 "cells": [
  {
   "cell_type": "markdown",
   "id": "6ce52514-1100-45f4-818f-942d72a7952b",
   "metadata": {
    "tags": []
   },
   "source": [
    "# Importando bibliotecas"
   ]
  },
  {
   "cell_type": "code",
   "execution_count": 77,
   "id": "ada10ada-d864-45d1-8874-27bf7c4de8c6",
   "metadata": {},
   "outputs": [],
   "source": [
    "import pandas as pd\n",
    "import numpy as np\n",
    "from sklearn.metrics import mean_absolute_error, mean_squared_error\n",
    "import sys\n",
    "sys.path.insert(1, '../predict_stock_mvp/pre_train/')\n",
    "import load_data\n",
    "from datetime import date, datetime\n",
    "from dateutil.relativedelta import relativedelta"
   ]
  },
  {
   "cell_type": "markdown",
   "id": "a7a7b118-dd4c-4359-ac78-41f1112297d2",
   "metadata": {
    "tags": []
   },
   "source": [
    "# Criando cálculo de previsão de média móvel"
   ]
  },
  {
   "cell_type": "code",
   "execution_count": 2,
   "id": "cff49d61-d6b7-4060-af57-47d5aa0963d3",
   "metadata": {},
   "outputs": [
    {
     "name": "stderr",
     "output_type": "stream",
     "text": [
      "../predict_stock_mvp/pre_train\\load_data.py:23: ParserWarning: Falling back to the 'python' engine because the 'c' engine does not support sep=None with delim_whitespace=False; you can avoid this warning by specifying engine='python'.\n",
      "  data = pd.read_csv(f'{location_table}/{name_table}.{type_table}', encoding=encoding, sep=sep)\n"
     ]
    }
   ],
   "source": [
    "data = load_data.conect_data.load_table('../../data/data_ingestion/', 'ingestion.itens_output_mvp', 'csv', sep=None)"
   ]
  },
  {
   "cell_type": "code",
   "execution_count": 4,
   "id": "5966eb69-ce10-4dd6-9204-e11f9803a816",
   "metadata": {},
   "outputs": [],
   "source": [
    "data_predict_media_movel = data[[\"NUMERO_REGISTRO_PRODUTO\",\"DATA_DE_CONSUMO\",\"QUANTIDADE_SAIDA\"]]"
   ]
  },
  {
   "cell_type": "code",
   "execution_count": 5,
   "id": "45a710e7-0b54-44cb-84ae-5092595401e9",
   "metadata": {},
   "outputs": [
    {
     "name": "stderr",
     "output_type": "stream",
     "text": [
      "C:\\Users\\anton\\AppData\\Local\\Temp\\ipykernel_3628\\3613286706.py:8: SettingWithCopyWarning: \n",
      "A value is trying to be set on a copy of a slice from a DataFrame.\n",
      "Try using .loc[row_indexer,col_indexer] = value instead\n",
      "\n",
      "See the caveats in the documentation: https://pandas.pydata.org/pandas-docs/stable/user_guide/indexing.html#returning-a-view-versus-a-copy\n",
      "  data_predict_media_movel[\"PREDICAO\"] = predict_media\n"
     ]
    }
   ],
   "source": [
    "predict_media = []\n",
    "for item in data_predict_media_movel[\"NUMERO_REGISTRO_PRODUTO\"].unique():\n",
    "    serie_itens = data_predict_media_movel.query(f\"NUMERO_REGISTRO_PRODUTO == {item}\")\n",
    "    media_movel = list(serie_itens.QUANTIDADE_SAIDA.shift(1).rolling(3).mean())\n",
    "    for n in media_movel[:]:\n",
    "        predict_media.append(n)\n",
    "        \n",
    "data_predict_media_movel[\"PREDICAO\"] = predict_media"
   ]
  },
  {
   "cell_type": "code",
   "execution_count": 9,
   "id": "d631a522-b911-476e-9d47-16a3b21137d2",
   "metadata": {},
   "outputs": [
    {
     "data": {
      "text/html": [
       "<div>\n",
       "<style scoped>\n",
       "    .dataframe tbody tr th:only-of-type {\n",
       "        vertical-align: middle;\n",
       "    }\n",
       "\n",
       "    .dataframe tbody tr th {\n",
       "        vertical-align: top;\n",
       "    }\n",
       "\n",
       "    .dataframe thead th {\n",
       "        text-align: right;\n",
       "    }\n",
       "</style>\n",
       "<table border=\"1\" class=\"dataframe\">\n",
       "  <thead>\n",
       "    <tr style=\"text-align: right;\">\n",
       "      <th></th>\n",
       "      <th>NUMERO_REGISTRO_PRODUTO</th>\n",
       "      <th>DATA_DE_CONSUMO</th>\n",
       "      <th>QUANTIDADE_SAIDA</th>\n",
       "      <th>PREDICAO</th>\n",
       "    </tr>\n",
       "  </thead>\n",
       "  <tbody>\n",
       "    <tr>\n",
       "      <th>0</th>\n",
       "      <td>10277002</td>\n",
       "      <td>2020-02-29</td>\n",
       "      <td>21</td>\n",
       "      <td>NaN</td>\n",
       "    </tr>\n",
       "    <tr>\n",
       "      <th>1</th>\n",
       "      <td>10277002</td>\n",
       "      <td>2020-03-31</td>\n",
       "      <td>18</td>\n",
       "      <td>NaN</td>\n",
       "    </tr>\n",
       "    <tr>\n",
       "      <th>2</th>\n",
       "      <td>10277002</td>\n",
       "      <td>2020-04-30</td>\n",
       "      <td>56</td>\n",
       "      <td>NaN</td>\n",
       "    </tr>\n",
       "    <tr>\n",
       "      <th>3</th>\n",
       "      <td>10277002</td>\n",
       "      <td>2020-05-31</td>\n",
       "      <td>0</td>\n",
       "      <td>31.666667</td>\n",
       "    </tr>\n",
       "    <tr>\n",
       "      <th>4</th>\n",
       "      <td>10277002</td>\n",
       "      <td>2020-06-30</td>\n",
       "      <td>21</td>\n",
       "      <td>24.666667</td>\n",
       "    </tr>\n",
       "    <tr>\n",
       "      <th>5</th>\n",
       "      <td>10277002</td>\n",
       "      <td>2020-07-31</td>\n",
       "      <td>8</td>\n",
       "      <td>25.666667</td>\n",
       "    </tr>\n",
       "    <tr>\n",
       "      <th>6</th>\n",
       "      <td>10277002</td>\n",
       "      <td>2020-08-31</td>\n",
       "      <td>30</td>\n",
       "      <td>9.666667</td>\n",
       "    </tr>\n",
       "    <tr>\n",
       "      <th>7</th>\n",
       "      <td>10277002</td>\n",
       "      <td>2020-09-30</td>\n",
       "      <td>17</td>\n",
       "      <td>19.666667</td>\n",
       "    </tr>\n",
       "    <tr>\n",
       "      <th>8</th>\n",
       "      <td>10277002</td>\n",
       "      <td>2020-10-31</td>\n",
       "      <td>16</td>\n",
       "      <td>18.333333</td>\n",
       "    </tr>\n",
       "    <tr>\n",
       "      <th>9</th>\n",
       "      <td>10277002</td>\n",
       "      <td>2020-11-30</td>\n",
       "      <td>5</td>\n",
       "      <td>21.000000</td>\n",
       "    </tr>\n",
       "    <tr>\n",
       "      <th>10</th>\n",
       "      <td>10277002</td>\n",
       "      <td>2020-12-31</td>\n",
       "      <td>1</td>\n",
       "      <td>12.666667</td>\n",
       "    </tr>\n",
       "    <tr>\n",
       "      <th>11</th>\n",
       "      <td>10277002</td>\n",
       "      <td>2021-01-31</td>\n",
       "      <td>0</td>\n",
       "      <td>7.333333</td>\n",
       "    </tr>\n",
       "    <tr>\n",
       "      <th>12</th>\n",
       "      <td>10277002</td>\n",
       "      <td>2021-02-28</td>\n",
       "      <td>28</td>\n",
       "      <td>2.000000</td>\n",
       "    </tr>\n",
       "    <tr>\n",
       "      <th>13</th>\n",
       "      <td>10277002</td>\n",
       "      <td>2021-03-31</td>\n",
       "      <td>20</td>\n",
       "      <td>9.666667</td>\n",
       "    </tr>\n",
       "    <tr>\n",
       "      <th>14</th>\n",
       "      <td>10277002</td>\n",
       "      <td>2021-04-30</td>\n",
       "      <td>4</td>\n",
       "      <td>16.000000</td>\n",
       "    </tr>\n",
       "    <tr>\n",
       "      <th>15</th>\n",
       "      <td>10277002</td>\n",
       "      <td>2021-05-31</td>\n",
       "      <td>21</td>\n",
       "      <td>17.333333</td>\n",
       "    </tr>\n",
       "    <tr>\n",
       "      <th>16</th>\n",
       "      <td>10277002</td>\n",
       "      <td>2021-06-30</td>\n",
       "      <td>48</td>\n",
       "      <td>15.000000</td>\n",
       "    </tr>\n",
       "    <tr>\n",
       "      <th>17</th>\n",
       "      <td>10277002</td>\n",
       "      <td>2021-07-31</td>\n",
       "      <td>19</td>\n",
       "      <td>24.333333</td>\n",
       "    </tr>\n",
       "    <tr>\n",
       "      <th>18</th>\n",
       "      <td>10277002</td>\n",
       "      <td>2021-08-31</td>\n",
       "      <td>1</td>\n",
       "      <td>29.333333</td>\n",
       "    </tr>\n",
       "    <tr>\n",
       "      <th>19</th>\n",
       "      <td>10277002</td>\n",
       "      <td>2021-09-30</td>\n",
       "      <td>2</td>\n",
       "      <td>22.666667</td>\n",
       "    </tr>\n",
       "    <tr>\n",
       "      <th>20</th>\n",
       "      <td>10277002</td>\n",
       "      <td>2021-10-31</td>\n",
       "      <td>29</td>\n",
       "      <td>7.333333</td>\n",
       "    </tr>\n",
       "    <tr>\n",
       "      <th>21</th>\n",
       "      <td>10277002</td>\n",
       "      <td>2021-11-30</td>\n",
       "      <td>1</td>\n",
       "      <td>10.666667</td>\n",
       "    </tr>\n",
       "    <tr>\n",
       "      <th>22</th>\n",
       "      <td>10277002</td>\n",
       "      <td>2021-12-31</td>\n",
       "      <td>12</td>\n",
       "      <td>10.666667</td>\n",
       "    </tr>\n",
       "    <tr>\n",
       "      <th>23</th>\n",
       "      <td>10277002</td>\n",
       "      <td>2022-01-31</td>\n",
       "      <td>36</td>\n",
       "      <td>14.000000</td>\n",
       "    </tr>\n",
       "  </tbody>\n",
       "</table>\n",
       "</div>"
      ],
      "text/plain": [
       "    NUMERO_REGISTRO_PRODUTO DATA_DE_CONSUMO  QUANTIDADE_SAIDA   PREDICAO\n",
       "0                  10277002      2020-02-29                21        NaN\n",
       "1                  10277002      2020-03-31                18        NaN\n",
       "2                  10277002      2020-04-30                56        NaN\n",
       "3                  10277002      2020-05-31                 0  31.666667\n",
       "4                  10277002      2020-06-30                21  24.666667\n",
       "5                  10277002      2020-07-31                 8  25.666667\n",
       "6                  10277002      2020-08-31                30   9.666667\n",
       "7                  10277002      2020-09-30                17  19.666667\n",
       "8                  10277002      2020-10-31                16  18.333333\n",
       "9                  10277002      2020-11-30                 5  21.000000\n",
       "10                 10277002      2020-12-31                 1  12.666667\n",
       "11                 10277002      2021-01-31                 0   7.333333\n",
       "12                 10277002      2021-02-28                28   2.000000\n",
       "13                 10277002      2021-03-31                20   9.666667\n",
       "14                 10277002      2021-04-30                 4  16.000000\n",
       "15                 10277002      2021-05-31                21  17.333333\n",
       "16                 10277002      2021-06-30                48  15.000000\n",
       "17                 10277002      2021-07-31                19  24.333333\n",
       "18                 10277002      2021-08-31                 1  29.333333\n",
       "19                 10277002      2021-09-30                 2  22.666667\n",
       "20                 10277002      2021-10-31                29   7.333333\n",
       "21                 10277002      2021-11-30                 1  10.666667\n",
       "22                 10277002      2021-12-31                12  10.666667\n",
       "23                 10277002      2022-01-31                36  14.000000"
      ]
     },
     "execution_count": 9,
     "metadata": {},
     "output_type": "execute_result"
    }
   ],
   "source": [
    "data_predict_media_movel.query(\"NUMERO_REGISTRO_PRODUTO == 10277002\")"
   ]
  },
  {
   "cell_type": "code",
   "execution_count": 10,
   "id": "27bb5d04-5931-4f6b-a5f3-e79ac01d86c6",
   "metadata": {},
   "outputs": [
    {
     "data": {
      "text/plain": [
       "16.76388888888889"
      ]
     },
     "execution_count": 10,
     "metadata": {},
     "output_type": "execute_result"
    }
   ],
   "source": [
    "mean_absolute_error(data_predict_media_movel.query(\"NUMERO_REGISTRO_PRODUTO == 10277002\")[\"QUANTIDADE_SAIDA\"], data_predict_media_movel.query(\"NUMERO_REGISTRO_PRODUTO == 10277002\")[\"PREDICAO\"].replace(np.nan, 0))"
   ]
  },
  {
   "cell_type": "code",
   "execution_count": 13,
   "id": "003b6932-416c-49d4-a36d-af8f1096b560",
   "metadata": {},
   "outputs": [
    {
     "data": {
      "text/plain": [
       "19.125"
      ]
     },
     "execution_count": 13,
     "metadata": {},
     "output_type": "execute_result"
    }
   ],
   "source": [
    "mean_absolute_error(data_predict_media_movel.query(\"NUMERO_REGISTRO_PRODUTO == 100020070\")[\"QUANTIDADE_SAIDA\"], data_predict_media_movel.query(\"NUMERO_REGISTRO_PRODUTO == 100020070\")[\"PREDICAO\"].replace(np.nan, 0))"
   ]
  },
  {
   "cell_type": "code",
   "execution_count": 67,
   "id": "db7f88c6-1241-44e0-9d15-074c12bc9990",
   "metadata": {},
   "outputs": [
    {
     "data": {
      "text/plain": [
       "11.847222222222223"
      ]
     },
     "execution_count": 67,
     "metadata": {},
     "output_type": "execute_result"
    }
   ],
   "source": [
    "mean_absolute_error(data_predict_media_movel.query(\"NUMERO_REGISTRO_PRODUTO == 100020082\")[\"QUANTIDADE_SAIDA\"], data_predict_media_movel.query(\"NUMERO_REGISTRO_PRODUTO == 100020082\")[\"PREDICAO\"].replace(np.nan, 0))"
   ]
  },
  {
   "cell_type": "code",
   "execution_count": 68,
   "id": "5f7f0a61-3354-43e8-9f45-5e3fb3d44fb4",
   "metadata": {},
   "outputs": [
    {
     "data": {
      "text/plain": [
       "10.222222222222223"
      ]
     },
     "execution_count": 68,
     "metadata": {},
     "output_type": "execute_result"
    }
   ],
   "source": [
    "mean_absolute_error(data_predict_media_movel.query(\"NUMERO_REGISTRO_PRODUTO == 100020086\")[\"QUANTIDADE_SAIDA\"], data_predict_media_movel.query(\"NUMERO_REGISTRO_PRODUTO == 100020086\")[\"PREDICAO\"].replace(np.nan, 0))"
   ]
  },
  {
   "cell_type": "code",
   "execution_count": 69,
   "id": "810fc0d8-e885-43bc-a0fb-bd6dcad94340",
   "metadata": {},
   "outputs": [
    {
     "data": {
      "text/plain": [
       "12.805555555555555"
      ]
     },
     "execution_count": 69,
     "metadata": {},
     "output_type": "execute_result"
    }
   ],
   "source": [
    "mean_absolute_error(data_predict_media_movel.query(\"NUMERO_REGISTRO_PRODUTO == 100020095\")[\"QUANTIDADE_SAIDA\"], data_predict_media_movel.query(\"NUMERO_REGISTRO_PRODUTO == 100020095\")[\"PREDICAO\"].replace(np.nan, 0))"
   ]
  },
  {
   "cell_type": "code",
   "execution_count": 66,
   "id": "47b98134-4575-47f2-8d72-6854846ef68b",
   "metadata": {},
   "outputs": [
    {
     "data": {
      "text/plain": [
       "15.082027777777778"
      ]
     },
     "execution_count": 66,
     "metadata": {},
     "output_type": "execute_result"
    }
   ],
   "source": [
    "mean_absolute_error(data_predict_media_movel[\"QUANTIDADE_SAIDA\"], data_predict_media_movel[\"PREDICAO\"].replace(np.nan, 0))"
   ]
  },
  {
   "cell_type": "code",
   "execution_count": 78,
   "id": "8cb7c2ae-3290-4a75-830e-741ef5bd9d1c",
   "metadata": {},
   "outputs": [
    {
     "data": {
      "text/plain": [
       "374.2888009259259"
      ]
     },
     "execution_count": 78,
     "metadata": {},
     "output_type": "execute_result"
    }
   ],
   "source": [
    "mean_squared_error(data_predict_media_movel[\"QUANTIDADE_SAIDA\"], data_predict_media_movel[\"PREDICAO\"].replace(np.nan, 0))"
   ]
  },
  {
   "cell_type": "code",
   "execution_count": 72,
   "id": "89512e76-14cd-40c1-bb9d-133a1ede28a7",
   "metadata": {},
   "outputs": [
    {
     "data": {
      "text/plain": [
       "<AxesSubplot:>"
      ]
     },
     "execution_count": 72,
     "metadata": {},
     "output_type": "execute_result"
    },
    {
     "data": {
      "image/png": "[encoded data removed]",
      "text/plain": [
       "<Figure size 640x480 with 1 Axes>"
      ]
     },
     "metadata": {},
     "output_type": "display_data"
    }
   ],
   "source": [
    "data_predict_media_movel.query(\"NUMERO_REGISTRO_PRODUTO == 10277002\")[[\"QUANTIDADE_SAIDA\",\"PREDICAO\"]][-6:].plot()"
   ]
  },
  {
   "cell_type": "code",
   "execution_count": 74,
   "id": "00689eed-9a3f-49c8-bbcf-d85a8896815b",
   "metadata": {},
   "outputs": [
    {
     "data": {
      "text/plain": [
       "<AxesSubplot:>"
      ]
     },
     "execution_count": 74,
     "metadata": {},
     "output_type": "execute_result"
    },
    {
     "data": {
      "image/png": "[encoded data removed]",
      "text/plain": [
       "<Figure size 640x480 with 1 Axes>"
      ]
     },
     "metadata": {},
     "output_type": "display_data"
    }
   ],
   "source": [
    "data_predict_media_movel.query(\"NUMERO_REGISTRO_PRODUTO == 100020070\")[[\"QUANTIDADE_SAIDA\",\"PREDICAO\"]][-7:].plot()"
   ]
  },
  {
   "cell_type": "code",
   "execution_count": 76,
   "id": "c1471e66-0cda-4315-850b-45a8cf09c044",
   "metadata": {},
   "outputs": [
    {
     "data": {
      "text/html": [
       "<div>\n",
       "<style scoped>\n",
       "    .dataframe tbody tr th:only-of-type {\n",
       "        vertical-align: middle;\n",
       "    }\n",
       "\n",
       "    .dataframe tbody tr th {\n",
       "        vertical-align: top;\n",
       "    }\n",
       "\n",
       "    .dataframe thead th {\n",
       "        text-align: right;\n",
       "    }\n",
       "</style>\n",
       "<table border=\"1\" class=\"dataframe\">\n",
       "  <thead>\n",
       "    <tr style=\"text-align: right;\">\n",
       "      <th></th>\n",
       "      <th>QUANTIDADE_SAIDA</th>\n",
       "      <th>PREDICAO</th>\n",
       "    </tr>\n",
       "  </thead>\n",
       "  <tbody>\n",
       "    <tr>\n",
       "      <th>42</th>\n",
       "      <td>31</td>\n",
       "      <td>28.333333</td>\n",
       "    </tr>\n",
       "    <tr>\n",
       "      <th>43</th>\n",
       "      <td>7</td>\n",
       "      <td>26.333333</td>\n",
       "    </tr>\n",
       "    <tr>\n",
       "      <th>44</th>\n",
       "      <td>18</td>\n",
       "      <td>13.333333</td>\n",
       "    </tr>\n",
       "    <tr>\n",
       "      <th>45</th>\n",
       "      <td>30</td>\n",
       "      <td>18.666667</td>\n",
       "    </tr>\n",
       "    <tr>\n",
       "      <th>46</th>\n",
       "      <td>51</td>\n",
       "      <td>18.333333</td>\n",
       "    </tr>\n",
       "    <tr>\n",
       "      <th>47</th>\n",
       "      <td>2</td>\n",
       "      <td>33.000000</td>\n",
       "    </tr>\n",
       "  </tbody>\n",
       "</table>\n",
       "</div>"
      ],
      "text/plain": [
       "    QUANTIDADE_SAIDA   PREDICAO\n",
       "42                31  28.333333\n",
       "43                 7  26.333333\n",
       "44                18  13.333333\n",
       "45                30  18.666667\n",
       "46                51  18.333333\n",
       "47                 2  33.000000"
      ]
     },
     "execution_count": 76,
     "metadata": {},
     "output_type": "execute_result"
    }
   ],
   "source": [
    "data_predict_media_movel.query(\"NUMERO_REGISTRO_PRODUTO == 100020070\")[[\"QUANTIDADE_SAIDA\",\"PREDICAO\"]][-6:]"
   ]
  },
  {
   "cell_type": "markdown",
   "id": "a59d5b3b-bcaa-49ef-89da-4f9f114f1502",
   "metadata": {},
   "source": [
    "# Definindo classe previsão de média móvel"
   ]
  },
  {
   "cell_type": "code",
   "execution_count": 3,
   "id": "5fe48580-3486-4ffe-a2a2-302310882c95",
   "metadata": {},
   "outputs": [
    {
     "name": "stderr",
     "output_type": "stream",
     "text": [
      "../predict_stock_mvp/pre_train\\load_data.py:23: ParserWarning: Falling back to the 'python' engine because the 'c' engine does not support sep=None with delim_whitespace=False; you can avoid this warning by specifying engine='python'.\n",
      "  data = pd.read_csv(f'{location_table}/{name_table}.{type_table}', encoding=encoding, sep=sep)\n"
     ]
    }
   ],
   "source": [
    "data = load_data.conect_data.load_table('../../data/data_ingestion/', 'ingestion.itens_output_mvp', 'csv', sep=None)"
   ]
  },
  {
   "cell_type": "code",
   "execution_count": 4,
   "id": "5e57a7ec-6e9d-4187-bd04-8a42c1729fb1",
   "metadata": {},
   "outputs": [
    {
     "data": {
      "text/html": [
       "<div>\n",
       "<style scoped>\n",
       "    .dataframe tbody tr th:only-of-type {\n",
       "        vertical-align: middle;\n",
       "    }\n",
       "\n",
       "    .dataframe tbody tr th {\n",
       "        vertical-align: top;\n",
       "    }\n",
       "\n",
       "    .dataframe thead th {\n",
       "        text-align: right;\n",
       "    }\n",
       "</style>\n",
       "<table border=\"1\" class=\"dataframe\">\n",
       "  <thead>\n",
       "    <tr style=\"text-align: right;\">\n",
       "      <th></th>\n",
       "      <th>NUMERO_REGISTRO_PRODUTO</th>\n",
       "      <th>IDENTIFICADOR_DO_ITEM</th>\n",
       "      <th>NOME_PRODUTO</th>\n",
       "      <th>DATA_DE_CONSUMO</th>\n",
       "      <th>QUANTIDADE_SAIDA</th>\n",
       "    </tr>\n",
       "  </thead>\n",
       "  <tbody>\n",
       "    <tr>\n",
       "      <th>0</th>\n",
       "      <td>10277002</td>\n",
       "      <td>25991014035</td>\n",
       "      <td>BILAGOGO</td>\n",
       "      <td>2020-02-29</td>\n",
       "      <td>21</td>\n",
       "    </tr>\n",
       "    <tr>\n",
       "      <th>1</th>\n",
       "      <td>10277002</td>\n",
       "      <td>25991014035</td>\n",
       "      <td>BILAGOGO</td>\n",
       "      <td>2020-03-31</td>\n",
       "      <td>18</td>\n",
       "    </tr>\n",
       "    <tr>\n",
       "      <th>2</th>\n",
       "      <td>10277002</td>\n",
       "      <td>25991014035</td>\n",
       "      <td>BILAGOGO</td>\n",
       "      <td>2020-04-30</td>\n",
       "      <td>56</td>\n",
       "    </tr>\n",
       "    <tr>\n",
       "      <th>3</th>\n",
       "      <td>10277002</td>\n",
       "      <td>25991014035</td>\n",
       "      <td>BILAGOGO</td>\n",
       "      <td>2020-05-31</td>\n",
       "      <td>0</td>\n",
       "    </tr>\n",
       "    <tr>\n",
       "      <th>4</th>\n",
       "      <td>10277002</td>\n",
       "      <td>25991014035</td>\n",
       "      <td>BILAGOGO</td>\n",
       "      <td>2020-06-30</td>\n",
       "      <td>21</td>\n",
       "    </tr>\n",
       "    <tr>\n",
       "      <th>...</th>\n",
       "      <td>...</td>\n",
       "      <td>...</td>\n",
       "      <td>...</td>\n",
       "      <td>...</td>\n",
       "      <td>...</td>\n",
       "    </tr>\n",
       "    <tr>\n",
       "      <th>47995</th>\n",
       "      <td>996640035</td>\n",
       "      <td>25351208860</td>\n",
       "      <td>PRODUTO DE MEDICAMENTO DE TESTE 02</td>\n",
       "      <td>2021-09-30</td>\n",
       "      <td>81</td>\n",
       "    </tr>\n",
       "    <tr>\n",
       "      <th>47996</th>\n",
       "      <td>996640035</td>\n",
       "      <td>25351208860</td>\n",
       "      <td>PRODUTO DE MEDICAMENTO DE TESTE 02</td>\n",
       "      <td>2021-10-31</td>\n",
       "      <td>21</td>\n",
       "    </tr>\n",
       "    <tr>\n",
       "      <th>47997</th>\n",
       "      <td>996640035</td>\n",
       "      <td>25351208860</td>\n",
       "      <td>PRODUTO DE MEDICAMENTO DE TESTE 02</td>\n",
       "      <td>2021-11-30</td>\n",
       "      <td>21</td>\n",
       "    </tr>\n",
       "    <tr>\n",
       "      <th>47998</th>\n",
       "      <td>996640035</td>\n",
       "      <td>25351208860</td>\n",
       "      <td>PRODUTO DE MEDICAMENTO DE TESTE 02</td>\n",
       "      <td>2021-12-31</td>\n",
       "      <td>0</td>\n",
       "    </tr>\n",
       "    <tr>\n",
       "      <th>47999</th>\n",
       "      <td>996640035</td>\n",
       "      <td>25351208860</td>\n",
       "      <td>PRODUTO DE MEDICAMENTO DE TESTE 02</td>\n",
       "      <td>2022-01-31</td>\n",
       "      <td>6</td>\n",
       "    </tr>\n",
       "  </tbody>\n",
       "</table>\n",
       "<p>48000 rows × 5 columns</p>\n",
       "</div>"
      ],
      "text/plain": [
       "       NUMERO_REGISTRO_PRODUTO  IDENTIFICADOR_DO_ITEM  \\\n",
       "0                     10277002            25991014035   \n",
       "1                     10277002            25991014035   \n",
       "2                     10277002            25991014035   \n",
       "3                     10277002            25991014035   \n",
       "4                     10277002            25991014035   \n",
       "...                        ...                    ...   \n",
       "47995                996640035            25351208860   \n",
       "47996                996640035            25351208860   \n",
       "47997                996640035            25351208860   \n",
       "47998                996640035            25351208860   \n",
       "47999                996640035            25351208860   \n",
       "\n",
       "                             NOME_PRODUTO DATA_DE_CONSUMO  QUANTIDADE_SAIDA  \n",
       "0                                BILAGOGO      2020-02-29                21  \n",
       "1                                BILAGOGO      2020-03-31                18  \n",
       "2                                BILAGOGO      2020-04-30                56  \n",
       "3                                BILAGOGO      2020-05-31                 0  \n",
       "4                                BILAGOGO      2020-06-30                21  \n",
       "...                                   ...             ...               ...  \n",
       "47995  PRODUTO DE MEDICAMENTO DE TESTE 02      2021-09-30                81  \n",
       "47996  PRODUTO DE MEDICAMENTO DE TESTE 02      2021-10-31                21  \n",
       "47997  PRODUTO DE MEDICAMENTO DE TESTE 02      2021-11-30                21  \n",
       "47998  PRODUTO DE MEDICAMENTO DE TESTE 02      2021-12-31                 0  \n",
       "47999  PRODUTO DE MEDICAMENTO DE TESTE 02      2022-01-31                 6  \n",
       "\n",
       "[48000 rows x 5 columns]"
      ]
     },
     "execution_count": 4,
     "metadata": {},
     "output_type": "execute_result"
    }
   ],
   "source": [
    "data"
   ]
  },
  {
   "cell_type": "code",
   "execution_count": 11,
   "id": "f4f9e14a-342f-4a6c-8423-a83d59efea69",
   "metadata": {},
   "outputs": [
    {
     "name": "stderr",
     "output_type": "stream",
     "text": [
      "../predict_stock_mvp/pre_train\\load_data.py:23: ParserWarning: Falling back to the 'python' engine because the 'c' engine does not support sep=None with delim_whitespace=False; you can avoid this warning by specifying engine='python'.\n",
      "  data = pd.read_csv(f'{location_table}/{name_table}.{type_table}', encoding=encoding, sep=sep)\n"
     ]
    }
   ],
   "source": [
    "class metods_predict:\n",
    "    \n",
    "    def predict_model ():\n",
    "        pass\n",
    "    \n",
    "    def predict_mean(data=load_data.conect_data.load_table('../../data/data_ingestion/', 'ingestion.itens_output_mvp', 'csv', sep=None)):\n",
    "        \n",
    "        data_predict_media_movel = data[[\"NUMERO_REGISTRO_PRODUTO\",\"DATA_DE_CONSUMO\",\"QUANTIDADE_SAIDA\"]]\n",
    "        \n",
    "        predict_media = []\n",
    "        for item in data_predict_media_movel[\"NUMERO_REGISTRO_PRODUTO\"].unique():\n",
    "            serie_itens = data_predict_media_movel.query(f\"NUMERO_REGISTRO_PRODUTO == {item}\")\n",
    "            media_movel = list(serie_itens.QUANTIDADE_SAIDA.shift(1).rolling(3).mean())\n",
    "            for n in media_movel[:]:\n",
    "                predict_media.append(n)\n",
    "                \n",
    "        data_predict_media_movel[\"PREDICAO_MEDIA_MOVEL\"] = predict_media\n",
    "        \n",
    "        load_data.conect_data.save_table(data_predict_media_movel, '../../data/data_processed/', 'processed.predict', 'csv')"
   ]
  },
  {
   "cell_type": "code",
   "execution_count": 12,
   "id": "2fdd640f-6c5d-4994-a5c4-cd4b155b46a6",
   "metadata": {},
   "outputs": [
    {
     "name": "stderr",
     "output_type": "stream",
     "text": [
      "C:\\Users\\anton\\AppData\\Local\\Temp\\ipykernel_4340\\977651833.py:17: SettingWithCopyWarning: \n",
      "A value is trying to be set on a copy of a slice from a DataFrame.\n",
      "Try using .loc[row_indexer,col_indexer] = value instead\n",
      "\n",
      "See the caveats in the documentation: https://pandas.pydata.org/pandas-docs/stable/user_guide/indexing.html#returning-a-view-versus-a-copy\n",
      "  data_predict_media_movel[\"PREDICAO_MEDIA_MOVEL\"] = predict_media\n"
     ]
    }
   ],
   "source": [
    "metods_predict.predict_mean()"
   ]
  },
  {
   "cell_type": "code",
   "execution_count": null,
   "id": "a95b95ec-1ad8-4861-a372-fa271c2eb860",
   "metadata": {},
   "outputs": [],
   "source": []
  }
 ],
 "metadata": {
  "kernelspec": {
   "display_name": "Python 3 (ipykernel)",
   "language": "python",
   "name": "python3"
  },
  "language_info": {
   "codemirror_mode": {
    "name": "ipython",
    "version": 3
   },
   "file_extension": ".py",
   "mimetype": "text/x-python",
   "name": "python",
   "nbconvert_exporter": "python",
   "pygments_lexer": "ipython3",
   "version": "3.9.0"
  }
 },
 "nbformat": 4,
 "nbformat_minor": 5
}
