{
 "cells": [
  {
   "cell_type": "markdown",
   "id": "e6352577-d215-44f7-a951-20b8b0670a84",
   "metadata": {},
   "source": [
    "# Importações"
   ]
  },
  {
   "cell_type": "code",
   "execution_count": 1,
   "id": "f276b7b8-4b3d-47f6-ab40-ea2774bb270d",
   "metadata": {},
   "outputs": [],
   "source": [
    "import sys\n",
    "sys.path.insert(1, '../predict_stock_mvp/pre_train/')\n",
    "import load_data\n",
    "\n",
    "import pandas as pd\n",
    "from datetime import datetime\n",
    "import seaborn as sns\n",
    "import numpy as np\n",
    "from matplotlib import pyplot as plt"
   ]
  },
  {
   "cell_type": "markdown",
   "id": "59dabaf2-335a-498b-8993-29981cab2823",
   "metadata": {},
   "source": [
    "# Carregando Dados"
   ]
  },
  {
   "cell_type": "code",
   "execution_count": 2,
   "id": "38946ffc-02da-460f-9567-d780b1ed6abc",
   "metadata": {},
   "outputs": [
    {
     "name": "stderr",
     "output_type": "stream",
     "text": [
      "../predict_stock_mvp/pre_train\\load_data.py:23: ParserWarning: Falling back to the 'python' engine because the 'c' engine does not support sep=None with delim_whitespace=False; you can avoid this warning by specifying engine='python'.\n",
      "  data = pd.read_csv(f'{location_table}/{name_table}.{type_table}', encoding=encoding, sep=sep)\n"
     ]
    }
   ],
   "source": [
    "save_predict = load_data.conect_data.load_table('../../data/data_processed/', 'processed.predict', 'csv', sep=None)"
   ]
  },
  {
   "cell_type": "code",
   "execution_count": 3,
   "id": "94272448-01ec-489f-8014-7da71bff31f6",
   "metadata": {},
   "outputs": [],
   "source": [
    "money = load_data.conect_data.load_table('../../data/data_ingestion/', 'ingestion.itens_input_mvp', 'csv', sep=None)"
   ]
  },
  {
   "cell_type": "markdown",
   "id": "8236f9f1-ef57-4445-a7cd-09865b6e6d47",
   "metadata": {},
   "source": [
    "# Criando Calculo de Receita das Previsões"
   ]
  },
  {
   "cell_type": "code",
   "execution_count": 4,
   "id": "abb87da5-2751-469d-933c-7ead8c0fed87",
   "metadata": {},
   "outputs": [],
   "source": [
    "money[\"DATA_DE_ENTRADA_DO_ITEM\"] = money.DATA_DE_ENTRADA_DO_ITEM.apply(lambda linha: datetime.strptime(linha, '%Y-%m-%d').date())"
   ]
  },
  {
   "cell_type": "code",
   "execution_count": 5,
   "id": "70236a67-7bb9-40c8-8f1f-706fc4c1fac4",
   "metadata": {},
   "outputs": [],
   "source": [
    "valores = []\n",
    "\n",
    "for item in money.NUMERO_REGISTRO_PRODUTO.unique():\n",
    "    frame = money.query(f\"NUMERO_REGISTRO_PRODUTO == {item}\")\n",
    "    value = frame[frame.DATA_DE_PEDIDO_DO_ITEM == frame.DATA_DE_PEDIDO_DO_ITEM.max()].CUSTO_DE_AQUISICAO\n",
    "    valores.append([item,value.iloc[0],frame.DATA_DE_PEDIDO_DO_ITEM.max()])\n",
    "\n",
    "valores = pd.DataFrame(valores, columns=['NUMERO_REGISTRO_PRODUTO', 'VALORES', 'DATA_REFERENCIA'])"
   ]
  },
  {
   "cell_type": "code",
   "execution_count": 6,
   "id": "20d353c8-2858-45e1-a206-a4f1c7f6b5b6",
   "metadata": {},
   "outputs": [
    {
     "data": {
      "text/html": [
       "<div>\n",
       "<style scoped>\n",
       "    .dataframe tbody tr th:only-of-type {\n",
       "        vertical-align: middle;\n",
       "    }\n",
       "\n",
       "    .dataframe tbody tr th {\n",
       "        vertical-align: top;\n",
       "    }\n",
       "\n",
       "    .dataframe thead th {\n",
       "        text-align: right;\n",
       "    }\n",
       "</style>\n",
       "<table border=\"1\" class=\"dataframe\">\n",
       "  <thead>\n",
       "    <tr style=\"text-align: right;\">\n",
       "      <th></th>\n",
       "      <th>NUMERO_REGISTRO_PRODUTO</th>\n",
       "      <th>VALORES</th>\n",
       "      <th>DATA_REFERENCIA</th>\n",
       "    </tr>\n",
       "  </thead>\n",
       "  <tbody>\n",
       "    <tr>\n",
       "      <th>0</th>\n",
       "      <td>5</td>\n",
       "      <td>215</td>\n",
       "      <td>2021-10-04</td>\n",
       "    </tr>\n",
       "    <tr>\n",
       "      <th>1</th>\n",
       "      <td>111</td>\n",
       "      <td>34</td>\n",
       "      <td>2021-10-08</td>\n",
       "    </tr>\n",
       "    <tr>\n",
       "      <th>2</th>\n",
       "      <td>100020016</td>\n",
       "      <td>106</td>\n",
       "      <td>2021-10-20</td>\n",
       "    </tr>\n",
       "    <tr>\n",
       "      <th>3</th>\n",
       "      <td>100020069</td>\n",
       "      <td>195</td>\n",
       "      <td>2021-08-05</td>\n",
       "    </tr>\n",
       "    <tr>\n",
       "      <th>4</th>\n",
       "      <td>100020086</td>\n",
       "      <td>127</td>\n",
       "      <td>2021-11-17</td>\n",
       "    </tr>\n",
       "    <tr>\n",
       "      <th>...</th>\n",
       "      <td>...</td>\n",
       "      <td>...</td>\n",
       "      <td>...</td>\n",
       "    </tr>\n",
       "    <tr>\n",
       "      <th>2995</th>\n",
       "      <td>198110001</td>\n",
       "      <td>195</td>\n",
       "      <td>2021-07-06</td>\n",
       "    </tr>\n",
       "    <tr>\n",
       "      <th>2996</th>\n",
       "      <td>198600006</td>\n",
       "      <td>195</td>\n",
       "      <td>2021-10-06</td>\n",
       "    </tr>\n",
       "    <tr>\n",
       "      <th>2997</th>\n",
       "      <td>198600011</td>\n",
       "      <td>257</td>\n",
       "      <td>2021-07-29</td>\n",
       "    </tr>\n",
       "    <tr>\n",
       "      <th>2998</th>\n",
       "      <td>198600012</td>\n",
       "      <td>140</td>\n",
       "      <td>2021-10-12</td>\n",
       "    </tr>\n",
       "    <tr>\n",
       "      <th>2999</th>\n",
       "      <td>198600013</td>\n",
       "      <td>89</td>\n",
       "      <td>2021-10-26</td>\n",
       "    </tr>\n",
       "  </tbody>\n",
       "</table>\n",
       "<p>3000 rows × 3 columns</p>\n",
       "</div>"
      ],
      "text/plain": [
       "      NUMERO_REGISTRO_PRODUTO  VALORES DATA_REFERENCIA\n",
       "0                           5      215      2021-10-04\n",
       "1                         111       34      2021-10-08\n",
       "2                   100020016      106      2021-10-20\n",
       "3                   100020069      195      2021-08-05\n",
       "4                   100020086      127      2021-11-17\n",
       "...                       ...      ...             ...\n",
       "2995                198110001      195      2021-07-06\n",
       "2996                198600006      195      2021-10-06\n",
       "2997                198600011      257      2021-07-29\n",
       "2998                198600012      140      2021-10-12\n",
       "2999                198600013       89      2021-10-26\n",
       "\n",
       "[3000 rows x 3 columns]"
      ]
     },
     "execution_count": 6,
     "metadata": {},
     "output_type": "execute_result"
    }
   ],
   "source": [
    "valores"
   ]
  },
  {
   "cell_type": "code",
   "execution_count": 7,
   "id": "f7d841a6-a04f-4743-a1c9-2a10dc115801",
   "metadata": {},
   "outputs": [],
   "source": [
    "predicoes = save_predict[[\"NUMERO_REGISTRO_PRODUTO\",\"DATA_DE_CONSUMO\",\"QUANTIDADE_SAIDA\",\"PREDICAO_MEDIA_MOVEL\",\"PREDICAO_DEEPAR\"]]"
   ]
  },
  {
   "cell_type": "code",
   "execution_count": 8,
   "id": "e6fa08b5-2f9a-42db-a5a7-b353fc436e71",
   "metadata": {},
   "outputs": [
    {
     "name": "stdout",
     "output_type": "stream",
     "text": [
      "(3000, 3)\n",
      "(72000, 5)\n"
     ]
    }
   ],
   "source": [
    "print(valores.shape)\n",
    "print(predicoes.shape)"
   ]
  },
  {
   "cell_type": "code",
   "execution_count": 9,
   "id": "5f61adac-83ac-480c-8c30-716956f0d609",
   "metadata": {},
   "outputs": [],
   "source": [
    "merge = pd.merge(predicoes,valores,how='left',on='NUMERO_REGISTRO_PRODUTO')"
   ]
  },
  {
   "cell_type": "code",
   "execution_count": 10,
   "id": "8aed1a38-81c7-4fb0-96a2-8a390f17aea2",
   "metadata": {},
   "outputs": [
    {
     "name": "stdout",
     "output_type": "stream",
     "text": [
      "(3000, 3)\n",
      "(72000, 5)\n",
      "(72000, 7)\n"
     ]
    }
   ],
   "source": [
    "print(valores.shape)\n",
    "print(predicoes.shape)\n",
    "print(merge.shape)"
   ]
  },
  {
   "cell_type": "code",
   "execution_count": 11,
   "id": "048ed0b5-a58c-4433-b462-d917e72df53e",
   "metadata": {},
   "outputs": [
    {
     "data": {
      "text/html": [
       "<div>\n",
       "<style scoped>\n",
       "    .dataframe tbody tr th:only-of-type {\n",
       "        vertical-align: middle;\n",
       "    }\n",
       "\n",
       "    .dataframe tbody tr th {\n",
       "        vertical-align: top;\n",
       "    }\n",
       "\n",
       "    .dataframe thead th {\n",
       "        text-align: right;\n",
       "    }\n",
       "</style>\n",
       "<table border=\"1\" class=\"dataframe\">\n",
       "  <thead>\n",
       "    <tr style=\"text-align: right;\">\n",
       "      <th></th>\n",
       "      <th>NUMERO_REGISTRO_PRODUTO</th>\n",
       "      <th>DATA_DE_CONSUMO</th>\n",
       "      <th>QUANTIDADE_SAIDA</th>\n",
       "      <th>PREDICAO_MEDIA_MOVEL</th>\n",
       "      <th>PREDICAO_DEEPAR</th>\n",
       "      <th>VALORES</th>\n",
       "      <th>DATA_REFERENCIA</th>\n",
       "    </tr>\n",
       "  </thead>\n",
       "  <tbody>\n",
       "    <tr>\n",
       "      <th>0</th>\n",
       "      <td>5</td>\n",
       "      <td>2020-02-29</td>\n",
       "      <td>16</td>\n",
       "      <td>NaN</td>\n",
       "      <td>NaN</td>\n",
       "      <td>215</td>\n",
       "      <td>2021-10-04</td>\n",
       "    </tr>\n",
       "    <tr>\n",
       "      <th>1</th>\n",
       "      <td>5</td>\n",
       "      <td>2020-03-31</td>\n",
       "      <td>50</td>\n",
       "      <td>NaN</td>\n",
       "      <td>NaN</td>\n",
       "      <td>215</td>\n",
       "      <td>2021-10-04</td>\n",
       "    </tr>\n",
       "    <tr>\n",
       "      <th>2</th>\n",
       "      <td>5</td>\n",
       "      <td>2020-04-30</td>\n",
       "      <td>4</td>\n",
       "      <td>NaN</td>\n",
       "      <td>NaN</td>\n",
       "      <td>215</td>\n",
       "      <td>2021-10-04</td>\n",
       "    </tr>\n",
       "    <tr>\n",
       "      <th>3</th>\n",
       "      <td>5</td>\n",
       "      <td>2020-05-31</td>\n",
       "      <td>17</td>\n",
       "      <td>23.333333</td>\n",
       "      <td>NaN</td>\n",
       "      <td>215</td>\n",
       "      <td>2021-10-04</td>\n",
       "    </tr>\n",
       "    <tr>\n",
       "      <th>4</th>\n",
       "      <td>5</td>\n",
       "      <td>2020-06-30</td>\n",
       "      <td>6</td>\n",
       "      <td>23.666667</td>\n",
       "      <td>NaN</td>\n",
       "      <td>215</td>\n",
       "      <td>2021-10-04</td>\n",
       "    </tr>\n",
       "    <tr>\n",
       "      <th>5</th>\n",
       "      <td>5</td>\n",
       "      <td>2020-07-31</td>\n",
       "      <td>1</td>\n",
       "      <td>9.000000</td>\n",
       "      <td>NaN</td>\n",
       "      <td>215</td>\n",
       "      <td>2021-10-04</td>\n",
       "    </tr>\n",
       "    <tr>\n",
       "      <th>6</th>\n",
       "      <td>5</td>\n",
       "      <td>2020-08-31</td>\n",
       "      <td>19</td>\n",
       "      <td>8.000000</td>\n",
       "      <td>NaN</td>\n",
       "      <td>215</td>\n",
       "      <td>2021-10-04</td>\n",
       "    </tr>\n",
       "    <tr>\n",
       "      <th>7</th>\n",
       "      <td>5</td>\n",
       "      <td>2020-09-30</td>\n",
       "      <td>37</td>\n",
       "      <td>8.666667</td>\n",
       "      <td>NaN</td>\n",
       "      <td>215</td>\n",
       "      <td>2021-10-04</td>\n",
       "    </tr>\n",
       "    <tr>\n",
       "      <th>8</th>\n",
       "      <td>5</td>\n",
       "      <td>2020-10-31</td>\n",
       "      <td>7</td>\n",
       "      <td>19.000000</td>\n",
       "      <td>NaN</td>\n",
       "      <td>215</td>\n",
       "      <td>2021-10-04</td>\n",
       "    </tr>\n",
       "    <tr>\n",
       "      <th>9</th>\n",
       "      <td>5</td>\n",
       "      <td>2020-11-30</td>\n",
       "      <td>62</td>\n",
       "      <td>21.000000</td>\n",
       "      <td>NaN</td>\n",
       "      <td>215</td>\n",
       "      <td>2021-10-04</td>\n",
       "    </tr>\n",
       "    <tr>\n",
       "      <th>10</th>\n",
       "      <td>5</td>\n",
       "      <td>2020-12-31</td>\n",
       "      <td>17</td>\n",
       "      <td>35.333333</td>\n",
       "      <td>NaN</td>\n",
       "      <td>215</td>\n",
       "      <td>2021-10-04</td>\n",
       "    </tr>\n",
       "    <tr>\n",
       "      <th>11</th>\n",
       "      <td>5</td>\n",
       "      <td>2021-01-31</td>\n",
       "      <td>25</td>\n",
       "      <td>28.666667</td>\n",
       "      <td>NaN</td>\n",
       "      <td>215</td>\n",
       "      <td>2021-10-04</td>\n",
       "    </tr>\n",
       "    <tr>\n",
       "      <th>12</th>\n",
       "      <td>5</td>\n",
       "      <td>2021-02-28</td>\n",
       "      <td>3</td>\n",
       "      <td>34.666667</td>\n",
       "      <td>NaN</td>\n",
       "      <td>215</td>\n",
       "      <td>2021-10-04</td>\n",
       "    </tr>\n",
       "    <tr>\n",
       "      <th>13</th>\n",
       "      <td>5</td>\n",
       "      <td>2021-03-31</td>\n",
       "      <td>13</td>\n",
       "      <td>15.000000</td>\n",
       "      <td>NaN</td>\n",
       "      <td>215</td>\n",
       "      <td>2021-10-04</td>\n",
       "    </tr>\n",
       "    <tr>\n",
       "      <th>14</th>\n",
       "      <td>5</td>\n",
       "      <td>2021-04-30</td>\n",
       "      <td>15</td>\n",
       "      <td>13.666667</td>\n",
       "      <td>NaN</td>\n",
       "      <td>215</td>\n",
       "      <td>2021-10-04</td>\n",
       "    </tr>\n",
       "    <tr>\n",
       "      <th>15</th>\n",
       "      <td>5</td>\n",
       "      <td>2021-05-31</td>\n",
       "      <td>6</td>\n",
       "      <td>10.333333</td>\n",
       "      <td>NaN</td>\n",
       "      <td>215</td>\n",
       "      <td>2021-10-04</td>\n",
       "    </tr>\n",
       "    <tr>\n",
       "      <th>16</th>\n",
       "      <td>5</td>\n",
       "      <td>2021-06-30</td>\n",
       "      <td>3</td>\n",
       "      <td>11.333333</td>\n",
       "      <td>NaN</td>\n",
       "      <td>215</td>\n",
       "      <td>2021-10-04</td>\n",
       "    </tr>\n",
       "    <tr>\n",
       "      <th>17</th>\n",
       "      <td>5</td>\n",
       "      <td>2021-07-31</td>\n",
       "      <td>21</td>\n",
       "      <td>8.000000</td>\n",
       "      <td>NaN</td>\n",
       "      <td>215</td>\n",
       "      <td>2021-10-04</td>\n",
       "    </tr>\n",
       "    <tr>\n",
       "      <th>18</th>\n",
       "      <td>5</td>\n",
       "      <td>2021-08-31</td>\n",
       "      <td>28</td>\n",
       "      <td>10.000000</td>\n",
       "      <td>NaN</td>\n",
       "      <td>215</td>\n",
       "      <td>2021-10-04</td>\n",
       "    </tr>\n",
       "    <tr>\n",
       "      <th>19</th>\n",
       "      <td>5</td>\n",
       "      <td>2021-09-30</td>\n",
       "      <td>47</td>\n",
       "      <td>17.333333</td>\n",
       "      <td>NaN</td>\n",
       "      <td>215</td>\n",
       "      <td>2021-10-04</td>\n",
       "    </tr>\n",
       "    <tr>\n",
       "      <th>20</th>\n",
       "      <td>5</td>\n",
       "      <td>2021-10-31</td>\n",
       "      <td>22</td>\n",
       "      <td>32.000000</td>\n",
       "      <td>NaN</td>\n",
       "      <td>215</td>\n",
       "      <td>2021-10-04</td>\n",
       "    </tr>\n",
       "    <tr>\n",
       "      <th>21</th>\n",
       "      <td>5</td>\n",
       "      <td>2021-11-30</td>\n",
       "      <td>57</td>\n",
       "      <td>32.333333</td>\n",
       "      <td>22.458105</td>\n",
       "      <td>215</td>\n",
       "      <td>2021-10-04</td>\n",
       "    </tr>\n",
       "    <tr>\n",
       "      <th>22</th>\n",
       "      <td>5</td>\n",
       "      <td>2021-12-31</td>\n",
       "      <td>21</td>\n",
       "      <td>42.000000</td>\n",
       "      <td>16.926239</td>\n",
       "      <td>215</td>\n",
       "      <td>2021-10-04</td>\n",
       "    </tr>\n",
       "    <tr>\n",
       "      <th>23</th>\n",
       "      <td>5</td>\n",
       "      <td>2022-01-31</td>\n",
       "      <td>20</td>\n",
       "      <td>33.333333</td>\n",
       "      <td>15.868186</td>\n",
       "      <td>215</td>\n",
       "      <td>2021-10-04</td>\n",
       "    </tr>\n",
       "  </tbody>\n",
       "</table>\n",
       "</div>"
      ],
      "text/plain": [
       "    NUMERO_REGISTRO_PRODUTO DATA_DE_CONSUMO  QUANTIDADE_SAIDA  \\\n",
       "0                         5      2020-02-29                16   \n",
       "1                         5      2020-03-31                50   \n",
       "2                         5      2020-04-30                 4   \n",
       "3                         5      2020-05-31                17   \n",
       "4                         5      2020-06-30                 6   \n",
       "5                         5      2020-07-31                 1   \n",
       "6                         5      2020-08-31                19   \n",
       "7                         5      2020-09-30                37   \n",
       "8                         5      2020-10-31                 7   \n",
       "9                         5      2020-11-30                62   \n",
       "10                        5      2020-12-31                17   \n",
       "11                        5      2021-01-31                25   \n",
       "12                        5      2021-02-28                 3   \n",
       "13                        5      2021-03-31                13   \n",
       "14                        5      2021-04-30                15   \n",
       "15                        5      2021-05-31                 6   \n",
       "16                        5      2021-06-30                 3   \n",
       "17                        5      2021-07-31                21   \n",
       "18                        5      2021-08-31                28   \n",
       "19                        5      2021-09-30                47   \n",
       "20                        5      2021-10-31                22   \n",
       "21                        5      2021-11-30                57   \n",
       "22                        5      2021-12-31                21   \n",
       "23                        5      2022-01-31                20   \n",
       "\n",
       "    PREDICAO_MEDIA_MOVEL  PREDICAO_DEEPAR  VALORES DATA_REFERENCIA  \n",
       "0                    NaN              NaN      215      2021-10-04  \n",
       "1                    NaN              NaN      215      2021-10-04  \n",
       "2                    NaN              NaN      215      2021-10-04  \n",
       "3              23.333333              NaN      215      2021-10-04  \n",
       "4              23.666667              NaN      215      2021-10-04  \n",
       "5               9.000000              NaN      215      2021-10-04  \n",
       "6               8.000000              NaN      215      2021-10-04  \n",
       "7               8.666667              NaN      215      2021-10-04  \n",
       "8              19.000000              NaN      215      2021-10-04  \n",
       "9              21.000000              NaN      215      2021-10-04  \n",
       "10             35.333333              NaN      215      2021-10-04  \n",
       "11             28.666667              NaN      215      2021-10-04  \n",
       "12             34.666667              NaN      215      2021-10-04  \n",
       "13             15.000000              NaN      215      2021-10-04  \n",
       "14             13.666667              NaN      215      2021-10-04  \n",
       "15             10.333333              NaN      215      2021-10-04  \n",
       "16             11.333333              NaN      215      2021-10-04  \n",
       "17              8.000000              NaN      215      2021-10-04  \n",
       "18             10.000000              NaN      215      2021-10-04  \n",
       "19             17.333333              NaN      215      2021-10-04  \n",
       "20             32.000000              NaN      215      2021-10-04  \n",
       "21             32.333333        22.458105      215      2021-10-04  \n",
       "22             42.000000        16.926239      215      2021-10-04  \n",
       "23             33.333333        15.868186      215      2021-10-04  "
      ]
     },
     "execution_count": 11,
     "metadata": {},
     "output_type": "execute_result"
    }
   ],
   "source": [
    "merge.query(\"NUMERO_REGISTRO_PRODUTO == 5\")"
   ]
  },
  {
   "cell_type": "code",
   "execution_count": 12,
   "id": "58123f62-c3a9-4237-8f84-a3d8d6d735e0",
   "metadata": {},
   "outputs": [
    {
     "data": {
      "text/plain": [
       "<matplotlib.legend.Legend at 0x2a393330a30>"
      ]
     },
     "execution_count": 12,
     "metadata": {},
     "output_type": "execute_result"
    },
    {
     "data": {
      "image/png": "[encoded data removed]",
      "text/plain": [
       "<Figure size 1500x800 with 1 Axes>"
      ]
     },
     "metadata": {},
     "output_type": "display_data"
    }
   ],
   "source": [
    "fig, axes = plt.subplots(figsize=(15, 8))\n",
    "\n",
    "sns.lineplot(x=\"DATA_DE_CONSUMO\", y=\"QUANTIDADE_SAIDA\", estimator=np.median, data=merge.query(\"DATA_DE_CONSUMO >= '2021-11-30' and NUMERO_REGISTRO_PRODUTO == 5\"))\n",
    "sns.lineplot(x=\"DATA_DE_CONSUMO\", y=\"PREDICAO_MEDIA_MOVEL\", estimator=np.median, data=merge.query(\"DATA_DE_CONSUMO >= '2021-11-30' and NUMERO_REGISTRO_PRODUTO == 5\"))\n",
    "sns.lineplot(x=\"DATA_DE_CONSUMO\", y=\"PREDICAO_DEEPAR\", estimator=np.median, data=merge.query(\"DATA_DE_CONSUMO >= '2021-11-30' and NUMERO_REGISTRO_PRODUTO == 5\"))\n",
    "\n",
    "plt.legend(labels=[\"QUANTIDADE_SAIDA\",\"PREDICAO_MEDIA_MOVEL\",\"PREDICAO_DEEPAR\"])"
   ]
  },
  {
   "cell_type": "code",
   "execution_count": 13,
   "id": "20d7fc8d-1af2-4d52-953a-323d049f80ab",
   "metadata": {},
   "outputs": [
    {
     "data": {
      "text/plain": [
       "<matplotlib.legend.Legend at 0x2a3930a35e0>"
      ]
     },
     "execution_count": 13,
     "metadata": {},
     "output_type": "execute_result"
    },
    {
     "data": {
      "image/png": "[encoded data removed]",
      "text/plain": [
       "<Figure size 1500x800 with 1 Axes>"
      ]
     },
     "metadata": {},
     "output_type": "display_data"
    }
   ],
   "source": [
    "fig, axes = plt.subplots(figsize=(15, 8))\n",
    "\n",
    "sns.lineplot(x=\"DATA_DE_CONSUMO\", y=\"QUANTIDADE_SAIDA\", estimator=np.median, data=merge.query(\"DATA_DE_CONSUMO >= '2021-11-30'\"))\n",
    "sns.lineplot(x=\"DATA_DE_CONSUMO\", y=\"PREDICAO_MEDIA_MOVEL\", estimator=np.median, data=merge.query(\"DATA_DE_CONSUMO >= '2021-11-30'\"))\n",
    "sns.lineplot(x=\"DATA_DE_CONSUMO\", y=\"PREDICAO_DEEPAR\", estimator=np.median, data=merge.query(\"DATA_DE_CONSUMO >= '2021-11-30'\"))\n",
    "\n",
    "plt.legend(labels=[\"QUANTIDADE_SAIDA\",\"PREDICAO_MEDIA_MOVEL\",\"PREDICAO_DEEPAR\"])"
   ]
  },
  {
   "cell_type": "code",
   "execution_count": 14,
   "id": "d1c3fffd-9814-4e20-9b0a-657de71fa3f9",
   "metadata": {},
   "outputs": [],
   "source": [
    "merge[\"PREDICAO_MEDIA_MOVEL\"] = merge.PREDICAO_MEDIA_MOVEL.fillna(-9999999999).apply(int)\n",
    "merge[\"PREDICAO_DEEPAR\"] = merge.PREDICAO_DEEPAR.fillna(-9999999999).apply(int)\n",
    "\n",
    "receita = []\n",
    "for idx,linha in merge.iterrows():\n",
    "    \n",
    "    if linha.PREDICAO_MEDIA_MOVEL < 0:\n",
    "        receita_media_movel = 0\n",
    "    else:\n",
    "        receita_media_movel = linha.PREDICAO_MEDIA_MOVEL * linha.VALORES\n",
    "    \n",
    "    if linha.PREDICAO_DEEPAR < 0:\n",
    "        receita_deepAR = 0\n",
    "    else:\n",
    "        receita_deepAR = linha.PREDICAO_DEEPAR * linha.VALORES\n",
    "    \n",
    "    receita.append([linha.NUMERO_REGISTRO_PRODUTO,linha.DATA_DE_CONSUMO,receita_media_movel,receita_deepAR])"
   ]
  },
  {
   "cell_type": "code",
   "execution_count": 15,
   "id": "d2f43e0f-2f06-433d-8404-fa23d051d087",
   "metadata": {},
   "outputs": [],
   "source": [
    "receita_calculada = pd.DataFrame(receita, columns=['NUMERO_REGISTRO_PRODUTO','DATA_DE_CONSUMO','RECEITA_MEDIA_MOVEL','RECEITA_DEEPAR'])"
   ]
  },
  {
   "cell_type": "code",
   "execution_count": 16,
   "id": "d7278982-5987-46f2-a378-3998fc7ae6cb",
   "metadata": {},
   "outputs": [
    {
     "name": "stdout",
     "output_type": "stream",
     "text": [
      "(72000, 4)\n",
      "(72000, 7)\n"
     ]
    }
   ],
   "source": [
    "print(receita_calculada.shape)\n",
    "print(merge.shape)"
   ]
  },
  {
   "cell_type": "code",
   "execution_count": 17,
   "id": "38a1d22e-871e-4612-a71a-f2d6ef0986b3",
   "metadata": {},
   "outputs": [],
   "source": [
    "merge_1 = pd.merge(merge,receita_calculada,how='left',on=['NUMERO_REGISTRO_PRODUTO','DATA_DE_CONSUMO'])"
   ]
  },
  {
   "cell_type": "code",
   "execution_count": 18,
   "id": "d4bb6009-445a-487f-9ec7-71218b3017fa",
   "metadata": {},
   "outputs": [
    {
     "name": "stdout",
     "output_type": "stream",
     "text": [
      "(72000, 4)\n",
      "(72000, 7)\n",
      "(72000, 9)\n"
     ]
    }
   ],
   "source": [
    "print(receita_calculada.shape)\n",
    "print(merge.shape)\n",
    "print(merge_1.shape)"
   ]
  },
  {
   "cell_type": "code",
   "execution_count": 19,
   "id": "3f9cd3c9-5854-4a47-abc7-6ba5666e87b2",
   "metadata": {},
   "outputs": [
    {
     "data": {
      "text/plain": [
       "RECEITA_MEDIA_MOVEL    8915331\n",
       "RECEITA_DEEPAR         8161841\n",
       "dtype: int64"
      ]
     },
     "execution_count": 19,
     "metadata": {},
     "output_type": "execute_result"
    }
   ],
   "source": [
    "merge_1[(merge_1.DATA_DE_CONSUMO >= '2021-11-30') & (merge_1.DATA_DE_CONSUMO <= '2021-11-31')][[\"RECEITA_MEDIA_MOVEL\",\"RECEITA_DEEPAR\"]].sum()"
   ]
  },
  {
   "cell_type": "code",
   "execution_count": 20,
   "id": "29083a59-bdaf-4fae-965a-96e467dfb6cd",
   "metadata": {},
   "outputs": [
    {
     "data": {
      "text/plain": [
       "RECEITA_MEDIA_MOVEL    8949795\n",
       "RECEITA_DEEPAR         8241566\n",
       "dtype: int64"
      ]
     },
     "execution_count": 20,
     "metadata": {},
     "output_type": "execute_result"
    }
   ],
   "source": [
    "merge_1[(merge_1.DATA_DE_CONSUMO >= '2021-12-30') & (merge_1.DATA_DE_CONSUMO <= '2021-12-31')][[\"RECEITA_MEDIA_MOVEL\",\"RECEITA_DEEPAR\"]].sum()"
   ]
  },
  {
   "cell_type": "code",
   "execution_count": 21,
   "id": "6a3fbaa5-7e07-4524-81f5-59b9f902bfde",
   "metadata": {},
   "outputs": [
    {
     "data": {
      "text/plain": [
       "RECEITA_MEDIA_MOVEL    8912638\n",
       "RECEITA_DEEPAR         8216162\n",
       "dtype: int64"
      ]
     },
     "execution_count": 21,
     "metadata": {},
     "output_type": "execute_result"
    }
   ],
   "source": [
    "merge_1[(merge_1.DATA_DE_CONSUMO >= '2022-01-31') & (merge_1.DATA_DE_CONSUMO <= '2022-01-31')][[\"RECEITA_MEDIA_MOVEL\",\"RECEITA_DEEPAR\"]].sum()"
   ]
  },
  {
   "cell_type": "code",
   "execution_count": 22,
   "id": "ee5deb8c-80d2-452f-9e1e-7566eb09c290",
   "metadata": {},
   "outputs": [
    {
     "data": {
      "text/plain": [
       "RECEITA_MEDIA_MOVEL    26777764\n",
       "RECEITA_DEEPAR         24619569\n",
       "dtype: int64"
      ]
     },
     "execution_count": 22,
     "metadata": {},
     "output_type": "execute_result"
    }
   ],
   "source": [
    "merge_1[merge_1.DATA_DE_CONSUMO >= '2021-11-30'].groupby([\"NUMERO_REGISTRO_PRODUTO\"])[[\"RECEITA_MEDIA_MOVEL\",\"RECEITA_DEEPAR\"]].sum().sum()"
   ]
  },
  {
   "cell_type": "code",
   "execution_count": 23,
   "id": "95bad5b0-d518-4d1f-9c5e-d3c50c6e94ba",
   "metadata": {},
   "outputs": [
    {
     "data": {
      "text/plain": [
       "0.9194034647553097"
      ]
     },
     "execution_count": 23,
     "metadata": {},
     "output_type": "execute_result"
    }
   ],
   "source": [
    "merge_1[merge_1.DATA_DE_CONSUMO >= '2021-11-30'].groupby([\"NUMERO_REGISTRO_PRODUTO\"])[[\"RECEITA_MEDIA_MOVEL\",\"RECEITA_DEEPAR\"]].sum().sum()[-1] / merge_1[merge_1.DATA_DE_CONSUMO >= '2021-11-30'].groupby([\"NUMERO_REGISTRO_PRODUTO\"])[[\"RECEITA_MEDIA_MOVEL\",\"RECEITA_DEEPAR\"]].sum().sum()[0]"
   ]
  },
  {
   "cell_type": "code",
   "execution_count": 24,
   "id": "82cdb193-179e-453d-9fb1-f27569321ccc",
   "metadata": {},
   "outputs": [
    {
     "data": {
      "text/plain": [
       "0.38408333333333333"
      ]
     },
     "execution_count": 24,
     "metadata": {},
     "output_type": "execute_result"
    }
   ],
   "source": [
    "(merge_1[merge_1.DATA_DE_CONSUMO >= '2021-11-30'].PREDICAO_MEDIA_MOVEL > merge_1[merge_1.DATA_DE_CONSUMO >= '2021-11-30'].PREDICAO_DEEPAR).sum() / len(merge_1[merge_1.DATA_DE_CONSUMO >= '2021-10-31'])"
   ]
  },
  {
   "cell_type": "code",
   "execution_count": 25,
   "id": "d7bbcdf2-a89a-43e6-997a-4bd8ff28f0f4",
   "metadata": {},
   "outputs": [
    {
     "data": {
      "text/plain": [
       "<matplotlib.legend.Legend at 0x2a393088af0>"
      ]
     },
     "execution_count": 25,
     "metadata": {},
     "output_type": "execute_result"
    },
    {
     "data": {
      "image/png": "[encoded data removed]",
      "text/plain": [
       "<Figure size 1500x800 with 1 Axes>"
      ]
     },
     "metadata": {},
     "output_type": "display_data"
    }
   ],
   "source": [
    "fig, axes = plt.subplots(figsize=(15, 8))\n",
    "sns.lineplot(x=\"DATA_DE_CONSUMO\", y=\"RECEITA_MEDIA_MOVEL\", estimator=np.sum, data=merge_1.query(\"DATA_DE_CONSUMO >= '2021-11-30'\"))\n",
    "sns.lineplot(x=\"DATA_DE_CONSUMO\", y=\"RECEITA_DEEPAR\", estimator=np.sum, data=merge_1.query(\"DATA_DE_CONSUMO >= '2021-11-30'\"))\n",
    "\n",
    "plt.legend(labels=[\"CUSTO_MEDIA_MOVEL\",\"CUSTO_DEEPAR\"])"
   ]
  },
  {
   "cell_type": "code",
   "execution_count": 26,
   "id": "3f02d551-eddb-4912-9dc6-59476a47c2ff",
   "metadata": {},
   "outputs": [
    {
     "data": {
      "text/plain": [
       "26777764"
      ]
     },
     "execution_count": 26,
     "metadata": {},
     "output_type": "execute_result"
    }
   ],
   "source": [
    "merge_1.query(\"DATA_DE_CONSUMO >= '2021-11-30'\").RECEITA_MEDIA_MOVEL.sum()"
   ]
  },
  {
   "cell_type": "code",
   "execution_count": 27,
   "id": "2a92af43-aea9-4e06-b052-d1c36b6bffda",
   "metadata": {},
   "outputs": [
    {
     "data": {
      "text/plain": [
       "25030707"
      ]
     },
     "execution_count": 27,
     "metadata": {},
     "output_type": "execute_result"
    }
   ],
   "source": [
    "merge_1.query(\"DATA_DE_CONSUMO >= '2021-11-30'\").RECEITA_DEEPAR.sum()"
   ]
  },
  {
   "cell_type": "markdown",
   "id": "2042022f-c5bc-477b-94ab-ff2d4b204170",
   "metadata": {
    "jp-MarkdownHeadingCollapsed": true,
    "tags": []
   },
   "source": [
    "# Criando Classe para Calcular Receita de Previsões"
   ]
  },
  {
   "cell_type": "code",
   "execution_count": 4,
   "id": "b02bc369-dbdb-4324-90b6-6b54bcd32763",
   "metadata": {},
   "outputs": [],
   "source": [
    "class revenue:\n",
    "    \n",
    "    def calcule_revenue (data_predict=load_data.conect_data.load_table('../../data/data_processed/', 'processed.predict', 'csv', sep=None), data_value=load_data.conect_data.load_table('../../data/data_ingestion/', 'ingestion.itens_input_mvp', 'csv', sep=None)):\n",
    "        valores = []\n",
    "\n",
    "        for item in data_value.NUMERO_REGISTRO_PRODUTO.unique():\n",
    "            frame = data_value.query(f\"NUMERO_REGISTRO_PRODUTO == {item}\")\n",
    "            value = frame[frame.DATA_DE_PEDIDO_DO_ITEM == frame.DATA_DE_PEDIDO_DO_ITEM.max()].CUSTO_DE_AQUISICAO\n",
    "            valores.append([item,value.iloc[0],frame.DATA_DE_PEDIDO_DO_ITEM.max()])\n",
    "\n",
    "        valores = pd.DataFrame(valores, columns=['NUMERO_REGISTRO_PRODUTO', 'VALORES', 'DATA_REFERENCIA'])\n",
    "        \n",
    "        predicoes = data_predict[[\"NUMERO_REGISTRO_PRODUTO\",\"DATA_DE_CONSUMO\",\"QUANTIDADE_SAIDA\",\"PREDICAO_MEDIA_MOVEL\",\"PREDICAO_DEEPAR\"]]\n",
    "        \n",
    "        merge = pd.merge(predicoes,valores,how='left',on='NUMERO_REGISTRO_PRODUTO')\n",
    "        \n",
    "        merge[\"PREDICAO_MEDIA_MOVEL\"] = merge.PREDICAO_MEDIA_MOVEL.fillna(-9999999999).apply(int)\n",
    "        merge[\"PREDICAO_DEEPAR\"] = merge.PREDICAO_DEEPAR.fillna(-9999999999).apply(int)\n",
    "\n",
    "        receita = []\n",
    "        for idx,linha in merge.iterrows():\n",
    "\n",
    "            if linha.PREDICAO_MEDIA_MOVEL < 0:\n",
    "                receita_media_movel = 0\n",
    "            else:\n",
    "                receita_media_movel = linha.PREDICAO_MEDIA_MOVEL * linha.VALORES\n",
    "\n",
    "            if linha.PREDICAO_DEEPAR < 0:\n",
    "                receita_deepAR = 0\n",
    "            else:\n",
    "                receita_deepAR = linha.PREDICAO_DEEPAR * linha.VALORES\n",
    "\n",
    "            receita.append([linha.NUMERO_REGISTRO_PRODUTO,linha.DATA_DE_CONSUMO,receita_media_movel,receita_deepAR])\n",
    "        receita_calculada = pd.DataFrame(receita, columns=['NUMERO_REGISTRO_PRODUTO','DATA_DE_CONSUMO','RECEITA_MEDIA_MOVEL','RECEITA_DEEPAR'])\n",
    "        \n",
    "        merge_1 = pd.merge(merge,receita_calculada,how='left',on=['NUMERO_REGISTRO_PRODUTO','DATA_DE_CONSUMO'])\n",
    "        return merge_1"
   ]
  },
  {
   "cell_type": "code",
   "execution_count": 7,
   "id": "2f72d4d9-45ad-421b-ab67-9831ba6b7350",
   "metadata": {},
   "outputs": [],
   "source": [
    "merge_1 = revenue.calcule_revenue()"
   ]
  },
  {
   "cell_type": "code",
   "execution_count": 8,
   "id": "95e76fb0-7f7f-4baa-bf1b-ff69b55d1299",
   "metadata": {},
   "outputs": [
    {
     "data": {
      "text/html": [
       "<div>\n",
       "<style scoped>\n",
       "    .dataframe tbody tr th:only-of-type {\n",
       "        vertical-align: middle;\n",
       "    }\n",
       "\n",
       "    .dataframe tbody tr th {\n",
       "        vertical-align: top;\n",
       "    }\n",
       "\n",
       "    .dataframe thead th {\n",
       "        text-align: right;\n",
       "    }\n",
       "</style>\n",
       "<table border=\"1\" class=\"dataframe\">\n",
       "  <thead>\n",
       "    <tr style=\"text-align: right;\">\n",
       "      <th></th>\n",
       "      <th>NUMERO_REGISTRO_PRODUTO</th>\n",
       "      <th>DATA_DE_CONSUMO</th>\n",
       "      <th>QUANTIDADE_SAIDA</th>\n",
       "      <th>PREDICAO_MEDIA_MOVEL</th>\n",
       "      <th>PREDICAO_DEEPAR</th>\n",
       "      <th>VALORES</th>\n",
       "      <th>DATA_REFERENCIA</th>\n",
       "      <th>RECEITA_MEDIA_MOVEL</th>\n",
       "      <th>RECEITA_DEEPAR</th>\n",
       "    </tr>\n",
       "  </thead>\n",
       "  <tbody>\n",
       "    <tr>\n",
       "      <th>0</th>\n",
       "      <td>10277002</td>\n",
       "      <td>2020-02-29</td>\n",
       "      <td>21</td>\n",
       "      <td>-9999999999</td>\n",
       "      <td>-9999999999</td>\n",
       "      <td>3611</td>\n",
       "      <td>2021-08-24</td>\n",
       "      <td>0</td>\n",
       "      <td>0</td>\n",
       "    </tr>\n",
       "    <tr>\n",
       "      <th>1</th>\n",
       "      <td>10277002</td>\n",
       "      <td>2020-03-31</td>\n",
       "      <td>18</td>\n",
       "      <td>-9999999999</td>\n",
       "      <td>-9999999999</td>\n",
       "      <td>3611</td>\n",
       "      <td>2021-08-24</td>\n",
       "      <td>0</td>\n",
       "      <td>0</td>\n",
       "    </tr>\n",
       "    <tr>\n",
       "      <th>2</th>\n",
       "      <td>10277002</td>\n",
       "      <td>2020-04-30</td>\n",
       "      <td>56</td>\n",
       "      <td>-9999999999</td>\n",
       "      <td>-9999999999</td>\n",
       "      <td>3611</td>\n",
       "      <td>2021-08-24</td>\n",
       "      <td>0</td>\n",
       "      <td>0</td>\n",
       "    </tr>\n",
       "    <tr>\n",
       "      <th>3</th>\n",
       "      <td>10277002</td>\n",
       "      <td>2020-05-31</td>\n",
       "      <td>0</td>\n",
       "      <td>31</td>\n",
       "      <td>-9999999999</td>\n",
       "      <td>3611</td>\n",
       "      <td>2021-08-24</td>\n",
       "      <td>111941</td>\n",
       "      <td>0</td>\n",
       "    </tr>\n",
       "    <tr>\n",
       "      <th>4</th>\n",
       "      <td>10277002</td>\n",
       "      <td>2020-06-30</td>\n",
       "      <td>21</td>\n",
       "      <td>24</td>\n",
       "      <td>-9999999999</td>\n",
       "      <td>3611</td>\n",
       "      <td>2021-08-24</td>\n",
       "      <td>86664</td>\n",
       "      <td>0</td>\n",
       "    </tr>\n",
       "    <tr>\n",
       "      <th>...</th>\n",
       "      <td>...</td>\n",
       "      <td>...</td>\n",
       "      <td>...</td>\n",
       "      <td>...</td>\n",
       "      <td>...</td>\n",
       "      <td>...</td>\n",
       "      <td>...</td>\n",
       "      <td>...</td>\n",
       "      <td>...</td>\n",
       "    </tr>\n",
       "    <tr>\n",
       "      <th>47995</th>\n",
       "      <td>996640035</td>\n",
       "      <td>2021-09-30</td>\n",
       "      <td>81</td>\n",
       "      <td>10</td>\n",
       "      <td>-9999999999</td>\n",
       "      <td>827</td>\n",
       "      <td>2021-11-14</td>\n",
       "      <td>8270</td>\n",
       "      <td>0</td>\n",
       "    </tr>\n",
       "    <tr>\n",
       "      <th>47996</th>\n",
       "      <td>996640035</td>\n",
       "      <td>2021-10-31</td>\n",
       "      <td>21</td>\n",
       "      <td>36</td>\n",
       "      <td>-9999999999</td>\n",
       "      <td>827</td>\n",
       "      <td>2021-11-14</td>\n",
       "      <td>29772</td>\n",
       "      <td>0</td>\n",
       "    </tr>\n",
       "    <tr>\n",
       "      <th>47997</th>\n",
       "      <td>996640035</td>\n",
       "      <td>2021-11-30</td>\n",
       "      <td>21</td>\n",
       "      <td>35</td>\n",
       "      <td>25</td>\n",
       "      <td>827</td>\n",
       "      <td>2021-11-14</td>\n",
       "      <td>28945</td>\n",
       "      <td>20675</td>\n",
       "    </tr>\n",
       "    <tr>\n",
       "      <th>47998</th>\n",
       "      <td>996640035</td>\n",
       "      <td>2021-12-31</td>\n",
       "      <td>0</td>\n",
       "      <td>41</td>\n",
       "      <td>20</td>\n",
       "      <td>827</td>\n",
       "      <td>2021-11-14</td>\n",
       "      <td>33907</td>\n",
       "      <td>16540</td>\n",
       "    </tr>\n",
       "    <tr>\n",
       "      <th>47999</th>\n",
       "      <td>996640035</td>\n",
       "      <td>2022-01-31</td>\n",
       "      <td>6</td>\n",
       "      <td>14</td>\n",
       "      <td>18</td>\n",
       "      <td>827</td>\n",
       "      <td>2021-11-14</td>\n",
       "      <td>11578</td>\n",
       "      <td>14886</td>\n",
       "    </tr>\n",
       "  </tbody>\n",
       "</table>\n",
       "<p>48000 rows × 9 columns</p>\n",
       "</div>"
      ],
      "text/plain": [
       "       NUMERO_REGISTRO_PRODUTO DATA_DE_CONSUMO  QUANTIDADE_SAIDA  \\\n",
       "0                     10277002      2020-02-29                21   \n",
       "1                     10277002      2020-03-31                18   \n",
       "2                     10277002      2020-04-30                56   \n",
       "3                     10277002      2020-05-31                 0   \n",
       "4                     10277002      2020-06-30                21   \n",
       "...                        ...             ...               ...   \n",
       "47995                996640035      2021-09-30                81   \n",
       "47996                996640035      2021-10-31                21   \n",
       "47997                996640035      2021-11-30                21   \n",
       "47998                996640035      2021-12-31                 0   \n",
       "47999                996640035      2022-01-31                 6   \n",
       "\n",
       "       PREDICAO_MEDIA_MOVEL  PREDICAO_DEEPAR  VALORES DATA_REFERENCIA  \\\n",
       "0               -9999999999      -9999999999     3611      2021-08-24   \n",
       "1               -9999999999      -9999999999     3611      2021-08-24   \n",
       "2               -9999999999      -9999999999     3611      2021-08-24   \n",
       "3                        31      -9999999999     3611      2021-08-24   \n",
       "4                        24      -9999999999     3611      2021-08-24   \n",
       "...                     ...              ...      ...             ...   \n",
       "47995                    10      -9999999999      827      2021-11-14   \n",
       "47996                    36      -9999999999      827      2021-11-14   \n",
       "47997                    35               25      827      2021-11-14   \n",
       "47998                    41               20      827      2021-11-14   \n",
       "47999                    14               18      827      2021-11-14   \n",
       "\n",
       "       RECEITA_MEDIA_MOVEL  RECEITA_DEEPAR  \n",
       "0                        0               0  \n",
       "1                        0               0  \n",
       "2                        0               0  \n",
       "3                   111941               0  \n",
       "4                    86664               0  \n",
       "...                    ...             ...  \n",
       "47995                 8270               0  \n",
       "47996                29772               0  \n",
       "47997                28945           20675  \n",
       "47998                33907           16540  \n",
       "47999                11578           14886  \n",
       "\n",
       "[48000 rows x 9 columns]"
      ]
     },
     "execution_count": 8,
     "metadata": {},
     "output_type": "execute_result"
    }
   ],
   "source": [
    "merge_1"
   ]
  },
  {
   "cell_type": "code",
   "execution_count": 9,
   "id": "27281f42-3ee1-48f5-a913-11361234e478",
   "metadata": {},
   "outputs": [
    {
     "data": {
      "text/plain": [
       "RECEITA_MEDIA_MOVEL    99575329\n",
       "RECEITA_DEEPAR         88601497\n",
       "dtype: int64"
      ]
     },
     "execution_count": 9,
     "metadata": {},
     "output_type": "execute_result"
    }
   ],
   "source": [
    "merge_1[(merge_1.DATA_DE_CONSUMO >= '2021-11-30') & (merge_1.DATA_DE_CONSUMO <= '2021-11-31')][[\"RECEITA_MEDIA_MOVEL\",\"RECEITA_DEEPAR\"]].sum()"
   ]
  },
  {
   "cell_type": "code",
   "execution_count": null,
   "id": "f3f92c9c-b574-43f2-9302-d91d2bad3390",
   "metadata": {},
   "outputs": [],
   "source": []
  }
 ],
 "metadata": {
  "kernelspec": {
   "display_name": "Python 3 (ipykernel)",
   "language": "python",
   "name": "python3"
  },
  "language_info": {
   "codemirror_mode": {
    "name": "ipython",
    "version": 3
   },
   "file_extension": ".py",
   "mimetype": "text/x-python",
   "name": "python",
   "nbconvert_exporter": "python",
   "pygments_lexer": "ipython3",
   "version": "3.9.0"
  }
 },
 "nbformat": 4,
 "nbformat_minor": 5
}
